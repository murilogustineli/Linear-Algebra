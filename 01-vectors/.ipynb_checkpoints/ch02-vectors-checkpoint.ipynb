{
 "cells": [
  {
   "cell_type": "markdown",
   "id": "676f5a08-81c8-4574-93d8-88f14985ab09",
   "metadata": {},
   "source": [
    "# Linear Algebra\n",
    "## Ch02 - Vectors"
   ]
  },
  {
   "cell_type": "code",
   "execution_count": null,
   "id": "9612d2e5-c6d6-480a-bf48-d6f3b9cfe2a6",
   "metadata": {},
   "outputs": [],
   "source": [
    "import numpy as np\n",
    "import matplotlib.pyplot as plt\n",
    "import seaborn as sns\n",
    "from mpl_toolkits.mplot3d import Axes3D"
   ]
  },
  {
   "cell_type": "code",
   "execution_count": null,
   "id": "af6c1e1b-5ad9-4a05-8ca8-ee82291ef49b",
   "metadata": {},
   "outputs": [],
   "source": [
    "# Visualize vectors\n",
    "# Same vectors, different coordinates\n",
    "v1 = np.array([1, -2])\n",
    "v2 = np.array([-1,-1])\n",
    "v3 = np.array([2, 0])\n",
    "\n",
    "# Plot vectors\n",
    "plt.figure(figsize=(5,5), dpi=100)\n",
    "sns.set_theme(style='darkgrid')\n",
    "plt.plot([0,v1[0]], [0, v1[1]], label='v1')\n",
    "plt.plot([-2,v2[0]], [1, v2[1]], label='v2')\n",
    "plt.plot([1,v3[0]], [2,v3[1]], label='v3')\n",
    "\n",
    "# Plot axis\n",
    "def plot_axis(vector_list, ax=3):\n",
    "    plt.plot([-ax, ax],[0, 0],'k--')\n",
    "    plt.plot([0, 0],[-ax, ax],'k--')\n",
    "    plt.grid(color='blue', linestyle='--', linewidth=1, alpha=0.2)\n",
    "    plt.legend(loc='upper left')\n",
    "    plt.axis([-ax,ax,-ax,ax]);\n",
    "    \n",
    "plot_axis(vector_list=[v1,v2,v3], ax=3)"
   ]
  },
  {
   "cell_type": "code",
   "execution_count": null,
   "id": "3f672d47-e332-445b-aec6-0f46596d87bf",
   "metadata": {},
   "outputs": [],
   "source": [
    "# Different vector orientations\n",
    "v1 = [2, 5, 4, 7] # list\n",
    "v2 = np.array([2, 5, 4, 7]) # array, no orientation\n",
    "v3 = np.array([[2], [5], [4], [7]]) # column vector\n",
    "v4 = np.array([[2, 5, 4, 7]]) # row vector\n",
    "\n",
    "print(v1, '\\n')\n",
    "print(v2, '\\n')\n",
    "print(v3, '\\n')\n",
    "print(v4)"
   ]
  },
  {
   "cell_type": "code",
   "execution_count": null,
   "id": "417e21b3-f3c9-4609-ad2c-30fef468b484",
   "metadata": {},
   "outputs": [],
   "source": [
    "# Transposing vectors\n",
    "v1 = np.array([[2,5,4,7]]) # row vector\n",
    "v2 = v1.T\n",
    "print(v2)"
   ]
  },
  {
   "cell_type": "markdown",
   "id": "c3e11b51-d13c-48c5-a926-2ccd926265fe",
   "metadata": {},
   "source": [
    "## Adding vectors"
   ]
  },
  {
   "cell_type": "code",
   "execution_count": null,
   "id": "bfa76cdb-cbdd-4049-9b10-4dec6404fad0",
   "metadata": {
    "tags": []
   },
   "outputs": [],
   "source": [
    "a = np.array([1,2])\n",
    "b = np.array([2,-1])\n",
    "c = a + b\n",
    "\n",
    "# Function to plot vectors\n",
    "def add_vectors(vector_list):\n",
    "    plt.figure(figsize=(5,5), dpi=100)\n",
    "    for v in vector_list:\n",
    "        plt.plot([0, v[0]], [0, v[1]], label=str(v))\n",
    "    plot_axis(vector_list, ax=4)\n",
    "    \n",
    "add_vectors(vector_list=[a,b,c])"
   ]
  },
  {
   "cell_type": "code",
   "execution_count": null,
   "id": "130b2a2d-35f6-41f9-aa47-f478989d49c8",
   "metadata": {},
   "outputs": [],
   "source": [
    "# Two vectors in R2\n",
    "v1 = np.array([3, -1])\n",
    "v2 = np.array([2,  4])\n",
    "v3 = v1 + v2\n",
    "\n",
    "# Plot vectors\n",
    "plt.figure(figsize=(5,5), dpi=100)\n",
    "plt.plot([0, v1[0]],[0, v1[1]],'b',label='v1')\n",
    "plt.plot([0, v2[0]]+v1[0],[0, v2[1]]+v1[1],'r',label='v2')\n",
    "plt.plot([0, v3[0]],[0, v3[1]],'g',label='v1+v2')\n",
    "\n",
    "plot_axis(vector_list=[v1,v2,v3], ax=6)\n",
    "plt.show()"
   ]
  },
  {
   "cell_type": "markdown",
   "id": "e4f1b8a3-bc58-4f68-8064-6e72b33e491c",
   "metadata": {
    "tags": []
   },
   "source": [
    "## Subtracting vectors: a - b"
   ]
  },
  {
   "cell_type": "code",
   "execution_count": null,
   "id": "71babb76-51f2-426e-86c1-accf26eb6e02",
   "metadata": {},
   "outputs": [],
   "source": [
    "a = np.array([1,2])\n",
    "b = np.array([2,-1])\n",
    "c = a - b # a - b = -(b - a)\n",
    "\n",
    "# Function to plot vectors\n",
    "def sub_vectors(vector_list):\n",
    "    plt.figure(figsize=(5,5), dpi=100)\n",
    "    for v in vector_list:\n",
    "        plt.plot([0, v[0]], [0, v[1]], label=str(v))\n",
    "    plot_axis(vector_list, ax=4)\n",
    "    \n",
    "sub_vectors(vector_list=[a,b,c])"
   ]
  },
  {
   "cell_type": "markdown",
   "id": "6b3e987e-74e9-4455-8b60-77b59bf822af",
   "metadata": {},
   "source": [
    "## Subtracting vectors: b - a"
   ]
  },
  {
   "cell_type": "code",
   "execution_count": null,
   "id": "02826ea8-6536-4fb3-a2e7-b3c6be630e43",
   "metadata": {},
   "outputs": [],
   "source": [
    "a = np.array([1,2])\n",
    "b = np.array([2,-1])\n",
    "c = b - a\n",
    "\n",
    "# Function to plot vectors\n",
    "def sub_vectors(vector_list):\n",
    "    plt.figure(figsize=(5,5), dpi=100)\n",
    "    for v in vector_list:\n",
    "        plt.plot([0, v[0]], [0, v[1]], label=str(v))\n",
    "    plot_axis(vector_list, ax=4)\n",
    "    \n",
    "sub_vectors(vector_list=[a,b,c])"
   ]
  },
  {
   "cell_type": "code",
   "execution_count": null,
   "id": "4bea8f27-e5b4-4ba4-8afa-cf8d3a22f8d5",
   "metadata": {},
   "outputs": [],
   "source": [
    "a = np.array([4,2,0])\n",
    "b = np.array([6,-4,-60])\n",
    "c = np.array([2,-5,40])\n",
    "x = a-b+c\n",
    "print(x)"
   ]
  },
  {
   "cell_type": "markdown",
   "id": "06aa3b31-0b59-4c9c-a71b-67eb47ce203f",
   "metadata": {},
   "source": [
    "## Vector-scalar multiplication"
   ]
  },
  {
   "cell_type": "code",
   "execution_count": null,
   "id": "261313eb-8c82-4f4d-9bf5-d4d5ed05b2cd",
   "metadata": {},
   "outputs": [],
   "source": [
    "v1 = np.array([2, 5, 4, 7])\n",
    "v2 = np.array([4, 1, 0, 2])\n",
    "v3 = 4*v1 - 2*v2\n",
    "print(v3)"
   ]
  },
  {
   "cell_type": "markdown",
   "id": "d1745735-0cb1-4016-9560-e4956eabe66d",
   "metadata": {},
   "source": [
    "## Code challenge 2.8\n",
    "pg. 41 - Create a 2D vector **v**, 10 scalars that are drawn at random from a normal (Gaussian) distribution, and plot all 10 scalar-vector multiplications on top of each other. What do you notice?"
   ]
  },
  {
   "cell_type": "code",
   "execution_count": null,
   "id": "2738fe98-a22b-44ba-b2a4-89ae81b1a357",
   "metadata": {},
   "outputs": [],
   "source": [
    "# Plot axis function\n",
    "def plot_axis(vector_list, ax=3):\n",
    "    plt.plot([-ax, ax],[0, 0],'k--')\n",
    "    plt.plot([0, 0],[-ax, ax],'k--')\n",
    "    plt.grid(color='blue', linestyle='--', linewidth=1, alpha=0.2)\n",
    "    plt.axis([-ax,ax,-ax,ax]);"
   ]
  },
  {
   "cell_type": "code",
   "execution_count": null,
   "id": "bd3aabda-c445-414c-ba7d-b770849b5503",
   "metadata": {},
   "outputs": [],
   "source": [
    "# Create 2D vector\n",
    "v = np.array([1,2])\n",
    "\n",
    "vectors = []\n",
    "for i in range(10):\n",
    "    scalar = np.random.randn()\n",
    "    vector = scalar*v\n",
    "    vectors.append(scalar*v)\n",
    "    \n",
    "plt.figure(figsize=(5,5), dpi=100)  \n",
    "for v in vectors:\n",
    "    plt.plot([0, v[0]], [0, v[1]])\n",
    "\n",
    "plot_axis(vectors, ax=np.max(vectors)+0.5)"
   ]
  },
  {
   "cell_type": "code",
   "execution_count": null,
   "id": "3e54ef7a-ca28-4538-a692-547d1d301d20",
   "metadata": {},
   "outputs": [],
   "source": []
  }
 ],
 "metadata": {
  "kernelspec": {
   "display_name": "Python 3 (ipykernel)",
   "language": "python",
   "name": "python3"
  },
  "language_info": {
   "codemirror_mode": {
    "name": "ipython",
    "version": 3
   },
   "file_extension": ".py",
   "mimetype": "text/x-python",
   "name": "python",
   "nbconvert_exporter": "python",
   "pygments_lexer": "ipython3",
   "version": "3.8.13"
  }
 },
 "nbformat": 4,
 "nbformat_minor": 5
}
