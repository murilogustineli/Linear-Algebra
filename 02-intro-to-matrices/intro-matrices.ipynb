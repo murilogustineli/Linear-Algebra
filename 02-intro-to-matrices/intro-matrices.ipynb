{
 "cells": [
  {
   "cell_type": "markdown",
   "id": "f3205e33",
   "metadata": {},
   "source": [
    "# Linear Algebra\n",
    "## Ch05 - Intro to Matrices"
   ]
  },
  {
   "cell_type": "markdown",
   "id": "596446ea",
   "metadata": {},
   "source": [
    "## Matrix terminology and dimensionality\n",
    "\n",
    "Notation:\n",
    "\n",
    "$$\\large\n",
    "A=\\begin{bmatrix}\n",
    "1 & 6 & 0\\\\\n",
    "7 & 2 & 4\\\\\n",
    "4 & 1 & 1\n",
    "\\end{bmatrix} \\ \\ \\ \\ \\ \\ \\ \\ \\ \\ a_{1,2} =6\n",
    "$$\n",
    "\n",
    "This is a $3\\times 3$ Matrix. Where:\n",
    "- $\\mathbb{R}^{M\\times N}$\n",
    "- M = Rows\n",
    "- N = Columns\n",
    "\n",
    "Note: $\\mathbb{R}^{M\\times N}$ is **different** than $\\mathbb{R}^{MN}$.\n",
    "\n",
    "Dimensionality refers to the **number of elements** in the matrix."
   ]
  },
  {
   "cell_type": "code",
   "execution_count": 1,
   "id": "cc48c806",
   "metadata": {},
   "outputs": [],
   "source": [
    "import numpy as np"
   ]
  },
  {
   "cell_type": "code",
   "execution_count": 2,
   "id": "2e40ee0f",
   "metadata": {},
   "outputs": [
    {
     "name": "stdout",
     "output_type": "stream",
     "text": [
      "Square:\n",
      "[[-0.5 -0.7 -1.8 -0.2  1.9]\n",
      " [ 1.6  1.2 -1.1  0.4  0. ]\n",
      " [ 0.1  0.6 -1.7 -1.1  1.5]\n",
      " [ 0.2  0.3 -1.2  0.1 -0.3]\n",
      " [ 1.   0.7  0.7  0.2 -0.5]]\n",
      "\n",
      "Rectangular:\n",
      "[[-1.3 -0.3]\n",
      " [ 0.4  0.1]\n",
      " [-0.1  0.6]\n",
      " [ 0.7  0.1]\n",
      " [ 0.3  0.6]]\n",
      "\n",
      "Identity:\n",
      "[[1. 0. 0.]\n",
      " [0. 1. 0.]\n",
      " [0. 0. 1.]]\n",
      "\n",
      "Zeros:\n",
      "[[0. 0. 0. 0.]\n",
      " [0. 0. 0. 0.]\n",
      " [0. 0. 0. 0.]\n",
      " [0. 0. 0. 0.]]\n",
      "\n",
      "Diagonal:\n",
      "[[1 0 0 0 0]\n",
      " [0 2 0 0 0]\n",
      " [0 0 3 0 0]\n",
      " [0 0 0 5 0]\n",
      " [0 0 0 0 2]]\n",
      "\n",
      "Lower Triangular:\n",
      "[[-0.5  0.   0.   0.   0. ]\n",
      " [ 0.2  0.4  0.   0.   0. ]\n",
      " [ 0.6 -2.7  0.4  0.   0. ]\n",
      " [-0.2 -1.6 -0.6  0.7  0. ]\n",
      " [ 0.1  0.8  0.2  0.9 -0.1]]\n",
      "\n",
      "Concatenate A & B:\n",
      "[[ 1. -0. -0. -0. -1. -0.]\n",
      " [ 1. -1.  1.  0. -2. -2.]\n",
      " [-0.  2.  1.  1. -1. -0.]]\n"
     ]
    }
   ],
   "source": [
    "# Square vs. Rectangular\n",
    "S = np.round(np.random.randn(5, 5), 1)\n",
    "R = np.round(np.random.randn(5, 2), 1) # 5 rows, 2 columns\n",
    "print(f\"Square:\\n{S}\"), print('')\n",
    "print(f\"Rectangular:\\n{R}\"), print('')\n",
    "\n",
    "# Identity\n",
    "I = np.eye(3)\n",
    "print(f\"Identity:\\n{I}\"), print('')\n",
    "\n",
    "# Zeros\n",
    "Z = np.zeros((4, 4))\n",
    "print(f\"Zeros:\\n{Z}\"), print('')\n",
    "\n",
    "# Diagonal\n",
    "D = np.diag([1, 2, 3, 5, 2])\n",
    "print(f\"Diagonal:\\n{D}\"), print('')\n",
    "\n",
    "# Create triangular matrix from full matrices\n",
    "S = np.random.randn(5, 5)\n",
    "U = np.triu(S)\n",
    "L = np.tril(S)\n",
    "print(f\"Lower Triangular:\\n{np.round(L,1)}\"), print('')\n",
    "\n",
    "# Concatenate matrices (sizes must match!)\n",
    "A = np.random.randn(3, 2)\n",
    "B = np.random.randn(3, 4)\n",
    "C = np.concatenate((A, B), axis=1)\n",
    "print(f\"Concatenate A & B:\\n{np.round(C)}\")"
   ]
  },
  {
   "cell_type": "markdown",
   "id": "a930857d",
   "metadata": {},
   "source": [
    "## Matrix addition and subtraction\n",
    "Matrix addition is cummutative and associative.\n",
    "\n",
    "$$\\large\n",
    " \\begin{array}{l}\n",
    "A+B\\ =\\ B+A\\\\\n",
    "\\\\\n",
    "A+( B+C) =( A+B) +C\n",
    "\\end{array}\n",
    "$$\n"
   ]
  },
  {
   "cell_type": "code",
   "execution_count": 3,
   "id": "6d82c2ce",
   "metadata": {},
   "outputs": [
    {
     "data": {
      "text/plain": [
       "array([[1, 6],\n",
       "       [7, 2]])"
      ]
     },
     "execution_count": 3,
     "metadata": {},
     "output_type": "execute_result"
    }
   ],
   "source": [
    "A = np.array([[1,2], [3,0]])\n",
    "B = np.array([[0,4], [4,2]])\n",
    "\n",
    "# Addition\n",
    "A+B"
   ]
  },
  {
   "cell_type": "code",
   "execution_count": 4,
   "id": "cb8b505c",
   "metadata": {},
   "outputs": [
    {
     "data": {
      "text/plain": [
       "array([[ 1, -2,  0],\n",
       "       [-1, -2, -4]])"
      ]
     },
     "execution_count": 4,
     "metadata": {},
     "output_type": "execute_result"
    }
   ],
   "source": [
    "A = np.array([[1,2,-3], [3,0,-2]])\n",
    "B = np.array([[0,4,-3], [4,2,2]])\n",
    "\n",
    "# Subtraction\n",
    "A-B"
   ]
  },
  {
   "cell_type": "markdown",
   "id": "703048c8",
   "metadata": {},
   "source": [
    "## Matrix-scalar multiplication\n",
    "\n",
    "Matrix multiplication works element-wise.\n",
    "\n",
    "$$\\large\n",
    " \\begin{array}{l}\n",
    "\\delta \\begin{bmatrix}\n",
    "a & b\\\\\n",
    "c & d\n",
    "\\end{bmatrix} =\\begin{bmatrix}\n",
    "\\delta a & \\delta b\\\\\n",
    "\\delta c & \\delta d\n",
    "\\end{bmatrix} =\\begin{bmatrix}\n",
    "a\\delta  & b\\delta \\\\\n",
    "c\\delta  & d\\delta \n",
    "\\end{bmatrix} =\\begin{bmatrix}\n",
    "a & b\\\\\n",
    "c & d\n",
    "\\end{bmatrix} \\delta \\\\\n",
    "\\\\\n",
    "\\delta MA=M\\delta A=MA\\delta \n",
    "\\end{array}\n",
    "$$"
   ]
  },
  {
   "cell_type": "code",
   "execution_count": 5,
   "id": "8b441a3d",
   "metadata": {},
   "outputs": [
    {
     "name": "stdout",
     "output_type": "stream",
     "text": [
      "[[ 2  4]\n",
      " [ 4 10]] \n",
      "\n",
      "[[ 2  4]\n",
      " [ 4 10]]\n"
     ]
    }
   ],
   "source": [
    "# Define matrix and scalar\n",
    "M = np.array([[1, 2], [2, 5]])\n",
    "s = 2\n",
    "\n",
    "# Pre and post-multiplication is the same:\n",
    "print(M*s, '\\n')\n",
    "print(s*M)"
   ]
  },
  {
   "cell_type": "markdown",
   "id": "2a1ad0c0",
   "metadata": {},
   "source": [
    "## Code challenge: is matrix multiplication a linear operation?\n",
    "Test for some random $M\\times N$ matrices whether s(A+B) = sA + sB "
   ]
  },
  {
   "cell_type": "code",
   "execution_count": 6,
   "id": "893a1875",
   "metadata": {},
   "outputs": [
    {
     "name": "stdout",
     "output_type": "stream",
     "text": [
      "[[ -2.8    0.28   1.96]\n",
      " [ -0.28   8.68  -1.96]\n",
      " [  3.92  -0.28  -3.36]\n",
      " [  4.2    0.84 -10.36]]\n",
      "\n",
      "[[ -2.8    0.28   1.96]\n",
      " [ -0.28   8.68  -1.96]\n",
      " [  3.92  -0.28  -3.36]\n",
      " [  4.2    0.84 -10.36]]\n"
     ]
    }
   ],
   "source": [
    "M = 4\n",
    "N = 3\n",
    "A = np.round(np.random.randn(M, N), 1)\n",
    "B = np.round(np.random.randn(M, N), 1)\n",
    "s = np.round(np.random.randn(1), 1)\n",
    "\n",
    "# Check s(A+B) & sA + sB\n",
    "resL = s*(A+B)\n",
    "resR = s*A + s*B\n",
    "\n",
    "print(resL), print()\n",
    "print(resR)"
   ]
  },
  {
   "cell_type": "markdown",
   "id": "213d53e8",
   "metadata": {},
   "source": [
    "## Transpose\n",
    "The transpose operation is a way of flipping a matrix by converting rows into columns and columns into rows.\n",
    "\n",
    "$$\\large\n",
    " \\begin{array}{l}\n",
    "\\begin{bmatrix}\n",
    "1 & 5\\\\\n",
    "0 & 6\\\\\n",
    "2 & 8\\\\\n",
    "5 & 3\\\\\n",
    "-2 & 0\n",
    "\\end{bmatrix}^{T} =\\begin{bmatrix}\n",
    "1 & 0 & 2 & 5 & -2\\\\\n",
    "5 & 6 & 8 & 3 & 0\n",
    "\\end{bmatrix}^{T} =\\begin{bmatrix}\n",
    "1 & 5\\\\\n",
    "0 & 6\\\\\n",
    "2 & 8\\\\\n",
    "5 & 3\\\\\n",
    "-2 & 0\n",
    "\\end{bmatrix}\\\\\n",
    "\\\\\n",
    "A^{TT} =A\n",
    "\\end{array}\n",
    "$$"
   ]
  },
  {
   "cell_type": "code",
   "execution_count": 7,
   "id": "b9f87886",
   "metadata": {},
   "outputs": [
    {
     "name": "stdout",
     "output_type": "stream",
     "text": [
      "[[1 2 3]\n",
      " [2 3 4]]\n",
      "\n",
      "[[1 2]\n",
      " [2 3]\n",
      " [3 4]]\n",
      "\n",
      "[[1 2 3]\n",
      " [2 3 4]]\n",
      "\n",
      "[[1 2]\n",
      " [2 3]\n",
      " [3 4]]\n"
     ]
    }
   ],
   "source": [
    "# Define matrix\n",
    "M = np.array([ [1,2,3],\n",
    "               [2,3,4] ])\n",
    "\n",
    "print(M), print('')\n",
    "print(M.T), print('') # one transpose\n",
    "print(M.T.T), print('') # double-transpose returns the original matrix\n",
    "\n",
    "# Can also use the function transpose\n",
    "print(np.transpose(M))"
   ]
  },
  {
   "cell_type": "code",
   "execution_count": 8,
   "id": "b58026b1",
   "metadata": {},
   "outputs": [
    {
     "name": "stdout",
     "output_type": "stream",
     "text": [
      "[[4.+1.j 3.+0.j 2.-4.j]]\n",
      "\n",
      "[[4.+1.j]\n",
      " [3.+0.j]\n",
      " [2.-4.j]]\n",
      "\n",
      "[[4.+1.j]\n",
      " [3.+0.j]\n",
      " [2.-4.j]]\n",
      "\n",
      "[[4.-1.j]\n",
      " [3.-0.j]\n",
      " [2.+4.j]]\n"
     ]
    }
   ],
   "source": [
    "# Warning! be careful when using complex matrices\n",
    "C = np.array([[4+1j , 3 , 2-4j]])\n",
    "\n",
    "print(C), print('')\n",
    "print(C.T), print('')\n",
    "print(np.transpose(C)), print('')\n",
    "\n",
    "# Note: In MATLAB, the transpose is the Hermitian transpose; \n",
    "#       in Python, you need to call the Hermitian explicitly by first converting from an array into a matrix\n",
    "print(np.matrix(C).H) # note the sign flips!"
   ]
  },
  {
   "cell_type": "markdown",
   "id": "bd12a113",
   "metadata": {},
   "source": [
    "## Symmetric matrices"
   ]
  },
  {
   "cell_type": "code",
   "execution_count": 9,
   "id": "cd13298c",
   "metadata": {},
   "outputs": [
    {
     "name": "stdout",
     "output_type": "stream",
     "text": [
      "[[2 3 6]\n",
      " [3 4 5]\n",
      " [6 5 9]]\n",
      "\n",
      "[[2 3 6]\n",
      " [3 4 5]\n",
      " [6 5 9]]\n",
      "\n",
      "[[ True  True  True]\n",
      " [ True  True  True]\n",
      " [ True  True  True]]\n"
     ]
    }
   ],
   "source": [
    "B = np.array([[2,3,6],[3,4,5],[6,5,9]])\n",
    "A = B.T\n",
    "\n",
    "print(B), print()\n",
    "print(A), print()\n",
    "print(A == B)"
   ]
  },
  {
   "cell_type": "markdown",
   "id": "0ca81841",
   "metadata": {},
   "source": [
    "### Quiz\n",
    "If $A=B^T$ and B is symmetric, then $A^T+B = 2\\times A$"
   ]
  },
  {
   "cell_type": "code",
   "execution_count": 10,
   "id": "bdcd5df9",
   "metadata": {},
   "outputs": [
    {
     "name": "stdout",
     "output_type": "stream",
     "text": [
      "[[ 4  6 12]\n",
      " [ 6  8 10]\n",
      " [12 10 18]]\n",
      "\n",
      "[[ 4  6 12]\n",
      " [ 6  8 10]\n",
      " [12 10 18]]\n"
     ]
    }
   ],
   "source": [
    "print(A.T+B), print()\n",
    "print(2*A)"
   ]
  },
  {
   "cell_type": "markdown",
   "id": "4b741e36",
   "metadata": {},
   "source": [
    "## Diagonal\n",
    "The diagonal elements of a matrix can be extracted into a vector. As a function, diagonalization takes a matrix as input and returns a vector as output.\n",
    "\n",
    "$$\\large\n",
    " \\begin{array}{l}\n",
    "\\text{diag}\\begin{pmatrix}\n",
    "\\begin{bmatrix}\n",
    "1 & -1 & 8\\\\\n",
    "-1 & -2 & 4\\\\\n",
    "0 & 3 & 5\n",
    "\\end{bmatrix}\n",
    "\\end{pmatrix} =\\begin{bmatrix}\n",
    "1\\\\\n",
    "-2\\\\\n",
    "5\n",
    "\\end{bmatrix}\\\\\n",
    "\\\\\n",
    "\\text{diag}\\begin{pmatrix}\n",
    "\\begin{bmatrix}\n",
    "1 & -1\\\\\n",
    "-1 & -2\\\\\n",
    "0 & 3\n",
    "\\end{bmatrix}\n",
    "\\end{pmatrix} =\\begin{bmatrix}\n",
    "1\\\\\n",
    "-2\n",
    "\\end{bmatrix}\n",
    "\\end{array}\n",
    "$$\n",
    "\n",
    "## Trace\n",
    "The trace is the sum of all the diagonal elements of a matrix. Note, the trace is only defined for square matrices ($M=N$).\n",
    "\n",
    "$$\\large\n",
    "\\text{trace}\\begin{pmatrix}\n",
    "\\begin{bmatrix}\n",
    "1 & -1 & 8\\\\\n",
    "-1 & -2 & 4\\\\\n",
    "0 & 3 & 5\n",
    "\\end{bmatrix}\n",
    "\\end{pmatrix} =1+( -2) +5=4\n",
    "$$\n",
    "\n",
    "### Diagonal and trace: formal definitions\n",
    "**Diagonal:**\n",
    "\n",
    "$$\\large\n",
    "v_{i} =A_{i,i} ,\\ \\ \\ \\ \\ \\ \\ i=\\{1,2,...,min( M,N)\\}\n",
    "$$\n",
    "\n",
    "**Trace:**\n",
    "\n",
    "$$\\large\n",
    "tr( A) =\\sum _{i=1}^{m} A_{i,i}\n",
    "$$"
   ]
  },
  {
   "cell_type": "code",
   "execution_count": 11,
   "id": "66fa1be6",
   "metadata": {},
   "outputs": [
    {
     "name": "stdout",
     "output_type": "stream",
     "text": [
      "Matrix:\n",
      "[[  1.   9.  -3.   2.]\n",
      " [  6.  -3.  -5.  -2.]\n",
      " [  1.   2.  -3. -10.]\n",
      " [ -0.   4.   4.  -4.]]\n",
      "\n",
      "Diagonal; input is matrix, output is vector:\n",
      "[ 1. -3. -3. -4.]\n",
      "\n",
      "Diagonal; input is vector, output is matrix:\n",
      "[[ 1.  0.  0.  0.]\n",
      " [ 0. -3.  0.  0.]\n",
      " [ 0.  0. -3.  0.]\n",
      " [ 0.  0.  0. -4.]]\n",
      "\n",
      "Trace:\n",
      "-9.0 -9.0\n"
     ]
    }
   ],
   "source": [
    "# Define matrix\n",
    "M = np.round(6*np.random.randn(4,4))\n",
    "print(\"Matrix:\")\n",
    "print(M), print()\n",
    "\n",
    "# Extract the diagonals\n",
    "d = np.diag(M)\n",
    "\n",
    "# Notice the two ways of using the diag function\n",
    "d = np.diag(M) # input is matrix, output is vector\n",
    "D = np.diag(d) # input is vector, output is matrix\n",
    "print('Diagonal; input is matrix, output is vector:')\n",
    "print(d), print()\n",
    "\n",
    "print('Diagonal; input is vector, output is matrix:')\n",
    "print(D), print()\n",
    "\n",
    "# Trace as sum of diagonal elements\n",
    "tr = np.trace(M)\n",
    "tr2 = sum(np.diag(M))\n",
    "print('Trace:')\n",
    "print(tr, tr2)"
   ]
  },
  {
   "cell_type": "markdown",
   "id": "4c918be1",
   "metadata": {},
   "source": [
    "## Code challenge: linearity of trace\n",
    "1. Determine the relationship between $\\text{trace}(A) + \\text{trace}(B)$ and $\\text{trace}(A+B)$\n",
    "2. Determine the relationship between $\\text{trace}(l\\times A)$ and $l\\times \\text{trace}(A)$"
   ]
  },
  {
   "cell_type": "code",
   "execution_count": 12,
   "id": "b5e1c880",
   "metadata": {},
   "outputs": [
    {
     "name": "stdout",
     "output_type": "stream",
     "text": [
      "Matrix A:\n",
      "[[ 1.   0.2 -1.7  1.3]\n",
      " [ 0.9  0.8  1.3 -0. ]\n",
      " [ 0.   1.  -0.2 -1. ]\n",
      " [-0.2 -0.2 -0.7 -0. ]]\n",
      "\n",
      "Matrix B:\n",
      "[[-0.4 -1.2  1.8 -2.7]\n",
      " [-0.3  0.6 -0.2  2.1]\n",
      " [-0.3 -0.2  0.4 -1.4]\n",
      " [ 0.3 -0.1 -1.8 -0.8]]\n",
      "\n",
      "scalar:\n",
      "[-65.4]\n",
      "\n",
      "tr(A) + tr(B): 1.4\n",
      "tr(A+B): 1.4\n",
      "\n",
      "trace(l*A): -104.6\n",
      "l*trace(A): -104.6\n"
     ]
    }
   ],
   "source": [
    "# Sizes\n",
    "M = 4\n",
    "N = 4\n",
    "\n",
    "# Define matrices A & B\n",
    "A = np.round(np.random.randn(M,N),1)\n",
    "B = np.round(np.random.randn(M,N),1)\n",
    "l = np.round(20*np.random.randn(1),1)\n",
    "print('Matrix A:'), print(A), print()\n",
    "print('Matrix B:'), print(B), print()\n",
    "print('scalar:'), print(l), print()\n",
    "\n",
    "# 1. Determine the relationship between trace(𝐴) + trace(𝐵) and trace(𝐴+𝐵)\n",
    "tr1 = np.trace(A) + np.trace(B)\n",
    "tr2 = np.trace(A+B)\n",
    "print('tr(A) + tr(B):', np.round(tr1, 1))\n",
    "print('tr(A+B):', np.round(tr2, 1)), print()\n",
    "\n",
    "# 2. Determine the relationship between trace(𝑙×𝐴) and 𝑙×trace(𝐴)\n",
    "tr3 = np.trace(l*A)\n",
    "tr4 = float(l*np.trace(A))\n",
    "print('trace(l*A):', np.round(tr3, 1))\n",
    "print('l*trace(A):', np.round(tr4, 1))"
   ]
  },
  {
   "cell_type": "markdown",
   "id": "fbae0d59",
   "metadata": {},
   "source": [
    "## Broadcasting matrix arithmetic\n",
    "Broadcasting solves the problem of arithmetic between arrays of differing shapes by in effect replicating the smaller array along the last mismatched dimension. \n",
    "\n",
    "The term broadcasting describes how numpy treats arrays with different shapes during arithmetic operations."
   ]
  },
  {
   "cell_type": "code",
   "execution_count": null,
   "id": "98349d44",
   "metadata": {},
   "outputs": [],
   "source": []
  }
 ],
 "metadata": {
  "kernelspec": {
   "display_name": "Python 3",
   "language": "python",
   "name": "python3"
  },
  "language_info": {
   "codemirror_mode": {
    "name": "ipython",
    "version": 3
   },
   "file_extension": ".py",
   "mimetype": "text/x-python",
   "name": "python",
   "nbconvert_exporter": "python",
   "pygments_lexer": "ipython3",
   "version": "3.7.10"
  }
 },
 "nbformat": 4,
 "nbformat_minor": 5
}
