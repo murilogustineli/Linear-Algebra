{
 "cells": [
  {
   "cell_type": "markdown",
   "id": "4e475c69",
   "metadata": {},
   "source": [
    "# Linear Algebra\n",
    "## Ch05 - Intro to Matrices"
   ]
  },
  {
   "cell_type": "markdown",
   "id": "1312b06a",
   "metadata": {},
   "source": [
    "## Matrix terminology and dimensionality\n",
    "\n",
    "Notation:\n",
    "\n",
    "$$\\large\n",
    "A=\\begin{bmatrix}\n",
    "1 & 6 & 0\\\\\n",
    "7 & 2 & 4\\\\\n",
    "4 & 1 & 1\n",
    "\\end{bmatrix} \\ \\ \\ \\ \\ \\ \\ \\ \\ \\ a_{1,2} =6\n",
    "$$\n",
    "\n",
    "This is a $3\\times 3$ Matrix. Where:\n",
    "- $\\mathbb{R}^{M\\times N}$\n",
    "- M = Rows\n",
    "- N = Columns\n",
    "\n",
    "Note: $\\mathbb{R}^{M\\times N}$ is **different** than $\\mathbb{R}^{MN}$.\n",
    "\n",
    "Dimensionality refers to the **number of elements** in the matrix."
   ]
  },
  {
   "cell_type": "code",
   "execution_count": 1,
   "id": "890a049b",
   "metadata": {},
   "outputs": [],
   "source": [
    "import numpy as np"
   ]
  },
  {
   "cell_type": "code",
   "execution_count": 2,
   "id": "bca2407d",
   "metadata": {},
   "outputs": [
    {
     "name": "stdout",
     "output_type": "stream",
     "text": [
      "Square:\n",
      "[[ 0.4  0.8 -1.1  0.1  0.7]\n",
      " [-1.1 -0.3  1.1  0.6 -1. ]\n",
      " [ 0.4 -2.5  2.1 -0.1  2.6]\n",
      " [-0.7 -0.6  0.5 -0.2 -0.8]\n",
      " [-0.   1.7 -0.  -0.2 -0.8]]\n",
      "\n",
      "Rectangular:\n",
      "[[ 0.8  0.7]\n",
      " [-1.1  0.1]\n",
      " [-0.5  0.3]\n",
      " [-0.8  0.8]\n",
      " [ 0.2  1.1]]\n",
      "\n",
      "Identity:\n",
      "[[1. 0. 0.]\n",
      " [0. 1. 0.]\n",
      " [0. 0. 1.]]\n",
      "\n",
      "Zeros:\n",
      "[[0. 0. 0. 0.]\n",
      " [0. 0. 0. 0.]\n",
      " [0. 0. 0. 0.]\n",
      " [0. 0. 0. 0.]]\n",
      "\n",
      "Diagonal:\n",
      "[[1 0 0 0 0]\n",
      " [0 2 0 0 0]\n",
      " [0 0 3 0 0]\n",
      " [0 0 0 5 0]\n",
      " [0 0 0 0 2]]\n",
      "\n",
      "Lower Triangular:\n",
      "[[-0.1  0.   0.   0.   0. ]\n",
      " [-0.6  0.5  0.   0.   0. ]\n",
      " [ 0.9  0.9  0.2  0.   0. ]\n",
      " [-2.7  0.7 -0.8 -0.2  0. ]\n",
      " [ 1.2  0.6 -1.1 -0.5 -1.4]]\n",
      "\n",
      "Concatenate A & B:\n",
      "[[-1. -0.  0. -1. -1.  0.]\n",
      " [-0.  1.  0. -1.  1.  2.]\n",
      " [ 1. -0.  0.  1. -1. -1.]]\n"
     ]
    }
   ],
   "source": [
    "# Square vs. Rectangular\n",
    "S = np.round(np.random.randn(5, 5), 1)\n",
    "R = np.round(np.random.randn(5, 2), 1) # 5 rows, 2 columns\n",
    "print(f\"Square:\\n{S}\"), print('')\n",
    "print(f\"Rectangular:\\n{R}\"), print('')\n",
    "\n",
    "# Identity\n",
    "I = np.eye(3)\n",
    "print(f\"Identity:\\n{I}\"), print('')\n",
    "\n",
    "# Zeros\n",
    "Z = np.zeros((4, 4))\n",
    "print(f\"Zeros:\\n{Z}\"), print('')\n",
    "\n",
    "# Diagonal\n",
    "D = np.diag([1, 2, 3, 5, 2])\n",
    "print(f\"Diagonal:\\n{D}\"), print('')\n",
    "\n",
    "# Create triangular matrix from full matrices\n",
    "S = np.random.randn(5, 5)\n",
    "U = np.triu(S)\n",
    "L = np.tril(S)\n",
    "print(f\"Lower Triangular:\\n{np.round(L,1)}\"), print('')\n",
    "\n",
    "# Concatenate matrices (sizes must match!)\n",
    "A = np.random.randn(3, 2)\n",
    "B = np.random.randn(3, 4)\n",
    "C = np.concatenate((A, B), axis=1)\n",
    "print(f\"Concatenate A & B:\\n{np.round(C)}\")"
   ]
  },
  {
   "cell_type": "markdown",
   "id": "d7a53fd8",
   "metadata": {},
   "source": [
    "## Matrix addition and subtraction\n",
    "Matrix addition is cummutative and associative.\n",
    "\n",
    "$$\\large\n",
    " \\begin{array}{l}\n",
    "A+B\\ =\\ B+A\\\\\n",
    "\\\\\n",
    "A+( B+C) =( A+B) +C\n",
    "\\end{array}\n",
    "$$\n"
   ]
  },
  {
   "cell_type": "code",
   "execution_count": 3,
   "id": "17fd9af1",
   "metadata": {},
   "outputs": [
    {
     "data": {
      "text/plain": [
       "array([[1, 6],\n",
       "       [7, 2]])"
      ]
     },
     "execution_count": 3,
     "metadata": {},
     "output_type": "execute_result"
    }
   ],
   "source": [
    "A = np.array([[1,2], [3,0]])\n",
    "B = np.array([[0,4], [4,2]])\n",
    "\n",
    "# Addition\n",
    "A+B"
   ]
  },
  {
   "cell_type": "code",
   "execution_count": 4,
   "id": "96f85d84",
   "metadata": {},
   "outputs": [
    {
     "data": {
      "text/plain": [
       "array([[ 1, -2,  0],\n",
       "       [-1, -2, -4]])"
      ]
     },
     "execution_count": 4,
     "metadata": {},
     "output_type": "execute_result"
    }
   ],
   "source": [
    "A = np.array([[1,2,-3], [3,0,-2]])\n",
    "B = np.array([[0,4,-3], [4,2,2]])\n",
    "\n",
    "# Subtraction\n",
    "A-B"
   ]
  },
  {
   "cell_type": "markdown",
   "id": "ea651381",
   "metadata": {},
   "source": [
    "## Matrix-scalar multiplication\n",
    "\n",
    "Matrix multiplication works element-wise.\n",
    "\n",
    "$$\\large\n",
    " \\begin{array}{l}\n",
    "\\delta \\begin{bmatrix}\n",
    "a & b\\\\\n",
    "c & d\n",
    "\\end{bmatrix} =\\begin{bmatrix}\n",
    "\\delta a & \\delta b\\\\\n",
    "\\delta c & \\delta d\n",
    "\\end{bmatrix} =\\begin{bmatrix}\n",
    "a\\delta  & b\\delta \\\\\n",
    "c\\delta  & d\\delta \n",
    "\\end{bmatrix} =\\begin{bmatrix}\n",
    "a & b\\\\\n",
    "c & d\n",
    "\\end{bmatrix} \\delta \\\\\n",
    "\\\\\n",
    "\\delta MA=M\\delta A=MA\\delta \n",
    "\\end{array}\n",
    "$$"
   ]
  },
  {
   "cell_type": "code",
   "execution_count": 5,
   "id": "0aa45925",
   "metadata": {},
   "outputs": [
    {
     "name": "stdout",
     "output_type": "stream",
     "text": [
      "[[ 2  4]\n",
      " [ 4 10]] \n",
      "\n",
      "[[ 2  4]\n",
      " [ 4 10]]\n"
     ]
    }
   ],
   "source": [
    "# Define matrix and scalar\n",
    "M = np.array([[1, 2], [2, 5]])\n",
    "s = 2\n",
    "\n",
    "# Pre and post-multiplication is the same:\n",
    "print(M*s, '\\n')\n",
    "print(s*M)"
   ]
  },
  {
   "cell_type": "markdown",
   "id": "3cd6640e",
   "metadata": {},
   "source": [
    "## Code challenge: is matrix multiplication a linear operation?\n",
    "Test for some random $M\\times N$ matrices whether s(A+B) = sA + sB "
   ]
  },
  {
   "cell_type": "code",
   "execution_count": 6,
   "id": "0fcdea9c",
   "metadata": {},
   "outputs": [
    {
     "name": "stdout",
     "output_type": "stream",
     "text": [
      "[[ 0.48 -0.54 -0.54]\n",
      " [ 0.66 -0.48 -2.52]\n",
      " [-0.78  0.9  -0.66]\n",
      " [ 1.26 -0.18 -0.06]]\n",
      "\n",
      "[[ 0.48 -0.54 -0.54]\n",
      " [ 0.66 -0.48 -2.52]\n",
      " [-0.78  0.9  -0.66]\n",
      " [ 1.26 -0.18 -0.06]]\n"
     ]
    }
   ],
   "source": [
    "M = 4\n",
    "N = 3\n",
    "A = np.round(np.random.randn(M, N), 1)\n",
    "B = np.round(np.random.randn(M, N), 1)\n",
    "s = np.round(np.random.randn(1), 1)\n",
    "\n",
    "# Check s(A+B) & sA + sB\n",
    "resL = s*(A+B)\n",
    "resR = s*A + s*B\n",
    "\n",
    "print(resL), print()\n",
    "print(resR)"
   ]
  },
  {
   "cell_type": "markdown",
   "id": "6d5a61e9",
   "metadata": {},
   "source": [
    "## Transpose\n",
    "The transpose operation is a way of flipping a matrix by converting rows into columns and columns into rows.\n",
    "\n",
    "$$\\large\n",
    " \\begin{array}{l}\n",
    "\\begin{bmatrix}\n",
    "1 & 5\\\\\n",
    "0 & 6\\\\\n",
    "2 & 8\\\\\n",
    "5 & 3\\\\\n",
    "-2 & 0\n",
    "\\end{bmatrix}^{T} =\\begin{bmatrix}\n",
    "1 & 0 & 2 & 5 & -2\\\\\n",
    "5 & 6 & 8 & 3 & 0\n",
    "\\end{bmatrix}^{T} =\\begin{bmatrix}\n",
    "1 & 5\\\\\n",
    "0 & 6\\\\\n",
    "2 & 8\\\\\n",
    "5 & 3\\\\\n",
    "-2 & 0\n",
    "\\end{bmatrix}\\\\\n",
    "\\\\\n",
    "A^{TT} =A\n",
    "\\end{array}\n",
    "$$"
   ]
  },
  {
   "cell_type": "code",
   "execution_count": 7,
   "id": "ab76344b",
   "metadata": {},
   "outputs": [
    {
     "name": "stdout",
     "output_type": "stream",
     "text": [
      "[[1 2 3]\n",
      " [2 3 4]]\n",
      "\n",
      "[[1 2]\n",
      " [2 3]\n",
      " [3 4]]\n",
      "\n",
      "[[1 2 3]\n",
      " [2 3 4]]\n",
      "\n",
      "[[1 2]\n",
      " [2 3]\n",
      " [3 4]]\n"
     ]
    }
   ],
   "source": [
    "# Define matrix\n",
    "M = np.array([ [1,2,3],\n",
    "               [2,3,4] ])\n",
    "\n",
    "print(M), print('')\n",
    "print(M.T), print('') # one transpose\n",
    "print(M.T.T), print('') # double-transpose returns the original matrix\n",
    "\n",
    "# Can also use the function transpose\n",
    "print(np.transpose(M))"
   ]
  },
  {
   "cell_type": "code",
   "execution_count": 8,
   "id": "64bce63a",
   "metadata": {},
   "outputs": [
    {
     "name": "stdout",
     "output_type": "stream",
     "text": [
      "[[4.+1.j 3.+0.j 2.-4.j]]\n",
      "\n",
      "[[4.+1.j]\n",
      " [3.+0.j]\n",
      " [2.-4.j]]\n",
      "\n",
      "[[4.+1.j]\n",
      " [3.+0.j]\n",
      " [2.-4.j]]\n",
      "\n",
      "[[4.-1.j]\n",
      " [3.-0.j]\n",
      " [2.+4.j]]\n"
     ]
    }
   ],
   "source": [
    "# Warning! be careful when using complex matrices\n",
    "C = np.array([[4+1j , 3 , 2-4j]])\n",
    "\n",
    "print(C), print('')\n",
    "print(C.T), print('')\n",
    "print(np.transpose(C)), print('')\n",
    "\n",
    "# Note: In MATLAB, the transpose is the Hermitian transpose; \n",
    "#       in Python, you need to call the Hermitian explicitly by first converting from an array into a matrix\n",
    "print(np.matrix(C).H) # note the sign flips!"
   ]
  },
  {
   "cell_type": "markdown",
   "id": "db41b83e",
   "metadata": {},
   "source": [
    "## Symmetric matrices"
   ]
  },
  {
   "cell_type": "code",
   "execution_count": 9,
   "id": "59b7f0eb",
   "metadata": {},
   "outputs": [
    {
     "name": "stdout",
     "output_type": "stream",
     "text": [
      "[[2 3 6]\n",
      " [3 4 5]\n",
      " [6 5 9]]\n",
      "\n",
      "[[2 3 6]\n",
      " [3 4 5]\n",
      " [6 5 9]]\n",
      "\n",
      "[[ True  True  True]\n",
      " [ True  True  True]\n",
      " [ True  True  True]]\n"
     ]
    }
   ],
   "source": [
    "B = np.array([[2,3,6],[3,4,5],[6,5,9]])\n",
    "A = B.T\n",
    "\n",
    "print(B), print()\n",
    "print(A), print()\n",
    "print(A == B)"
   ]
  },
  {
   "cell_type": "markdown",
   "id": "914d794f",
   "metadata": {},
   "source": [
    "### Quiz\n",
    "If $A=B^T$ and B is symmetric, then $A^T+B = 2\\times A$"
   ]
  },
  {
   "cell_type": "code",
   "execution_count": 10,
   "id": "79533e7e",
   "metadata": {},
   "outputs": [
    {
     "name": "stdout",
     "output_type": "stream",
     "text": [
      "[[ 4  6 12]\n",
      " [ 6  8 10]\n",
      " [12 10 18]]\n",
      "\n",
      "[[ 4  6 12]\n",
      " [ 6  8 10]\n",
      " [12 10 18]]\n"
     ]
    }
   ],
   "source": [
    "print(A.T+B), print()\n",
    "print(2*A)"
   ]
  },
  {
   "cell_type": "code",
   "execution_count": null,
   "id": "f049ac06",
   "metadata": {},
   "outputs": [],
   "source": []
  }
 ],
 "metadata": {
  "kernelspec": {
   "display_name": "Python 3",
   "language": "python",
   "name": "python3"
  },
  "language_info": {
   "codemirror_mode": {
    "name": "ipython",
    "version": 3
   },
   "file_extension": ".py",
   "mimetype": "text/x-python",
   "name": "python",
   "nbconvert_exporter": "python",
   "pygments_lexer": "ipython3",
   "version": "3.7.10"
  }
 },
 "nbformat": 4,
 "nbformat_minor": 5
}
