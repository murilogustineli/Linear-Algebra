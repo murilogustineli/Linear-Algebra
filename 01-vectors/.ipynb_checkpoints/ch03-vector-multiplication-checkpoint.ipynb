{
 "cells": [
  {
   "cell_type": "markdown",
   "id": "dff00007-9dd5-46a8-9a73-f49e8c85e480",
   "metadata": {},
   "source": [
    "# Linear Algebra\n",
    "## Ch03 - Vector Multiplication"
   ]
  },
  {
   "cell_type": "markdown",
   "id": "0e20e3fd-b820-4267-8f62-8ad82ff17912",
   "metadata": {},
   "source": [
    "## Dot product"
   ]
  },
  {
   "cell_type": "code",
   "execution_count": 1,
   "id": "b758f987-3e9c-4634-9655-f15dab5bf860",
   "metadata": {},
   "outputs": [],
   "source": [
    "import numpy as np\n",
    "import matplotlib.pyplot as plt\n",
    "import seaborn as sns\n",
    "from mpl_toolkits.mplot3d import Axes3D"
   ]
  },
  {
   "cell_type": "code",
   "execution_count": 2,
   "id": "71e26f63-7672-4b35-beed-c9fd70c79530",
   "metadata": {},
   "outputs": [
    {
     "data": {
      "text/plain": [
       "27"
      ]
     },
     "execution_count": 2,
     "metadata": {},
     "output_type": "execute_result"
    }
   ],
   "source": [
    "# dot product\n",
    "v1 = np.array([2, 5, 4, 7])\n",
    "v2 = np.array([4, 1, 0, 2])\n",
    "dp = np.dot(v1, v2)\n",
    "dp"
   ]
  },
  {
   "cell_type": "code",
   "execution_count": 3,
   "id": "6ac7170a-a5ba-4ee8-947f-1a4a3f29acc9",
   "metadata": {},
   "outputs": [
    {
     "data": {
      "text/plain": [
       "array([ 8,  5,  0, 14])"
      ]
     },
     "execution_count": 3,
     "metadata": {},
     "output_type": "execute_result"
    }
   ],
   "source": [
    "v3 = v1*v2\n",
    "v3"
   ]
  },
  {
   "cell_type": "code",
   "execution_count": null,
   "id": "9997b078-bf32-439a-8fde-56b65d7a3df6",
   "metadata": {},
   "outputs": [],
   "source": []
  }
 ],
 "metadata": {
  "kernelspec": {
   "display_name": "Python 3 (ipykernel)",
   "language": "python",
   "name": "python3"
  },
  "language_info": {
   "codemirror_mode": {
    "name": "ipython",
    "version": 3
   },
   "file_extension": ".py",
   "mimetype": "text/x-python",
   "name": "python",
   "nbconvert_exporter": "python",
   "pygments_lexer": "ipython3",
   "version": "3.8.13"
  }
 },
 "nbformat": 4,
 "nbformat_minor": 5
}
