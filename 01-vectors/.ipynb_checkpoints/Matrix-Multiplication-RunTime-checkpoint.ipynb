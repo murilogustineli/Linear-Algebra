{
 "cells": [
  {
   "cell_type": "markdown",
   "id": "8847b94e-e17c-4e9f-991c-b57ba8366911",
   "metadata": {},
   "source": [
    "# NumPy vs foor loops"
   ]
  },
  {
   "cell_type": "markdown",
   "id": "b839fd06-77b4-4756-8de9-e4916cec9d8e",
   "metadata": {},
   "source": [
    "## Running python file"
   ]
  },
  {
   "cell_type": "code",
   "execution_count": null,
   "id": "8d8b7588-ca9a-4011-a49f-0d0bb134e9d7",
   "metadata": {},
   "outputs": [],
   "source": [
    "%run -i Matrix-Multiplication-RunTime.py"
   ]
  },
  {
   "cell_type": "code",
   "execution_count": null,
   "id": "e3193025-aebf-4247-b4a7-ebcd6e780425",
   "metadata": {},
   "outputs": [],
   "source": [
    "help(main)"
   ]
  },
  {
   "cell_type": "code",
   "execution_count": null,
   "id": "a2dae120-b3fb-4371-b7ae-489385aea162",
   "metadata": {},
   "outputs": [],
   "source": [
    "# Define sizes for iterations\n",
    "sizes = [i for i in range(0, 51000, 5000)]\n",
    "\n",
    "# Compute run times\n",
    "loop_run, numpy_run, tensor_run = main(sizes=sizes)"
   ]
  },
  {
   "cell_type": "code",
   "execution_count": null,
   "id": "53ad391f-cdef-4552-9673-eba7774085bd",
   "metadata": {},
   "outputs": [],
   "source": [
    "# Print results\n",
    "print_results(loop_run, numpy_run, tensor_run)"
   ]
  },
  {
   "cell_type": "code",
   "execution_count": null,
   "id": "726c8aad-fbc8-4d55-b718-25b379a64248",
   "metadata": {},
   "outputs": [],
   "source": [
    "# Plot graph\n",
    "plot_graph(sizes, loop_run, numpy_run, tensor_run)"
   ]
  },
  {
   "cell_type": "code",
   "execution_count": null,
   "id": "2b9ef136-d6fa-426a-93b3-deec7e7b459c",
   "metadata": {},
   "outputs": [],
   "source": []
  }
 ],
 "metadata": {
  "kernelspec": {
   "display_name": "Python 3 (ipykernel)",
   "language": "python",
   "name": "python3"
  },
  "language_info": {
   "codemirror_mode": {
    "name": "ipython",
    "version": 3
   },
   "file_extension": ".py",
   "mimetype": "text/x-python",
   "name": "python",
   "nbconvert_exporter": "python",
   "pygments_lexer": "ipython3",
   "version": "3.10.4"
  }
 },
 "nbformat": 4,
 "nbformat_minor": 5
}
