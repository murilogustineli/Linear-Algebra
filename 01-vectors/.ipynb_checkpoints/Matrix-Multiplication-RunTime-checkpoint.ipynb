{
 "cells": [
  {
   "cell_type": "markdown",
   "id": "8847b94e-e17c-4e9f-991c-b57ba8366911",
   "metadata": {},
   "source": [
    "# NumPy vs foor loops"
   ]
  },
  {
   "cell_type": "markdown",
   "id": "b839fd06-77b4-4756-8de9-e4916cec9d8e",
   "metadata": {},
   "source": [
    "## Running python file"
   ]
  },
  {
   "cell_type": "code",
   "execution_count": 1,
   "id": "8d8b7588-ca9a-4011-a49f-0d0bb134e9d7",
   "metadata": {},
   "outputs": [
    {
     "ename": "ModuleNotFoundError",
     "evalue": "No module named 'torch'",
     "output_type": "error",
     "traceback": [
      "\u001b[1;31m---------------------------------------------------------------------------\u001b[0m",
      "\u001b[1;31mModuleNotFoundError\u001b[0m                       Traceback (most recent call last)",
      "File \u001b[1;32m~\\OneDrive - Insight\\Documents\\GitHub\\Linear-Algebra\\01-vectors\\Matrix-Multiplication-RunTime.py:9\u001b[0m, in \u001b[0;36m<module>\u001b[1;34m\u001b[0m\n\u001b[0;32m      7\u001b[0m \u001b[38;5;28;01mimport\u001b[39;00m \u001b[38;5;21;01mtime\u001b[39;00m\n\u001b[0;32m      8\u001b[0m \u001b[38;5;28;01mimport\u001b[39;00m \u001b[38;5;21;01mnumpy\u001b[39;00m \u001b[38;5;28;01mas\u001b[39;00m \u001b[38;5;21;01mnp\u001b[39;00m\n\u001b[1;32m----> 9\u001b[0m \u001b[38;5;28;01mimport\u001b[39;00m \u001b[38;5;21;01mtorch\u001b[39;00m\n\u001b[0;32m     10\u001b[0m \u001b[38;5;28;01mimport\u001b[39;00m \u001b[38;5;21;01mmatplotlib\u001b[39;00m\u001b[38;5;21;01m.\u001b[39;00m\u001b[38;5;21;01mpyplot\u001b[39;00m \u001b[38;5;28;01mas\u001b[39;00m \u001b[38;5;21;01mplt\u001b[39;00m\n\u001b[0;32m     11\u001b[0m \u001b[38;5;28;01mimport\u001b[39;00m \u001b[38;5;21;01mseaborn\u001b[39;00m \u001b[38;5;28;01mas\u001b[39;00m \u001b[38;5;21;01msns\u001b[39;00m\n",
      "\u001b[1;31mModuleNotFoundError\u001b[0m: No module named 'torch'"
     ]
    }
   ],
   "source": [
    "%run -i Matrix-Multiplication-RunTime.py"
   ]
  },
  {
   "cell_type": "code",
   "execution_count": 2,
   "id": "e3193025-aebf-4247-b4a7-ebcd6e780425",
   "metadata": {},
   "outputs": [
    {
     "ename": "NameError",
     "evalue": "name 'main' is not defined",
     "output_type": "error",
     "traceback": [
      "\u001b[1;31m---------------------------------------------------------------------------\u001b[0m",
      "\u001b[1;31mNameError\u001b[0m                                 Traceback (most recent call last)",
      "Input \u001b[1;32mIn [2]\u001b[0m, in \u001b[0;36m<cell line: 1>\u001b[1;34m()\u001b[0m\n\u001b[1;32m----> 1\u001b[0m help(\u001b[43mmain\u001b[49m)\n",
      "\u001b[1;31mNameError\u001b[0m: name 'main' is not defined"
     ]
    }
   ],
   "source": [
    "help(main)"
   ]
  },
  {
   "cell_type": "code",
   "execution_count": null,
   "id": "a2dae120-b3fb-4371-b7ae-489385aea162",
   "metadata": {},
   "outputs": [],
   "source": [
    "# Define sizes for iterations\n",
    "sizes = [i for i in range(0, 51000, 5000)]\n",
    "\n",
    "# Compute run times\n",
    "loop_run, numpy_run, tensor_run = main(sizes=sizes)"
   ]
  },
  {
   "cell_type": "code",
   "execution_count": null,
   "id": "53ad391f-cdef-4552-9673-eba7774085bd",
   "metadata": {},
   "outputs": [],
   "source": [
    "# Print results\n",
    "print_results(loop_run, numpy_run, tensor_run)"
   ]
  },
  {
   "cell_type": "code",
   "execution_count": null,
   "id": "726c8aad-fbc8-4d55-b718-25b379a64248",
   "metadata": {},
   "outputs": [],
   "source": [
    "# Plot graph\n",
    "plot_graph(sizes, loop_run, numpy_run, tensor_run)"
   ]
  },
  {
   "cell_type": "code",
   "execution_count": 1,
   "id": "2b9ef136-d6fa-426a-93b3-deec7e7b459c",
   "metadata": {},
   "outputs": [],
   "source": [
    "import numpy as np"
   ]
  },
  {
   "cell_type": "code",
   "execution_count": 2,
   "id": "090d3e05-d478-4325-87c8-de1518dcc59a",
   "metadata": {},
   "outputs": [],
   "source": [
    "# Define matrices\n",
    "m = 4\n",
    "n = 6\n",
    "A = np.round(np.random.randn(m, n), 2)\n",
    "B = np.round(np.random.randn(n, m), 2)\n",
    "\n",
    "# Function that computes matrix multiplication using for loops\n",
    "def matrix_multiplication(A, B):\n",
    "    matrix = np.zeros((4,4))\n",
    "    for i in range(len(A)):\n",
    "        for j in range(len(B[i])):\n",
    "            matrix[i][j] = sum(A[i, :] * B[:, j])\n",
    "\n",
    "    # matrix = np.array(matrix).reshape(m, m)\n",
    "    return np.round(matrix, 2)"
   ]
  },
  {
   "cell_type": "code",
   "execution_count": 3,
   "id": "f1e55a0c-c7c6-4cf2-8c6c-d1c53e7a1cde",
   "metadata": {},
   "outputs": [
    {
     "name": "stdout",
     "output_type": "stream",
     "text": [
      "A:\n",
      "[[ 1.82  1.33  0.58 -0.55  1.13  1.01]\n",
      " [-0.04  1.43  0.91 -0.53  0.95 -1.16]\n",
      " [-0.65 -0.93 -0.27  0.9   2.41  0.69]\n",
      " [ 0.24 -2.14  0.62 -0.19 -1.15  0.12]] \n",
      "\n",
      "B:\n",
      "[[-1.43  1.88  0.52 -0.25]\n",
      " [ 1.79 -1.32  1.23  1.26]\n",
      " [ 0.97  0.18  1.98  1.01]\n",
      " [ 0.31 -1.71  0.69 -1.31]\n",
      " [ 1.36  2.13  0.07  1.5 ]\n",
      " [-2.06 -0.89  0.68 -1.09]] \n",
      "\n",
      "Matrix multiplication using for loops:\n",
      "[[-0.37  4.22  4.12  3.12]\n",
      " [ 7.02  2.16  2.45  6.11]\n",
      " [ 1.14  2.94 -0.76  0.4 ]\n",
      " [-5.44  1.16 -1.41 -3.74]]\n",
      "\n"
     ]
    }
   ],
   "source": [
    "print(f\"A:\\n{A}\", '\\n')\n",
    "print(f\"B:\\n{B}\", '\\n')\n",
    "\n",
    "# Using for loops to perform matrix multiplication\n",
    "matrix = matrix_multiplication(A, B)\n",
    "print(f\"Matrix multiplication using for loops:\\n{matrix}\\n\")"
   ]
  },
  {
   "cell_type": "code",
   "execution_count": null,
   "id": "ecaa5ff2-7ad1-4448-a39d-1baa3762efc2",
   "metadata": {},
   "outputs": [],
   "source": []
  }
 ],
 "metadata": {
  "kernelspec": {
   "display_name": "Python 3 (ipykernel)",
   "language": "python",
   "name": "python3"
  },
  "language_info": {
   "codemirror_mode": {
    "name": "ipython",
    "version": 3
   },
   "file_extension": ".py",
   "mimetype": "text/x-python",
   "name": "python",
   "nbconvert_exporter": "python",
   "pygments_lexer": "ipython3",
   "version": "3.9.12"
  }
 },
 "nbformat": 4,
 "nbformat_minor": 5
}
