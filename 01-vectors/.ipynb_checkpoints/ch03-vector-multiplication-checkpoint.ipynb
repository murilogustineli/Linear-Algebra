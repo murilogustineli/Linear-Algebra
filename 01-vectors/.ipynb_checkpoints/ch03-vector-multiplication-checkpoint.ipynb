{
 "cells": [
  {
   "cell_type": "markdown",
   "id": "dff00007-9dd5-46a8-9a73-f49e8c85e480",
   "metadata": {},
   "source": [
    "# Linear Algebra\n",
    "## Ch03 - Vector Multiplication"
   ]
  },
  {
   "cell_type": "code",
   "execution_count": 1,
   "id": "b758f987-3e9c-4634-9655-f15dab5bf860",
   "metadata": {},
   "outputs": [],
   "source": [
    "import numpy as np\n",
    "import matplotlib.pyplot as plt\n",
    "import seaborn as sns\n",
    "from mpl_toolkits.mplot3d import Axes3D"
   ]
  },
  {
   "cell_type": "markdown",
   "id": "0e20e3fd-b820-4267-8f62-8ad82ff17912",
   "metadata": {},
   "source": [
    "## Dot product\n",
    "It's one of the most important operations in Linear Algebra. The **dot product** is a single number that represents the relationship between two vectors. For this reason, is also sometimes called the \"scalar-product\".\n",
    "\n",
    "Notation:\n",
    "$$\\large\n",
    "\\alpha =a\\cdot b=\\langle a,b\\rangle =a^{T} b=\\sum _{i=1}^{n} a_{i} b_{i}\n",
    "$$\n"
   ]
  },
  {
   "cell_type": "code",
   "execution_count": 2,
   "id": "71e26f63-7672-4b35-beed-c9fd70c79530",
   "metadata": {},
   "outputs": [
    {
     "data": {
      "text/plain": [
       "27"
      ]
     },
     "execution_count": 2,
     "metadata": {},
     "output_type": "execute_result"
    }
   ],
   "source": [
    "# dot product\n",
    "v1 = np.array([2, 5, 4, 7])\n",
    "v2 = np.array([4, 1, 0, 2])\n",
    "np.dot(v1, v2)"
   ]
  },
  {
   "cell_type": "code",
   "execution_count": 3,
   "id": "6ac7170a-a5ba-4ee8-947f-1a4a3f29acc9",
   "metadata": {},
   "outputs": [
    {
     "data": {
      "text/plain": [
       "array([ 8,  5,  0, 14])"
      ]
     },
     "execution_count": 3,
     "metadata": {},
     "output_type": "execute_result"
    }
   ],
   "source": [
    "v3 = v1*v2\n",
    "v3"
   ]
  },
  {
   "cell_type": "code",
   "execution_count": 4,
   "id": "bba2f449-bd36-40f4-8c90-9184ca4c8445",
   "metadata": {},
   "outputs": [
    {
     "name": "stdout",
     "output_type": "stream",
     "text": [
      "32 32 32 32 32\n"
     ]
    }
   ],
   "source": [
    "# Four ways to implement dot product\n",
    "v1 = np.array([1, 2, 3, 4, 5])\n",
    "v2 = np.array([0, -4, -3, 6, 5])\n",
    "\n",
    "# Method 1\n",
    "dp1 = sum(np.multiply(v1, v2))\n",
    "\n",
    "# Method 2 (Recommended)\n",
    "dp2 = np.dot(v1, v2)\n",
    "\n",
    "# Method 3\n",
    "dp3 = np.matmul(v1, v2)\n",
    "\n",
    "# Method 4\n",
    "dp4 = v1 @ v2\n",
    "\n",
    "# Method 5\n",
    "dp5 = 0\n",
    "for i in range(len(v1)):\n",
    "    dp5 += v1[i] * v2[i]\n",
    "    \n",
    "print(dp1, dp2, dp3, dp4, dp5)"
   ]
  },
  {
   "cell_type": "markdown",
   "id": "01ba3b95-b510-43dd-a6da-fe9accd52fff",
   "metadata": {
    "tags": []
   },
   "source": [
    "### Distributive property of dot product\n",
    "\n",
    "$$\\large\n",
    "w^{T}( u+v) \\ =\\ w^{T} u\\ +\\ w^{T} v\n",
    "$$\n",
    "\n",
    "The dot product is defined as the sum of element-wise multiplications. Common terms can be combined across sums, which brings us to the following:\n",
    "\n",
    "$$\\large\n",
    "\\sum _{i=1}^{n} w_{i}( u_{i} +v_{i}) \\ =\\ \\sum _{i=1}^{n} w_{i} u_{i} \\ +\\ \\sum _{i=1}^{n} w_{i} v_{i}\n",
    "$$\n"
   ]
  },
  {
   "cell_type": "code",
   "execution_count": 5,
   "id": "9997b078-bf32-439a-8fde-56b65d7a3df6",
   "metadata": {},
   "outputs": [
    {
     "name": "stdout",
     "output_type": "stream",
     "text": [
      "19\n",
      "19\n"
     ]
    }
   ],
   "source": [
    "# Three distinct vectors\n",
    "u = np.array([1, 2])\n",
    "v = np.array([1, 3])\n",
    "w = np.array([2, 3])\n",
    "\n",
    "# Distributive property of dot product\n",
    "print(np.dot(w.T, (u+v)))\n",
    "print(np.dot(w.T, u) + np.dot(w.T, v))"
   ]
  },
  {
   "cell_type": "markdown",
   "id": "499662c6-3b51-457c-8671-9524117d28e3",
   "metadata": {},
   "source": [
    "Example of applying the distributive property of the dot product between a vector and itself:\n",
    "\n",
    "$$\\large\n",
    "( u+v)^{T}( u+v) \\ =\\ \\| u+v\\| ^{2} \\ =\\ u^{T} u\\ +\\ 2u^{T} v\\ +\\ v^{T} v\\ =\\ \\| u\\| ^{2} \\ +\\ \\| v\\| ^{2} \\ +\\ 2u^{T} v\n",
    "$$"
   ]
  },
  {
   "cell_type": "code",
   "execution_count": 6,
   "id": "3caadbd9-fd50-4cf2-a4ec-3640fec1aa1b",
   "metadata": {},
   "outputs": [
    {
     "data": {
      "text/plain": [
       "29"
      ]
     },
     "execution_count": 6,
     "metadata": {},
     "output_type": "execute_result"
    }
   ],
   "source": [
    "# Distributive property to the dot product between a vector and itself\n",
    "np.dot((u+v).T, (u+v))"
   ]
  },
  {
   "cell_type": "markdown",
   "id": "51a0062f-f930-43ca-99eb-1615c0e00f61",
   "metadata": {},
   "source": [
    "### Associative property of dot product\n",
    "The dot product ___is not___ associative.\n",
    "\n",
    "$$\\large\n",
    " \\begin{array}{l}\n",
    "a( b\\cdot c) \\ =\\ ( a\\cdot b) c\\\\\n",
    "\\\\\n",
    "a^{T}\\left( b^{T} c\\right) \\neq \\left( a^{T} b\\right)^{T} c\\\\\n",
    "\\\\\n",
    "\\text{because:} \\ \\\\\n",
    "b^{T} c\\ \\neq a^{T} b\n",
    "\\end{array}\n",
    "$$"
   ]
  },
  {
   "cell_type": "code",
   "execution_count": 7,
   "id": "6108c898-9e9c-4bba-bb8d-9bbfbd673b2e",
   "metadata": {},
   "outputs": [
    {
     "name": "stdout",
     "output_type": "stream",
     "text": [
      "[11 22] [14 21]\n"
     ]
    }
   ],
   "source": [
    "# Associative property\n",
    "a = np.array([1, 2])\n",
    "b = np.array([1, 3])\n",
    "c = np.array([2, 3])\n",
    "\n",
    "# Compute associative property\n",
    "dp1 = np.dot(a.T, np.dot(b.T, c))\n",
    "dp2 = np.dot(np.dot(a.T, b).T, c)\n",
    "print(dp1, dp2)"
   ]
  },
  {
   "cell_type": "markdown",
   "id": "5f6ce703-ca70-4904-964d-27895d43ca50",
   "metadata": {},
   "source": [
    "## Is the dot product commutative?\n",
    "$$\\large\n",
    "a^{T} b = b^{T} a\n",
    "$$\n",
    "\n",
    "However, matrix multiplication **is NOT commutative!**\n",
    "\n",
    "1. Generate two 100-element random row vectors, compute dot product $a$ with $b$, $b$ with $a$\n",
    "2. Generate two 2-element integer row vectors, repeat"
   ]
  },
  {
   "cell_type": "code",
   "execution_count": 8,
   "id": "cdc4ba37-3600-4bf1-93fc-4219494ce8be",
   "metadata": {},
   "outputs": [
    {
     "name": "stdout",
     "output_type": "stream",
     "text": [
      "True\n"
     ]
    }
   ],
   "source": [
    "# 1.Generate two 100-element random row vectors, compute dot product a with b, b with a\n",
    "a = np.random.randn(100)\n",
    "b = np.random.randn(100)\n",
    "\n",
    "ab_dot = np.dot(a, b)\n",
    "ba_dot = np.dot(b, a)\n",
    "\n",
    "print(ab_dot == ba_dot)"
   ]
  },
  {
   "cell_type": "code",
   "execution_count": 9,
   "id": "e1d18177-cce0-40d6-9722-d0e5e24d050a",
   "metadata": {},
   "outputs": [
    {
     "name": "stdout",
     "output_type": "stream",
     "text": [
      "True \n",
      "\n",
      "11 11\n"
     ]
    }
   ],
   "source": [
    "# 2. Generate two 2-element integer row vectors, repeat\n",
    "a = np.array([1, 2])\n",
    "b = np.array([3, 4])\n",
    "\n",
    "ab_dot = np.dot(a, b)\n",
    "ba_dot = np.dot(b, a)\n",
    "\n",
    "print(ab_dot == ba_dot, '\\n')\n",
    "print(np.dot(a, b), np.dot(b, a))"
   ]
  },
  {
   "cell_type": "markdown",
   "id": "7542a1a8-4f43-4f82-a2dc-58a2eb287163",
   "metadata": {},
   "source": [
    "## Vector length (a.k.a. magnitude or norm)\n",
    "$$\\large\n",
    "\\| v\\| =\\sqrt{v^{T} v}\n",
    "$$\n",
    "\n",
    "To compute the length of a vector, take the square root of the dot product of the vector with itself."
   ]
  },
  {
   "cell_type": "code",
   "execution_count": 10,
   "id": "26a8ada6-18b9-499c-946e-1ac3a1d3f2ff",
   "metadata": {},
   "outputs": [
    {
     "data": {
      "image/png": "[encoded data removed]",
      "text/plain": [
       "<Figure size 500x500 with 1 Axes>"
      ]
     },
     "metadata": {
      "needs_background": "light"
     },
     "output_type": "display_data"
    }
   ],
   "source": [
    "# Plot axis\n",
    "def plot_axis(vector_list, ax=3):\n",
    "    plt.plot([-ax, ax],[0, 0],'k--')\n",
    "    plt.plot([0, 0],[-ax, ax],'k--')\n",
    "    plt.grid(color='blue', linestyle='--', linewidth=1, alpha=0.2)\n",
    "    plt.legend(loc='upper left')\n",
    "    plt.axis([-ax,ax,-ax,ax]);\n",
    "\n",
    "# Two vectors in R2\n",
    "v1 = np.array([2, 0])\n",
    "v2 = np.array([0, 3])\n",
    "v3 = v1 + v2\n",
    "\n",
    "# Plot vectors\n",
    "plt.figure(figsize=(5,5), dpi=100)\n",
    "plt.plot([0, v1[0]],[0, v1[1]],'b',label=v1)\n",
    "plt.plot([0, v2[0]]+v1[0],[0, v2[1]]+v1[1],'r',label=v2)\n",
    "plt.plot([0, v3[0]],[0, v3[1]],'g',label=v3)\n",
    "\n",
    "plot_axis(vector_list=[v1,v2,v3], ax=4)\n",
    "plt.show()"
   ]
  },
  {
   "cell_type": "markdown",
   "id": "32b0f620-9572-4b5c-914d-db150452101c",
   "metadata": {},
   "source": [
    "Example:\n",
    "\n",
    "$$\\large\n",
    " \\begin{array}{l}\n",
    "v=\\begin{bmatrix}\n",
    "2\\\\\n",
    "3\n",
    "\\end{bmatrix}\\\\\n",
    "\\\\\n",
    "\\| v\\| ^{2} =( v_{1})^{2} +( v_{2})^{2}\\\\\n",
    "\\\\\n",
    "\\| v\\| ^{2} =4+9=13\\\\\n",
    "\\\\\n",
    "\\| v\\| =\\sqrt{13}\\\\\n",
    "\\\\\n",
    "\\| v\\| =\\sqrt{v^{T} v} =\\sqrt{2\\times 2+3\\times 3} =\\sqrt{13}\n",
    "\\end{array}\n",
    "$$"
   ]
  },
  {
   "cell_type": "code",
   "execution_count": 11,
   "id": "38741fc5-d95d-4867-b71d-f10b8db4cd68",
   "metadata": {},
   "outputs": [
    {
     "name": "stdout",
     "output_type": "stream",
     "text": [
      "9.54 9.54\n"
     ]
    }
   ],
   "source": [
    "# A vector\n",
    "v1 = np.array([1, 2, 3, 4, 5, 6])\n",
    "\n",
    "# Methods 1-4, just like with the regular dot product, e.g.:\n",
    "vl1 = np.sqrt(sum(np.multiply(v1, v1)))\n",
    "\n",
    "# Method 5: take the norm\n",
    "vl2 = np.linalg.norm(v1)\n",
    "\n",
    "print(np.round(vl1, 2), np.round(vl2, 2))"
   ]
  },
  {
   "cell_type": "markdown",
   "id": "5be5eaef-a475-43ae-907d-82ca375f11c1",
   "metadata": {},
   "source": [
    "## The dot product from a geometric perspective\n",
    "Algebra vs. Geometry: They're the same (really!)\n",
    "\n",
    "$$\\large\n",
    " \\begin{array}{l}\n",
    "\\alpha =a^{T} b=\\sum _{i=1}^{n} a_{i} b_{i} =\\| a\\| \\ \\| b\\| \\ cos( \\theta _{ab})\\\\\n",
    "\\\\\n",
    "\\text{Algebraic definition:} \\ a^{T} b=\\sum _{i=1}^{n} a_{i} b_{i}\\\\\n",
    "\\\\\n",
    "\\text{Geometric definition:} \\ \\| a\\| \\ \\| b\\| \\ cos( \\theta _{ab})\n",
    "\\end{array}\n",
    "$$\n",
    "\n",
    "$\\theta$ is the angle between two vectors. We can find the angle with the following formula:\n",
    "\n",
    "$$\\large\n",
    " \\begin{array}{l}\n",
    "\\| a\\| \\ \\| b\\| \\ cos( \\theta _{ab})\\\\\n",
    "\\\\\n",
    "cos( \\theta _{ab}) =\\frac{a^{T} b}{\\| a\\| \\ \\| b\\| }\\\\\n",
    "\\\\\n",
    "\\theta _{ab} =cos^{-1}\\left(\\frac{a^{T} b}{\\| a\\| \\ \\| b\\| }\\right)\n",
    "\\end{array}\n",
    "$$"
   ]
  },
  {
   "cell_type": "code",
   "execution_count": 12,
   "id": "44fdb442-e0d3-4102-b230-e45f38949d2e",
   "metadata": {},
   "outputs": [
    {
     "data": {
      "image/png": "[encoded data removed]",
      "text/plain": [
       "<Figure size 500x500 with 1 Axes>"
      ]
     },
     "metadata": {
      "needs_background": "light"
     },
     "output_type": "display_data"
    }
   ],
   "source": [
    "# Two vectors\n",
    "v1 = np.array([2,  4, -3])\n",
    "v2 = np.array([0, -3, -3])\n",
    "\n",
    "# Compute the angle (radians) between two vectors\n",
    "ang = np.arccos(np.dot(v1,v2) / np.abs(np.linalg.norm(v1) * np.linalg.norm(v2)))\n",
    "\n",
    "# Plot vectors\n",
    "fig = plt.figure(figsize=(5,5), dpi=100)\n",
    "ax = fig.add_subplot(projection='3d')\n",
    "ax.plot([0, v1[0]],[0, v1[1]],[0, v1[2]],'b')\n",
    "ax.plot([0, v2[0]],[0, v2[1]],[0, v2[2]],'r')\n",
    "\n",
    "plt.axis((-6, 6, -6, 6))\n",
    "plt.title(f\"Angle between vectors: {round(ang, 3)} rad.\")\n",
    "plt.show()"
   ]
  },
  {
   "cell_type": "markdown",
   "id": "3d775dbc-6c37-4799-972c-a4747111ef33",
   "metadata": {},
   "source": [
    "### Equivalence of algebraic and geometric dot product formulas"
   ]
  },
  {
   "cell_type": "code",
   "execution_count": 13,
   "id": "41829ef9-6a50-4895-9cd9-2eadc5242046",
   "metadata": {},
   "outputs": [
    {
     "name": "stdout",
     "output_type": "stream",
     "text": [
      "-3\n",
      "-3.0\n"
     ]
    }
   ],
   "source": [
    "# Two vectors\n",
    "v1 = np.array([2,  4, -3])\n",
    "v2 = np.array([0, -3, -3])\n",
    "\n",
    "# Algebraic\n",
    "dp_a = np.dot(v1, v2)\n",
    "\n",
    "# Geometric\n",
    "dp_g = np.linalg.norm(v1) * np.linalg.norm(v2) * np.cos(ang)\n",
    "\n",
    "# Print dot product\n",
    "print(np.round(dp_a))\n",
    "print(np.round(dp_g))"
   ]
  },
  {
   "cell_type": "markdown",
   "id": "d012b0e4-4781-48ac-b866-b6b0e5fbd36b",
   "metadata": {},
   "source": [
    "#### Are the following vectors orthogonal?\n",
    "a = [16 -2 4]\n",
    "\n",
    "b = [.5 2 -1]\n",
    "\n",
    "Take their dot product. **If the dot product is zero, then they are orthogonal!**"
   ]
  },
  {
   "cell_type": "code",
   "execution_count": 14,
   "id": "9ef49cc3-17d2-424a-aeeb-42945e65d2e0",
   "metadata": {},
   "outputs": [
    {
     "data": {
      "text/plain": [
       "0.0"
      ]
     },
     "execution_count": 14,
     "metadata": {},
     "output_type": "execute_result"
    }
   ],
   "source": [
    "# Two vectors\n",
    "a = np.array([16, -2, 4])\n",
    "b = np.array([.5, 2, -1])\n",
    "\n",
    "# Compute the angle (radians) between two vectors\n",
    "dp = np.dot(a, b)\n",
    "dp"
   ]
  },
  {
   "cell_type": "markdown",
   "id": "e7a4afa5-4952-4340-b640-9b04851d139e",
   "metadata": {
    "tags": []
   },
   "source": [
    "### Linear weighted combination\n",
    "\n",
    "It's a scalar-vector multiplication and addition.\n",
    "\n",
    "$$\\large\n",
    "w = \\lambda _{1} v_{1} + \\lambda _{2} v_{2} + \\lambda _{3} v_{3} + ... + \\lambda _{n} v_{n}\n",
    "$$"
   ]
  },
  {
   "cell_type": "code",
   "execution_count": 15,
   "id": "a2812c30-5f3d-458e-a9f1-d9d2f6584069",
   "metadata": {},
   "outputs": [
    {
     "data": {
      "text/plain": [
       "array([ -7,  -4, -13])"
      ]
     },
     "execution_count": 15,
     "metadata": {},
     "output_type": "execute_result"
    }
   ],
   "source": [
    "# Define scalars and vectors\n",
    "l1 = 1\n",
    "l2 = 2\n",
    "l3 = -3\n",
    "v1 = np.array([4, 5, 1])\n",
    "v2 = np.array([-4, 0, -4])\n",
    "v3 = np.array([1, 3, 2])\n",
    "\n",
    "# Linear weighted combination\n",
    "l1*v1 + l2*v2 + l3*v3"
   ]
  },
  {
   "cell_type": "markdown",
   "id": "fa591915-3544-4e5e-9e63-4fae0826ca63",
   "metadata": {
    "tags": []
   },
   "source": [
    "## Outer product\n",
    "Combining two vectors to produce a matrix. The two vectors don't need to have the same size. The result is a $M\\times N$ matrix.\n",
    "\n",
    "**Dot product:**\n",
    "\n",
    "$\\large v^{T}w = 1\\times 1$\n",
    "\n",
    "\n",
    "**Outer product:**\n",
    "\n",
    "$\\large vw^{T} = M\\times N$\n",
    "\n",
    "This notation indicates that the dot product $(v^{T}w)$ is a $1\\times 1$ array (just a single number; a scalar) whereas the outer product $(vw^{T})$ is a matrix whose sizes are defined by the number of elements in the vectors.\n",
    "\n",
    "### The outer product formula\n",
    "$$\\large\n",
    "(vw^T)_{ij} = v_i w_j\n",
    "$$\n",
    "\n",
    "Example:\n",
    "\n",
    "$$\\large\n",
    "\\begin{bmatrix}\n",
    "a\\\\\n",
    "b\\\\\n",
    "c\n",
    "\\end{bmatrix}\\begin{bmatrix}\n",
    "d & e & f\n",
    "\\end{bmatrix} =\\begin{bmatrix}\n",
    "ad & ae & af\\\\\n",
    "bd & be & bf\\\\\n",
    "cd & ce & cf\n",
    "\\end{bmatrix}\n",
    "$$"
   ]
  },
  {
   "cell_type": "code",
   "execution_count": 16,
   "id": "fdf15b89-8e34-419f-8aca-58abc1a39434",
   "metadata": {},
   "outputs": [
    {
     "name": "stdout",
     "output_type": "stream",
     "text": [
      "Dot product: 27\n",
      "\n",
      "Outer product: \n",
      "[[ 8  2  0  4]\n",
      " [20  5  0 10]\n",
      " [16  4  0  8]\n",
      " [28  7  0 14]]\n"
     ]
    }
   ],
   "source": [
    "# Define vectors\n",
    "v = np.array([2, 5, 4, 7])\n",
    "w = np.array([4, 1, 0, 2])\n",
    "\n",
    "# Dot vs Outer product\n",
    "dot = np.dot(v, w)\n",
    "out = np.outer(v, w)\n",
    "\n",
    "print(f\"Dot product: {dot}\\n\")\n",
    "print(f\"Outer product: \\n{out}\")"
   ]
  },
  {
   "cell_type": "code",
   "execution_count": 17,
   "id": "ad005b89-e273-4eee-ad70-a7cf114933b5",
   "metadata": {},
   "outputs": [
    {
     "data": {
      "text/plain": [
       "array([[ 4,  1, -1],\n",
       "       [ 8,  2, -2],\n",
       "       [12,  3, -3],\n",
       "       [16,  4, -4]])"
      ]
     },
     "execution_count": 17,
     "metadata": {},
     "output_type": "execute_result"
    }
   ],
   "source": [
    "# Vectors with different dimensions M*N\n",
    "v = np.array([1, 2, 3, 4])\n",
    "w = np.array([4, 1, -1])\n",
    "\n",
    "# Outer product\n",
    "np.outer(v, w)"
   ]
  },
  {
   "cell_type": "code",
   "execution_count": 18,
   "id": "48a374d9-d926-4bd9-9a7d-40ad207b4b2d",
   "metadata": {},
   "outputs": [
    {
     "data": {
      "text/plain": [
       "array([[  30,    6,   90,   12],\n",
       "       [ 400,   80, 1200,  160]])"
      ]
     },
     "execution_count": 18,
     "metadata": {},
     "output_type": "execute_result"
    }
   ],
   "source": [
    "a = np.array([3, 40])\n",
    "b = np.array([10, 2, 30, 4])\n",
    "c = np.outer(a, b)\n",
    "c"
   ]
  },
  {
   "cell_type": "markdown",
   "id": "5957bc1f-eaca-4732-b02a-b5a1240179ab",
   "metadata": {},
   "source": [
    "## Element-wise product\n",
    "Multiplying each corresponding element in two vectors. Both vectors must have the same size. This operation results in another vector of the same size $M\\times N$\n",
    "\n",
    "$$\\large\n",
    "c=a\\odot b=[ a_{1} b_{1} \\ \\ \\ a_{2} b_{2} \\ \\ \\ ...\\ \\ \\ a_{n} b_{n}]\n",
    "$$\n",
    "\n"
   ]
  },
  {
   "cell_type": "code",
   "execution_count": 19,
   "id": "514b0be9-9914-4412-b20c-300b61c17a50",
   "metadata": {},
   "outputs": [
    {
     "data": {
      "text/plain": [
       "array([ 8,  5,  0, 14])"
      ]
     },
     "execution_count": 19,
     "metadata": {},
     "output_type": "execute_result"
    }
   ],
   "source": [
    "# Two vectors with the same size\n",
    "a = np.array([2, 5, 4, 7])\n",
    "b = np.array([4, 1, 0, 2])\n",
    "\n",
    "# Element-wise product\n",
    "c = a * b\n",
    "c"
   ]
  },
  {
   "cell_type": "markdown",
   "id": "52f8b737-730b-418d-87be-e885bdf0bcc2",
   "metadata": {},
   "source": [
    "## Cross product\n",
    "Defined only for 3-element vectors. Result is another 3-element vector.\n",
    "\n",
    "$$\\large\n",
    "a\\times b=\\begin{bmatrix}\n",
    "a_{2} b_{3}{} & a_{3} b_{2}\\\\\n",
    "a_{3} b_{1} & a_{1} b_{3}\\\\\n",
    "a_{1} b_{2} & a_{2} b_{1}\n",
    "\\end{bmatrix}\n",
    "$$"
   ]
  },
  {
   "cell_type": "code",
   "execution_count": 20,
   "id": "2a72843f-7af7-4b36-b65c-1083e888cf43",
   "metadata": {},
   "outputs": [
    {
     "data": {
      "text/plain": [
       "array([-7, -3, 11])"
      ]
     },
     "execution_count": 20,
     "metadata": {},
     "output_type": "execute_result"
    }
   ],
   "source": [
    "# Two vectors with same size\n",
    "a = np.array([5, 3, 4])\n",
    "b = np.array([-2, 1, -1])\n",
    "\n",
    "# Cross product\n",
    "c = np.cross(a, b)\n",
    "c"
   ]
  },
  {
   "cell_type": "markdown",
   "id": "6b9c69b4-3e92-45c4-9c34-6ee411139974",
   "metadata": {},
   "source": [
    "## Unit vectors\n",
    "Have magnitude (length) of one: $\\| v\\| =1$\n",
    "\n",
    "Unit vectors allow the creation of orthogonal matrix.\n",
    "\n",
    "$\\large\n",
    "\\mu v\\ \\ \\operatorname{s.t.} \\ \\ \\| \\mu v\\| =1\\ \\ \\ \\operatorname{( s.t.\\ means\\ \"such\\ that\"\\ or\\ \"subject\\ to\")}\n",
    "$\n",
    "\n",
    "$\\mu$ is a scalar used to compute a unit vector in the same direction as vector $v$.\n",
    "\n",
    "### Creating a unit-lenght vector\n",
    "Set $\\mu$ to be the reciprocal (inverse) of the magnitude of the vector. In notation, a unit vector is given a hat to indicate it has a magnitude of one ($v\\rightarrow \\hat{v}$)\n",
    "\n",
    "$$\\large\n",
    "\\hat{v} =\\frac{1}{\\| v\\| } v=\\frac{1}{\\sqrt{\\sum _{i=1}^{n} v_{i}^{2}}} v\n",
    "$$\n",
    "\n",
    "The norm of the vector, $\\| v\\|$, is a scalar, which means:\n",
    "1. Division is allowed (division by a full vector is not defined)\n",
    "2. ___Direction of the vector does not change___\n",
    "\n",
    "Example:\n",
    "\n",
    "$$\\large\n",
    "v=\\begin{bmatrix}\n",
    "0\\\\\n",
    "2\n",
    "\\end{bmatrix} ,\\ \\ \\ \\ \\ \\ \\ \\hat{v} =\\frac{1}{\\sqrt{0^{2} +2^{2}}}\\begin{bmatrix}\n",
    "0\\\\\n",
    "2\n",
    "\\end{bmatrix} =\\begin{bmatrix}\n",
    "0\\\\\n",
    "1\n",
    "\\end{bmatrix}\n",
    "$$\n",
    "\n",
    "Taking $\\mu = \\frac{1}{\\| v\\|}\\| v\\| = 1$ allows for a quick proof tha the unit vector really does have unit lenght:\n",
    "\n",
    "$$\\large\n",
    "\\| \\mu v\\| = \\frac{1}{\\| v\\|}\\| v\\| = 1\n",
    "$$"
   ]
  },
  {
   "cell_type": "code",
   "execution_count": 21,
   "id": "0f4c3beb-564e-41b7-aff3-5e8c43a38bf2",
   "metadata": {},
   "outputs": [
    {
     "data": {
      "text/plain": [
       "array([0., 1.])"
      ]
     },
     "execution_count": 21,
     "metadata": {},
     "output_type": "execute_result"
    }
   ],
   "source": [
    "# Vector\n",
    "v = np.array([0, 2])\n",
    "\n",
    "# Magnitude\n",
    "vMag = np.linalg.norm(v)\n",
    "\n",
    "# Unit vector\n",
    "v_unit = v/vMag\n",
    "v_unit"
   ]
  },
  {
   "cell_type": "code",
   "execution_count": 22,
   "id": "69c476e1-5a03-472d-9b5c-86e053220a73",
   "metadata": {},
   "outputs": [
    {
     "data": {
      "text/plain": [
       "array([0.20628425, 0.51571062, 0.4125685 , 0.72199487])"
      ]
     },
     "execution_count": 22,
     "metadata": {},
     "output_type": "execute_result"
    }
   ],
   "source": [
    "# Unit vector computation\n",
    "v = np.array([2, 5, 4, 7])\n",
    "vMag = np.linalg.norm(v)\n",
    "v_unit = v/vMag\n",
    "v_unit"
   ]
  },
  {
   "cell_type": "code",
   "execution_count": 23,
   "id": "3f68e59f-dade-4352-97d4-91d127ad1ac6",
   "metadata": {},
   "outputs": [
    {
     "data": {
      "text/plain": [
       "array([0.6, 0.8])"
      ]
     },
     "execution_count": 23,
     "metadata": {},
     "output_type": "execute_result"
    }
   ],
   "source": [
    "# Unit vector computation\n",
    "v = np.array([3, 4])\n",
    "vMag = np.linalg.norm(v)\n",
    "v_unit = v/vMag\n",
    "v_unit"
   ]
  },
  {
   "cell_type": "code",
   "execution_count": 24,
   "id": "25568538-1fa1-4e39-9301-65c0cab3d61c",
   "metadata": {
    "tags": []
   },
   "outputs": [
    {
     "data": {
      "text/plain": [
       "array([1., 0.])"
      ]
     },
     "execution_count": 24,
     "metadata": {},
     "output_type": "execute_result"
    }
   ],
   "source": [
    "# Unit vector computation\n",
    "v = np.array([1, 0])\n",
    "vMag = np.linalg.norm(v)\n",
    "v_unit = v/vMag\n",
    "v_unit"
   ]
  },
  {
   "cell_type": "code",
   "execution_count": 25,
   "id": "980692f6-984c-473d-87f5-ac94bda3a227",
   "metadata": {},
   "outputs": [],
   "source": [
    "import seaborn as sns"
   ]
  },
  {
   "cell_type": "code",
   "execution_count": 26,
   "id": "2af219cb-b04f-4fb9-aa51-8e99d9154c10",
   "metadata": {},
   "outputs": [
    {
     "data": {
      "image/png": "[encoded data removed]",
      "text/plain": [
       "<Figure size 500x500 with 1 Axes>"
      ]
     },
     "metadata": {
      "needs_background": "light"
     },
     "output_type": "display_data"
    }
   ],
   "source": [
    "# vector and scalar\n",
    "v1 = np.array([ 4, -2 ])\n",
    "l  = -.5\n",
    "v1m = v1*l # scalar-modulated\n",
    "\n",
    "# plot them\n",
    "plt.figure(figsize=(5,5), dpi=100)\n",
    "plt.plot([0, v1[0]],[0, v1[1]],'b',label=f'$v_1$ = {v1}')\n",
    "plt.plot([0, v1m[0]],[0, v1m[1]],'r:',label=f'$\\lambda v_1$ = {v1m}')\n",
    "\n",
    "plt.axis('square')\n",
    "axlim = max([max(abs(v1)),max(abs(v1m))])*1.5 # dynamic axis lim\n",
    "plt.axis((-axlim,axlim,-axlim,axlim))\n",
    "plt.grid(color='blue', linestyle='--', linewidth=1, alpha=0.2)\n",
    "plt.plot([-axlim, axlim],[0, 0],'k--')\n",
    "plt.plot([0, 0],[-axlim, axlim],'k--')\n",
    "plt.legend()\n",
    "plt.show();"
   ]
  },
  {
   "cell_type": "markdown",
   "id": "b65a93d2-a4ca-4fd9-9e1c-6c014333a93b",
   "metadata": {},
   "source": [
    "## Code challenge\n",
    "Create a 2 4x6 matrices of random numbers.\n",
    "\n",
    "Use a for loop to compute dot products between corresponding columns."
   ]
  },
  {
   "cell_type": "code",
   "execution_count": 27,
   "id": "273ec5a4-c0e6-45c8-a250-f946b14c08d0",
   "metadata": {},
   "outputs": [
    {
     "name": "stdout",
     "output_type": "stream",
     "text": [
      "A:\n",
      "[[ 0.02 -0.31  1.23 -0.59 -0.24  0.95]\n",
      " [ 2.13 -1.9  -0.59  0.08 -0.7  -1.15]\n",
      " [ 1.18  1.39 -0.65 -0.27 -0.34 -0.85]\n",
      " [-1.67 -0.76  0.03  1.86 -1.15 -1.17]] \n",
      "\n",
      "B:\n",
      "[[ 1.    0.82  0.1   0.52  0.6   1.25]\n",
      " [-1.59 -0.09 -0.1  -0.01  0.64  0.15]\n",
      " [-2.23 -0.01 -0.48 -0.79  0.71  1.4 ]\n",
      " [-0.95 -1.44  0.    0.23  0.06  0.39]] \n",
      "\n",
      "Dot product:\n",
      "[-4.41  1.    0.49  0.33 -0.9  -0.63]\n"
     ]
    }
   ],
   "source": [
    "A = np.round(np.random.randn(4, 6), 2)\n",
    "B = np.round(np.random.randn(4, 6), 2)\n",
    "\n",
    "print(f\"A:\\n{A}\", '\\n')\n",
    "print(f\"B:\\n{B}\", '\\n')\n",
    "\n",
    "def dot_product(A, B):\n",
    "    dps = np.zeros(6)\n",
    "    for i in range(6):\n",
    "        dps[i] =  np.dot(A[:, i], B[:, i])\n",
    "\n",
    "    return np.round(dps, 2)\n",
    "\n",
    "# Dot product between columns\n",
    "print(f\"Dot product:\\n{dot_product(A, B)}\")"
   ]
  },
  {
   "cell_type": "code",
   "execution_count": 28,
   "id": "168f93ca-1f02-45c2-a57b-6f147991c499",
   "metadata": {},
   "outputs": [],
   "source": [
    "# Define matrices\n",
    "m = 4\n",
    "n = 6\n",
    "A = np.round(np.random.randn(m, n), 2)\n",
    "B = np.round(np.random.randn(n, m), 2)\n",
    "\n",
    "# Function that computes matrix multiplication using for loops\n",
    "def matrix_multiplication(A, B):\n",
    "    matrix = np.zeros((4,4))\n",
    "    for i in range(len(A)):\n",
    "        for j in range(len(B[i])):\n",
    "            matrix[i][j] = sum(A[i, :] * B[:, j])\n",
    "\n",
    "    # matrix = np.array(matrix).reshape(m, m)\n",
    "    return np.round(matrix, 2)"
   ]
  },
  {
   "cell_type": "code",
   "execution_count": 29,
   "id": "99d7439e-90ed-4f6b-a0ec-fd6dd2391dd8",
   "metadata": {},
   "outputs": [
    {
     "name": "stdout",
     "output_type": "stream",
     "text": [
      "A:\n",
      "[[ 1.47  0.06 -0.44 -0.66  0.45 -0.81]\n",
      " [ 2.06  1.91  0.94  1.83 -0.06 -0.09]\n",
      " [-0.07  0.76 -1.63  1.38  0.55 -0.85]\n",
      " [-0.18  0.35 -0.97  0.55  1.15  1.07]] \n",
      "\n",
      "B:\n",
      "[[ 0.24  1.64 -0.84  0.88]\n",
      " [-0.24  0.99  0.63 -1.48]\n",
      " [-0.51 -0.26  0.58  0.86]\n",
      " [-0.11  0.8   0.61 -0.63]\n",
      " [ 0.61 -0.57  0.96  0.32]\n",
      " [ 0.55 -0.29  0.79  0.54]] \n",
      "\n",
      "Matrix multiplication using for loops:\n",
      "[[ 0.46  2.03 -2.06  0.95]\n",
      " [-0.73  6.55  1.01 -1.43]\n",
      " [ 0.35  2.1   0.29 -3.74]\n",
      " [ 1.6  -0.22  2.09 -0.91]]\n",
      "\n"
     ]
    }
   ],
   "source": [
    "print(f\"A:\\n{A}\", '\\n')\n",
    "print(f\"B:\\n{B}\", '\\n')\n",
    "\n",
    "# Using for loops to perform matrix multiplication\n",
    "matrix = matrix_multiplication(A, B)\n",
    "print(f\"Matrix multiplication using for loops:\\n{matrix}\\n\")"
   ]
  },
  {
   "cell_type": "code",
   "execution_count": 30,
   "id": "1c882f4f-c1b2-4910-83a0-0f4bbdb6a5e6",
   "metadata": {},
   "outputs": [
    {
     "name": "stdout",
     "output_type": "stream",
     "text": [
      "Matrix multiplication using NumPy:\n",
      "[[ 0.46  2.03 -2.06  0.95]\n",
      " [-0.73  6.55  1.01 -1.43]\n",
      " [ 0.35  2.1   0.29 -3.74]\n",
      " [ 1.6  -0.22  2.09 -0.91]]\n"
     ]
    }
   ],
   "source": [
    "# Using NumPy to perform matrix multiplication\n",
    "print(\"Matrix multiplication using NumPy:\")\n",
    "print(np.round(np.matmul(A, B), 2))"
   ]
  },
  {
   "cell_type": "markdown",
   "id": "39c8b953-d915-4919-a3a5-7658fc46ef11",
   "metadata": {
    "tags": []
   },
   "source": [
    "## Cauchy-Schwarz inequality: Code challenge\n",
    "The Cauchy-Schwarz says the absolute value or the magnitude of the dot product between two vectors is less than or equal to the product of the norms of those two vectors.\n",
    "\n",
    "$$\\large\n",
    "|a^{T} b|\\leq \\| a\\| \\ \\| b\\|\n",
    "$$\n",
    "\n",
    "Your goals:\n",
    "1. Prove the C-S inequality.\n",
    "2. Determine the condition for equality.\n",
    "3. Demonstrate in code.\n",
    "\n",
    "#### Solving the challenge\n",
    "1. Cauchy-Schwarz mathematical proof:\n",
    "\n",
    "$$\\large\n",
    " \\begin{array}{l}\n",
    "|a^{T} b|\\leq \\| a\\| \\ \\| b\\| \\\\\n",
    "\\\\\n",
    "\\| a\\| \\ \\| b\\| \\ |cos( \\theta _{ab}) |\\leq \\| a\\| \\ \\| b\\| \\\\\n",
    "\\\\\n",
    "\\| a\\| \\ \\| b\\| \\underbrace{|cos( \\theta _{ab}) |}_{0\\leq |cos( \\theta _{ab}) |\\leq 1} \\leq \\| a\\| \\ \\| b\\| \\\\\n",
    "\\\\\n",
    "cos( \\theta _{ab}) \\leq 1\n",
    "\\end{array}\n",
    "$$\n",
    "\n",
    "2. Determine the condition for equality:\n",
    "    - Whenever the angle $\\theta$ between vectors $a$ and $b$ is $0$ or $180$ degrees, the cosine will be $1$ or $-1$, and its absoulte value will be $1$. Thus, the magnitudes of both vectors will be equal. In other words, $\\| a\\| \\ \\| b\\|= \\| a\\| \\ \\| b\\|$\n",
    "3. Code below."
   ]
  },
  {
   "cell_type": "code",
   "execution_count": 31,
   "id": "ff219fd9-02d3-4a69-85cf-eec477f5fb28",
   "metadata": {},
   "outputs": [
    {
     "name": "stdout",
     "output_type": "stream",
     "text": [
      "Vector a: [-1.04 -1.24]\n",
      "Vector b: [-0.41  1.07]\n",
      "Vector c: [0.82 0.97]\n",
      "\n",
      "Inequality:      \n",
      "aTb <= ||a|| ||b||       \n",
      "0.9 <= 1.85\n",
      "\n",
      "Equality:      \n",
      "aTc = ||a|| ||c||       \n",
      "2.06 <= 2.06\n"
     ]
    },
    {
     "data": {
      "image/png": "[encoded data removed]",
      "text/plain": [
       "<Figure size 500x500 with 1 Axes>"
      ]
     },
     "metadata": {
      "needs_background": "light"
     },
     "output_type": "display_data"
    }
   ],
   "source": [
    "# Create three vectors, one of which is dependent on another\n",
    "a = np.round(np.random.randn(2), 2)\n",
    "b = np.round(np.random.randn(2), 2)\n",
    "c = np.round(np.random.randn(1) * a, 2)\n",
    "print(f\"Vector a: {a}\\nVector b: {b}\\nVector c: {c}\\n\")\n",
    "\n",
    "# Left-hand side of equation. Compute the absolute value of their dot products\n",
    "aTb = np.abs(np.dot(a, b))\n",
    "aTc = np.abs(np.dot(a, c))\n",
    "\n",
    "# Right-hand side of equation. Compute the magnitues of vectors a, b, c\n",
    "norm_a = np.linalg.norm(a)\n",
    "norm_b = np.linalg.norm(b)\n",
    "norm_c = np.linalg.norm(c)\n",
    "\n",
    "# Demonstrate the inequalities\n",
    "print(f'Inequality:\\\n",
    "      \\naTb <= ||a|| ||b|| \\\n",
    "      \\n{np.round(aTb, 2)} <= {np.round(norm_a * norm_b, 2)}\\n')\n",
    "\n",
    "# Demonstrate the equalities\n",
    "print(f'Equality:\\\n",
    "      \\naTc = ||a|| ||c|| \\\n",
    "      \\n{np.round(aTc, 2)} <= {np.round(norm_a * norm_c, 2)}')\n",
    "\n",
    "# Plot vectors\n",
    "plt.figure(figsize=(5,5), dpi=100)\n",
    "plt.plot([0, a[0]],[0, a[1]],'b',label='a')\n",
    "plt.plot([0, b[0]],[0, b[1]],'r',label='b')\n",
    "plt.plot([0, c[0]],[0, c[1]],'g',label='c')\n",
    "\n",
    "# plot_axis(vectors, ax=np.max(np.absolute(vectors))+0.5)\n",
    "plot_axis(vector_list=[a,b,c], ax=np.max(np.abs([a,b,c]))+0.5)\n",
    "plt.show()"
   ]
  },
  {
   "cell_type": "code",
   "execution_count": null,
   "id": "f5055451-8cb3-4cb1-b334-467b8c77ae53",
   "metadata": {},
   "outputs": [],
   "source": []
  }
 ],
 "metadata": {
  "kernelspec": {
   "display_name": "Python 3 (ipykernel)",
   "language": "python",
   "name": "python3"
  },
  "language_info": {
   "codemirror_mode": {
    "name": "ipython",
    "version": 3
   },
   "file_extension": ".py",
   "mimetype": "text/x-python",
   "name": "python",
   "nbconvert_exporter": "python",
   "pygments_lexer": "ipython3",
   "version": "3.9.12"
  }
 },
 "nbformat": 4,
 "nbformat_minor": 5
}
