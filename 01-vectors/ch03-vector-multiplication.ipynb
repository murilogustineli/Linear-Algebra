{
 "cells": [
  {
   "cell_type": "markdown",
   "id": "dff00007-9dd5-46a8-9a73-f49e8c85e480",
   "metadata": {},
   "source": [
    "# Linear Algebra\n",
    "## Ch03 - Vector Multiplication"
   ]
  },
  {
   "cell_type": "code",
   "execution_count": null,
   "id": "d7bc63a4-2bf6-4f3e-8487-57db80af69ba",
   "metadata": {},
   "outputs": [],
   "source": []
  }
 ],
 "metadata": {
  "kernelspec": {
   "display_name": "Python 3 (ipykernel)",
   "language": "python",
   "name": "python3"
  },
  "language_info": {
   "codemirror_mode": {
    "name": "ipython",
    "version": 3
   },
   "file_extension": ".py",
   "mimetype": "text/x-python",
   "name": "python",
   "nbconvert_exporter": "python",
   "pygments_lexer": "ipython3",
   "version": "3.8.13"
  }
 },
 "nbformat": 4,
 "nbformat_minor": 5
}
