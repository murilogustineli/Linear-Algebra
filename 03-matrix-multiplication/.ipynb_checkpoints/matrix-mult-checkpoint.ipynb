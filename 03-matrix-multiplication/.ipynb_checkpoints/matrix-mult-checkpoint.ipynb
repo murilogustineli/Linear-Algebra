{
 "cells": [
  {
   "cell_type": "markdown",
   "id": "8e9cc64e-2c8e-4292-b771-da90764bce2d",
   "metadata": {},
   "source": [
    "# Linear Algebra\n",
    "## Matrix Multiplication"
   ]
  },
  {
   "cell_type": "code",
   "execution_count": 1,
   "id": "1d7b4aba-4adf-4ad3-905b-d46f5fbf4056",
   "metadata": {},
   "outputs": [],
   "source": [
    "import numpy as np\n",
    "import matplotlib.pyplot as plt\n",
    "import math"
   ]
  },
  {
   "cell_type": "markdown",
   "id": "ee6d82ca-2af5-47db-9e18-28c18d41ea54",
   "metadata": {},
   "source": [
    "## \"Standard\" matrix multiplication\n",
    "Matrix multiplication is NOT commutative, the order matters! $AB \\neq BA$\n",
    "\n",
    "Rules for matrix multiplication:\n",
    "- The number of columns in the left matrix must be the same as the number of rows in the right matrix.\n",
    "> Inner dimensions must match ($N, N$)\n",
    "- The result will be a matrix with the same number of rows in the left matrix and the same number of columns in the right matrix.\n",
    "> Outer dimensions is the size of resulting matrix ($M, K$)\n",
    "\n",
    "$$\\large\n",
    "\\begin{matrix}\n",
    "\\begin{bmatrix}\n",
    " &  &  &  &  & \\\\\n",
    " &  &  &  &  & \\\\\n",
    " &  &  &  &  & \\\\\n",
    " &  &  &  &  & \n",
    "\\end{bmatrix} & \\begin{bmatrix}\n",
    " & \\\\\n",
    " & \\\\\n",
    " & \\\\\n",
    " & \\\\\n",
    " & \\\\\n",
    " & \n",
    "\\end{bmatrix} & = & \\begin{bmatrix}\n",
    " & \\\\\n",
    " & \\\\\n",
    " & \\\\\n",
    " & \n",
    "\\end{bmatrix}\\\\\n",
    "M\\times N & N\\times K &  & M\\times K\n",
    "\\end{matrix}\n",
    "$$\n",
    "\n",
    "### Element perspective matrix multiplication\n",
    "Each element $c_{i,j}$ in $AB=C$ is the dot product between the $\\text i^{th}$ row in $A$ and the $\\text j^{th}$ column in $B$.\n",
    "\n",
    "$$\\large\n",
    "\\begin{bmatrix}\n",
    "1 & 2\\\\\n",
    "3 & 4\n",
    "\\end{bmatrix}\\begin{bmatrix}\n",
    "a & b\\\\\n",
    "c & d\n",
    "\\end{bmatrix} =\\begin{bmatrix}\n",
    "1a+2c & 1b+2d\\\\\n",
    "3a+4c & 3b+4d\n",
    "\\end{bmatrix}\n",
    "$$"
   ]
  },
  {
   "cell_type": "code",
   "execution_count": 2,
   "id": "a06bf378-04ca-482f-a94a-a429423bd3a1",
   "metadata": {},
   "outputs": [
    {
     "name": "stdout",
     "output_type": "stream",
     "text": [
      "A * B:\n",
      "[[ 0. -2.  0. -2. -2.  0.]\n",
      " [ 0.  2.  1.  0.  2.  0.]\n",
      " [ 0.  1.  0.  1.  1.  0.]\n",
      " [ 0.  1. -1.  2.  2.  0.]]\n",
      "\n",
      "A.T * C:\n",
      "[[ 2.  1. -7.  0. -4. -3.]\n",
      " [-1. -1.  4.  0.  3.  2.]\n",
      " [ 0.  2.  3.  4.  2.  1.]]\n",
      "\n",
      "B * B.T:\n",
      "[[5. 4. 3.]\n",
      " [4. 5. 2.]\n",
      " [3. 2. 3.]]\n",
      "\n",
      "B.T * B:\n",
      "[[ 0.  0.  0.  0.  0.  0.]\n",
      " [ 0.  2.  0.  1.  3.  0.]\n",
      " [ 0.  0.  1.  0. -2.  0.]\n",
      " [ 0.  1.  0.  1.  1.  0.]\n",
      " [ 0.  3. -2.  1.  9.  0.]\n",
      " [ 0.  0.  0.  0.  0.  0.]]\n",
      "\n",
      "C * B.T:\n",
      "[[-1.  1. -3.]\n",
      " [-2.  1. -1.]\n",
      " [-2. -3.  0.]\n",
      " [ 3.  3.  1.]]\n"
     ]
    }
   ],
   "source": [
    "# Rules for multiplication validity\n",
    "m = 4\n",
    "n = 3\n",
    "k = 6\n",
    "\n",
    "# Make some matrices\n",
    "A = np.round(np.random.randn(m,n)) # 4x3\n",
    "B = np.round(np.random.randn(n,k)) # 3x6\n",
    "C = np.round(np.random.randn(m,k)) # 4x6\n",
    "\n",
    "# Test which multiplications are valid\n",
    "# Think of your answer first, then test\n",
    "print('A * B:')\n",
    "print(np.matmul(A,B)), print() # yes\n",
    "\n",
    "# np.matmul(A,A) # no\n",
    "\n",
    "print('A.T * C:')\n",
    "print(np.matmul(A.T,C)), print() # yes\n",
    "\n",
    "print('B * B.T:')\n",
    "print(np.matmul(B,B.T)), print() # yes\n",
    "\n",
    "print('B.T * B:')\n",
    "print(np.matmul(np.matrix.transpose(B),B)), print() # yes\n",
    "\n",
    "# np.matmul(B,C) # no\n",
    "# np.matmul(C,B) # no\n",
    "# np.matmul(C.T,B) # no\n",
    "\n",
    "print('C * B.T:')\n",
    "print(np.matmul(C,B.T)) # yes"
   ]
  },
  {
   "cell_type": "markdown",
   "id": "1f0b43f3-0c75-4b46-ad39-960956bcbb97",
   "metadata": {},
   "source": [
    "## Code challenge: matrix multiplication by layering\n",
    "Implement matrix multiplication via layers.\n",
    "\n",
    "1. Generate two matrices (A, B)\n",
    "2. Build the product matrix layer-wise (for loops)\n",
    "3. Implement the matrix multiplication directly (multiplying two matrices without a loop)\n",
    "4. Compare results"
   ]
  },
  {
   "cell_type": "code",
   "execution_count": 3,
   "id": "d1b51018-ba0a-4ae7-a812-1e9c2a32d813",
   "metadata": {},
   "outputs": [
    {
     "name": "stdout",
     "output_type": "stream",
     "text": [
      "[[-0.71  0.17 -0.77]\n",
      " [ 0.82 -1.06 -3.08]\n",
      " [-0.21  0.26  1.58]\n",
      " [-0.09 -0.02  0.68]]\n",
      "\n",
      "[[ 0.44 -0.76 -0.5   0.83]\n",
      " [ 1.71  0.86 -0.96 -0.15]\n",
      " [-0.67 -0.7   0.52  0.63]]\n",
      "\n",
      "Layer-wise matrix: \n",
      "[[ 0.494  1.225 -0.209 -1.1  ]\n",
      " [ 0.612  0.621 -0.994 -1.101]\n",
      " [-0.706 -0.723  0.677  0.782]\n",
      " [-0.529 -0.425  0.418  0.357]]\n",
      "\n",
      "NumPy direct multiplication: \n",
      "[[ 0.494  1.225 -0.209 -1.1  ]\n",
      " [ 0.612  0.621 -0.994 -1.101]\n",
      " [-0.706 -0.723  0.677  0.782]\n",
      " [-0.529 -0.425  0.418  0.357]]\n"
     ]
    }
   ],
   "source": [
    "# 1. Define matrices A & B\n",
    "m = 4\n",
    "n = 3\n",
    "A = np.round(np.random.randn(m, n), 2)\n",
    "B = np.round(np.random.randn(n, m), 2)\n",
    "print(A), print()\n",
    "print(B), print()\n",
    "\n",
    "\n",
    "# 2. Build the product matrix layer-wise (for loops)\n",
    "matrix = np.zeros((m, m))\n",
    "for i in range(m):\n",
    "    for j in range(m):\n",
    "        # matrix[i][j] = np.dot(A[i], B[:,j])\n",
    "        matrix[i][j] = np.sum(A[i] * B[:,j])\n",
    "        \n",
    "# 3. Implement the matrix multiplication directly (multiplying two matrices without a loop)\n",
    "np_mult = np.matmul(A, B)\n",
    "\n",
    "# Compare results\n",
    "print(f\"Layer-wise matrix: \\n{np.round(matrix, 3)}\\n\")\n",
    "print(f\"NumPy direct multiplication: \\n{np.round(np_mult, 3)}\")"
   ]
  },
  {
   "cell_type": "code",
   "execution_count": null,
   "id": "a6981dd1-92db-4cc4-85d3-a2126e8e39ca",
   "metadata": {},
   "outputs": [],
   "source": []
  }
 ],
 "metadata": {
  "kernelspec": {
   "display_name": "Python 3 (ipykernel)",
   "language": "python",
   "name": "python3"
  },
  "language_info": {
   "codemirror_mode": {
    "name": "ipython",
    "version": 3
   },
   "file_extension": ".py",
   "mimetype": "text/x-python",
   "name": "python",
   "nbconvert_exporter": "python",
   "pygments_lexer": "ipython3",
   "version": "3.9.12"
  }
 },
 "nbformat": 4,
 "nbformat_minor": 5
}
