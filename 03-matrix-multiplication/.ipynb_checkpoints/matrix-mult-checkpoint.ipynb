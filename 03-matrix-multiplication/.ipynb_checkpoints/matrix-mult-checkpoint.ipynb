{
 "cells": [
  {
   "cell_type": "markdown",
   "id": "8e9cc64e-2c8e-4292-b771-da90764bce2d",
   "metadata": {},
   "source": [
    "# Linear Algebra\n",
    "## Matrix Multiplication"
   ]
  },
  {
   "cell_type": "code",
   "execution_count": 1,
   "id": "1d7b4aba-4adf-4ad3-905b-d46f5fbf4056",
   "metadata": {},
   "outputs": [],
   "source": [
    "import numpy as np\n",
    "import matplotlib.pyplot as plt\n",
    "import math"
   ]
  },
  {
   "cell_type": "markdown",
   "id": "ee6d82ca-2af5-47db-9e18-28c18d41ea54",
   "metadata": {},
   "source": [
    "## \"Standard\" matrix multiplication\n",
    "Matrix multiplication is NOT commutative, the order matters! $AB \\neq BA$\n",
    "\n",
    "Rules for matrix multiplication:\n",
    "- The number of columns in the left matrix must be the same as the number of rows in the right matrix.\n",
    "> Inner dimensions must match ($N, N$)\n",
    "- The result will be a matrix with the same number of rows in the left matrix and the same number of columns in the right matrix.\n",
    "> Outer dimensions is the size of resulting matrix ($M, K$)\n",
    "\n",
    "$$\\large\n",
    "\\begin{matrix}\n",
    "\\begin{bmatrix}\n",
    " &  &  &  &  & \\\\\n",
    " &  &  &  &  & \\\\\n",
    " &  &  &  &  & \\\\\n",
    " &  &  &  &  & \n",
    "\\end{bmatrix} & \\begin{bmatrix}\n",
    " & \\\\\n",
    " & \\\\\n",
    " & \\\\\n",
    " & \\\\\n",
    " & \\\\\n",
    " & \n",
    "\\end{bmatrix} & = & \\begin{bmatrix}\n",
    " & \\\\\n",
    " & \\\\\n",
    " & \\\\\n",
    " & \n",
    "\\end{bmatrix}\\\\\n",
    "M\\times N & N\\times K &  & M\\times K\n",
    "\\end{matrix}\n",
    "$$\n",
    "\n",
    "### Element perspective matrix multiplication\n",
    "Each element $c_{i,j}$ in $AB=C$ is the dot product between the $\\text i^{th}$ row in $A$ and the $\\text j^{th}$ column in $B$.\n",
    "\n",
    "$$\\large\n",
    "\\begin{bmatrix}\n",
    "1 & 2\\\\\n",
    "3 & 4\n",
    "\\end{bmatrix}\\begin{bmatrix}\n",
    "a & b\\\\\n",
    "c & d\n",
    "\\end{bmatrix} =\\begin{bmatrix}\n",
    "1a+2c & 1b+2d\\\\\n",
    "3a+4c & 3b+4d\n",
    "\\end{bmatrix}\n",
    "$$"
   ]
  },
  {
   "cell_type": "code",
   "execution_count": 2,
   "id": "a06bf378-04ca-482f-a94a-a429423bd3a1",
   "metadata": {},
   "outputs": [
    {
     "name": "stdout",
     "output_type": "stream",
     "text": [
      "A * B:\n",
      "[[-2.  0. -1.  0. -1. -1.]\n",
      " [ 0.  0. -3.  0.  1. -1.]\n",
      " [ 0.  0.  0.  0.  0.  0.]\n",
      " [ 2.  0. -2.  0.  2.  0.]]\n",
      "\n",
      "A.T * C:\n",
      "[[ 0.  0.  0.  3.  1.  1.]\n",
      " [ 0.  0.  0.  0.  0.  0.]\n",
      " [-2. -2. -2.  1.  3.  5.]]\n",
      "\n",
      "B * B.T:\n",
      "[[ 6. -2. -1.]\n",
      " [-2.  5.  2.]\n",
      " [-1.  2.  3.]]\n",
      "\n",
      "B.T * B:\n",
      "[[ 3. -1.  0. -1.  1.  0.]\n",
      " [-1.  1.  1.  1.  0.  1.]\n",
      " [ 0.  1.  6.  1. -1.  3.]\n",
      " [-1.  1.  1.  1.  0.  1.]\n",
      " [ 1.  0. -1.  0.  1.  0.]\n",
      " [ 0.  1.  3.  1.  0.  2.]]\n",
      "\n",
      "C * B.T:\n",
      "[[ 1.  4.  0.]\n",
      " [-2.  0. -1.]\n",
      " [ 4. -4. -1.]\n",
      " [ 1.  0.  2.]]\n"
     ]
    }
   ],
   "source": [
    "# Rules for multiplication validity\n",
    "m = 4\n",
    "n = 3\n",
    "k = 6\n",
    "\n",
    "# Make some matrices\n",
    "A = np.round(np.random.randn(m,n)) # 4x3\n",
    "B = np.round(np.random.randn(n,k)) # 3x6\n",
    "C = np.round(np.random.randn(m,k)) # 4x6\n",
    "\n",
    "# Test which multiplications are valid\n",
    "# Think of your answer first, then test\n",
    "print('A * B:')\n",
    "print(np.matmul(A,B)), print() # yes\n",
    "\n",
    "# np.matmul(A,A) # no\n",
    "\n",
    "print('A.T * C:')\n",
    "print(np.matmul(A.T,C)), print() # yes\n",
    "\n",
    "print('B * B.T:')\n",
    "print(np.matmul(B,B.T)), print() # yes\n",
    "\n",
    "print('B.T * B:')\n",
    "print(np.matmul(np.matrix.transpose(B),B)), print() # yes\n",
    "\n",
    "# np.matmul(B,C) # no\n",
    "# np.matmul(C,B) # no\n",
    "# np.matmul(C.T,B) # no\n",
    "\n",
    "print('C * B.T:')\n",
    "print(np.matmul(C,B.T)) # yes"
   ]
  },
  {
   "cell_type": "markdown",
   "id": "1f0b43f3-0c75-4b46-ad39-960956bcbb97",
   "metadata": {},
   "source": [
    "## Code challenge: matrix multiplication by layering\n",
    "Implement matrix multiplication via layers.\n",
    "\n",
    "1. Generate two matrices (A, B)\n",
    "2. Build the product matrix layer-wise (for loops)\n",
    "3. Implement the matrix multiplication directly (multiplying two matrices without a loop)\n",
    "4. Compare results"
   ]
  },
  {
   "cell_type": "code",
   "execution_count": 3,
   "id": "d1b51018-ba0a-4ae7-a812-1e9c2a32d813",
   "metadata": {},
   "outputs": [
    {
     "name": "stdout",
     "output_type": "stream",
     "text": [
      "Matrix A:\n",
      "[[ 0.95  0.25 -0.77]\n",
      " [ 1.15 -0.58  3.17]\n",
      " [ 1.04 -0.29  0.09]\n",
      " [-0.82  0.92 -0.29]]\n",
      "\n",
      "Matrix B:\n",
      "[[ 1.73  0.08  0.69 -0.59]\n",
      " [-0.49  0.71  1.53  1.67]\n",
      " [-0.29 -0.41  0.56 -0.51]]\n",
      "\n",
      "Layer-wise matrix: \n",
      "[[ 1.74  0.57  0.61  0.25]\n",
      " [ 1.35 -1.62  1.68 -3.26]\n",
      " [ 1.92 -0.16  0.32 -1.14]\n",
      " [-1.79  0.71  0.68  2.17]]\n",
      "\n",
      "NumPy direct multiplication: \n",
      "[[ 1.74  0.57  0.61  0.25]\n",
      " [ 1.35 -1.62  1.68 -3.26]\n",
      " [ 1.92 -0.16  0.32 -1.14]\n",
      " [-1.79  0.71  0.68  2.17]]\n"
     ]
    }
   ],
   "source": [
    "# 1. Define matrices A & B\n",
    "m = 4\n",
    "n = 3\n",
    "A = np.round(np.random.randn(m, n), 2)\n",
    "B = np.round(np.random.randn(n, m), 2)\n",
    "print(f\"Matrix A:\\n{A}\"), print()\n",
    "print(f\"Matrix B:\\n{B}\"), print()\n",
    "\n",
    "\n",
    "# 2. Build the product matrix layer-wise (for loops)\n",
    "matrix = np.zeros((m, m))\n",
    "for i in range(m):\n",
    "    for j in range(m):\n",
    "        # matrix[i][j] = np.dot(A[i], B[:,j])\n",
    "        matrix[i][j] = np.sum(A[i] * B[:,j])\n",
    "        \n",
    "# 3. Implement the matrix multiplication directly (multiplying two matrices without a loop)\n",
    "# np_mult = A@B\n",
    "np_mult = np.matmul(A, B)\n",
    "\n",
    "# Compare results\n",
    "print(f\"Layer-wise matrix: \\n{np.round(matrix, 2)}\\n\")\n",
    "print(f\"NumPy direct multiplication: \\n{np.round(np_mult, 2)}\")"
   ]
  },
  {
   "cell_type": "markdown",
   "id": "5dc28011-738a-4ef4-9d9c-b84ae78e55df",
   "metadata": {},
   "source": [
    "## Matrix-vector multiplication\n",
    "When multiplying a matrix with a vector the result will always be a vector.\n",
    "\n",
    "$$\\large\n",
    " \\begin{array}{l}\n",
    "\\begin{matrix}\n",
    "A & \\cdot  & w & = & v\\\\\n",
    "m\\times n &  & n\\times 1 &  & m\\times 1\n",
    "\\end{matrix} \\ \\ \\ \\ \\ \\ \\ \\ \\ \\ \\begin{matrix}\n",
    "\\begin{bmatrix}\n",
    "a & b\\\\\n",
    "c & d\n",
    "\\end{bmatrix} & \\begin{bmatrix}\n",
    "2\\\\\n",
    "3\n",
    "\\end{bmatrix} & = & \\begin{bmatrix}\n",
    "a2+b3\\\\\n",
    "c2+d3\n",
    "\\end{bmatrix}\\\\\n",
    "2\\times 2 & 2\\times 1 &  & 2\\times 1\n",
    "\\end{matrix}\\\\\n",
    "\\\\\n",
    "\\begin{matrix}\n",
    "w^{T} & \\cdot  & A & = & v\\\\\n",
    "1\\times m &  & m\\times n &  & 1\\times n\n",
    "\\end{matrix} \\ \\ \\ \\ \\ \\ \\ \\ \\ \\ \\begin{matrix}\n",
    "\\begin{bmatrix}\n",
    "2 & 3\n",
    "\\end{bmatrix} & \\begin{bmatrix}\n",
    "a & b\\\\\n",
    "c & d\n",
    "\\end{bmatrix} & = & \\begin{bmatrix}\n",
    "a2+c3 & b2+d3\n",
    "\\end{bmatrix}\\\\\n",
    "1\\times 2 & 2\\times 2 &  & 1\\times 2\n",
    "\\end{matrix}\n",
    "\\end{array}\n",
    "$$\n",
    "\n",
    "Concept:\n",
    "- $Aw$ &rightarrow; weighted combinations of the ***columns*** of A\n",
    "- $w^{T}A$ &rightarrow; weighted combinations of the ***rows*** of A"
   ]
  },
  {
   "cell_type": "code",
   "execution_count": 4,
   "id": "e6ba748a-2f6f-45ac-b2b4-f0bcbc62cea3",
   "metadata": {},
   "outputs": [
    {
     "name": "stdout",
     "output_type": "stream",
     "text": [
      "Matrix-vector:\n",
      "[ 8 17 26]\n",
      "\n",
      "vector-Matrix:\n",
      "[18 21 24]\n"
     ]
    }
   ],
   "source": [
    "A = np.array([[1,2,3],[4,5,6],[7,8,9]])\n",
    "w = np.array([0,1,2])\n",
    "\n",
    "# Matrix-vector multiplication\n",
    "print(f\"Matrix-vector:\\n{A@w}\\n\")\n",
    "print(f\"vector-Matrix:\\n{w.T@A}\")"
   ]
  },
  {
   "cell_type": "markdown",
   "id": "900af04c-018b-42b9-ae44-295222d8daf7",
   "metadata": {},
   "source": [
    "## 2D transformation matrices"
   ]
  },
  {
   "cell_type": "code",
   "execution_count": 5,
   "id": "b0f91d52-5ec3-4ac0-965a-44cbf4983c9e",
   "metadata": {},
   "outputs": [],
   "source": [
    "# Plot axis\n",
    "def plot_axis(ax=3):\n",
    "    plt.plot([-ax, ax],[0, 0],'k--')\n",
    "    plt.plot([0, 0],[-ax, ax],'k--')\n",
    "    plt.grid(color='blue', linestyle='--', linewidth=1, alpha=0.2)\n",
    "    plt.legend(loc='upper left')\n",
    "    plt.axis([-ax,ax,-ax,ax]);"
   ]
  },
  {
   "cell_type": "markdown",
   "id": "4e77f4d7-442a-48a1-a079-0adcc1c2204f",
   "metadata": {},
   "source": [
    "#### Rotation + stretching"
   ]
  },
  {
   "cell_type": "code",
   "execution_count": 6,
   "id": "39603ef0-6b57-4a04-9bb3-7ecf7837372f",
   "metadata": {},
   "outputs": [
    {
     "data": {
      "image/png": "[encoded data removed]",
      "text/plain": [
       "<Figure size 500x500 with 1 Axes>"
      ]
     },
     "metadata": {
      "needs_background": "light"
     },
     "output_type": "display_data"
    }
   ],
   "source": [
    "# 2D input vector\n",
    "v = np.array([3, -2])\n",
    "\n",
    "# 2x2 transformation matrix\n",
    "A = np.array([[1,-1], [2,1]])\n",
    "\n",
    "# Output vector is Av (convert v to column)\n",
    "w = A@np.matrix.transpose(v)\n",
    "\n",
    "# Plot them\n",
    "plt.figure(figsize=(5,5), dpi=100)\n",
    "plt.plot([0,v[0]],[0,v[1]],label='v')\n",
    "plt.plot([0,w[0]],[0,w[1]],label='Av')\n",
    "plt.title('Rotation + stretching')\n",
    "\n",
    "# Plot axis\n",
    "plot_axis(ax=6)\n",
    "plt.show()"
   ]
  },
  {
   "cell_type": "markdown",
   "id": "1fddefab-a0bf-4b3c-b66d-cbc7591d308e",
   "metadata": {},
   "source": [
    "#### Pure rotation"
   ]
  },
  {
   "cell_type": "code",
   "execution_count": 7,
   "id": "d4cc87d0-74c2-4b82-944b-25d9f260b855",
   "metadata": {},
   "outputs": [
    {
     "data": {
      "image/png": "[encoded data removed]",
      "text/plain": [
       "<Figure size 500x500 with 1 Axes>"
      ]
     },
     "metadata": {
      "needs_background": "light"
     },
     "output_type": "display_data"
    }
   ],
   "source": [
    "# 2D input vector\n",
    "v = np.array([ 3, -2 ])\n",
    "\n",
    "# 2x2 rotation matrix\n",
    "th = 5*np.pi/24\n",
    "A = np.array([ [math.cos(th),-math.sin(th)], [math.sin(th),math.cos(th)] ])\n",
    "\n",
    "# Output vector is Av (convert v to column)\n",
    "w = A@np.matrix.transpose(v)\n",
    "\n",
    "\n",
    "# Plot them\n",
    "plt.figure(figsize=(5,5), dpi=100)\n",
    "plt.plot([0,v[0]],[0,v[1]],label='v')\n",
    "plt.plot([0,w[0]],[0,w[1]],label='Av')\n",
    "plt.title('Pure rotation')\n",
    "\n",
    "# Plot axis\n",
    "plot_axis(ax=4)\n",
    "plt.show()"
   ]
  },
  {
   "cell_type": "code",
   "execution_count": null,
   "id": "89e7b947-8922-4d2f-a5fb-6b3c06bd363c",
   "metadata": {},
   "outputs": [],
   "source": []
  }
 ],
 "metadata": {
  "kernelspec": {
   "display_name": "Python 3 (ipykernel)",
   "language": "python",
   "name": "python3"
  },
  "language_info": {
   "codemirror_mode": {
    "name": "ipython",
    "version": 3
   },
   "file_extension": ".py",
   "mimetype": "text/x-python",
   "name": "python",
   "nbconvert_exporter": "python",
   "pygments_lexer": "ipython3",
   "version": "3.9.12"
  }
 },
 "nbformat": 4,
 "nbformat_minor": 5
}
