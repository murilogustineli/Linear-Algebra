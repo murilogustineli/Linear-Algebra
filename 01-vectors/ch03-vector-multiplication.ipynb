{
 "cells": [
  {
   "cell_type": "markdown",
   "id": "dff00007-9dd5-46a8-9a73-f49e8c85e480",
   "metadata": {},
   "source": [
    "# Linear Algebra\n",
    "## Ch03 - Vector Multiplication"
   ]
  },
  {
   "cell_type": "markdown",
   "id": "0e20e3fd-b820-4267-8f62-8ad82ff17912",
   "metadata": {},
   "source": [
    "## Dot product"
   ]
  },
  {
   "cell_type": "code",
   "execution_count": 1,
   "id": "b758f987-3e9c-4634-9655-f15dab5bf860",
   "metadata": {},
   "outputs": [],
   "source": [
    "import numpy as np\n",
    "import matplotlib.pyplot as plt\n",
    "import seaborn as sns\n",
    "from mpl_toolkits.mplot3d import Axes3D"
   ]
  },
  {
   "cell_type": "code",
   "execution_count": 2,
   "id": "71e26f63-7672-4b35-beed-c9fd70c79530",
   "metadata": {},
   "outputs": [
    {
     "data": {
      "text/plain": [
       "27"
      ]
     },
     "execution_count": 2,
     "metadata": {},
     "output_type": "execute_result"
    }
   ],
   "source": [
    "# dot product\n",
    "v1 = np.array([2, 5, 4, 7])\n",
    "v2 = np.array([4, 1, 0, 2])\n",
    "np.dot(v1, v2)"
   ]
  },
  {
   "cell_type": "code",
   "execution_count": 3,
   "id": "6ac7170a-a5ba-4ee8-947f-1a4a3f29acc9",
   "metadata": {},
   "outputs": [
    {
     "data": {
      "text/plain": [
       "array([ 8,  5,  0, 14])"
      ]
     },
     "execution_count": 3,
     "metadata": {},
     "output_type": "execute_result"
    }
   ],
   "source": [
    "v3 = v1*v2\n",
    "v3"
   ]
  },
  {
   "cell_type": "markdown",
   "id": "01ba3b95-b510-43dd-a6da-fe9accd52fff",
   "metadata": {},
   "source": [
    "### Distributive property of dot product\n",
    "\n",
    "$$\\large\n",
    "w^{T}( u+v) \\ =\\ w^{T} u\\ +\\ w^{T} v\n",
    "$$\n",
    "\n",
    "The dot product is defined as the sum of element-wise multiplications. Common terms can be combined across sums, which brings us to the following:\n",
    "\n",
    "$$\\large\n",
    "\\sum _{i=1}^{n} w_{i}( u_{i} +v_{i}) \\ =\\ \\sum _{i=1}^{n} w_{i} u_{i} \\ +\\ \\sum _{i=1}^{n} w_{i} v_{i}\n",
    "$$\n"
   ]
  },
  {
   "cell_type": "code",
   "execution_count": 4,
   "id": "9997b078-bf32-439a-8fde-56b65d7a3df6",
   "metadata": {},
   "outputs": [
    {
     "name": "stdout",
     "output_type": "stream",
     "text": [
      "19\n",
      "19\n"
     ]
    }
   ],
   "source": [
    "u = np.array([1, 2])\n",
    "v = np.array([1, 3])\n",
    "w = np.array([2, 3])\n",
    "\n",
    "# Distributive property of dot product\n",
    "print(np.dot(w.T, (u+v)))\n",
    "print(np.dot(w.T, u) + np.dot(w.T, v))"
   ]
  },
  {
   "cell_type": "markdown",
   "id": "499662c6-3b51-457c-8671-9524117d28e3",
   "metadata": {},
   "source": [
    "Example of applying the distributive property of the dot product between a vector and itself:\n",
    "\n",
    "$$\\large\n",
    "( u+v)^{T}( u+v) \\ =\\ \\| u+v\\| ^{2} \\ =\\ u^{T} u\\ +\\ 2u^{T} v\\ +\\ v^{T} v\\ =\\ \\| u\\| ^{2} \\ +\\ \\| v\\| ^{2} \\ +\\ 2u^{T} v\n",
    "$$"
   ]
  },
  {
   "cell_type": "code",
   "execution_count": 5,
   "id": "3caadbd9-fd50-4cf2-a4ec-3640fec1aa1b",
   "metadata": {},
   "outputs": [
    {
     "data": {
      "text/plain": [
       "29"
      ]
     },
     "execution_count": 5,
     "metadata": {},
     "output_type": "execute_result"
    }
   ],
   "source": [
    "# Distributive property to the dot product between a vector and itself\n",
    "np.dot((u+v).T, (u+v))"
   ]
  },
  {
   "cell_type": "markdown",
   "id": "e7a4afa5-4952-4340-b640-9b04851d139e",
   "metadata": {},
   "source": [
    "### Linear weighted combination\n",
    "\n",
    "It's a scalar-vector multiplication and addition.\n",
    "\n",
    "$$\\large\n",
    "w = \\lambda _{1} v_{1} + \\lambda _{2} v_{2} + \\lambda _{3} v_{3} + ... + \\lambda _{n} v_{n}\n",
    "$$"
   ]
  },
  {
   "cell_type": "code",
   "execution_count": 6,
   "id": "a2812c30-5f3d-458e-a9f1-d9d2f6584069",
   "metadata": {},
   "outputs": [
    {
     "data": {
      "text/plain": [
       "array([ -7,  -4, -13])"
      ]
     },
     "execution_count": 6,
     "metadata": {},
     "output_type": "execute_result"
    }
   ],
   "source": [
    "# Define scalars and vectors\n",
    "l1 = 1\n",
    "l2 = 2\n",
    "l3 = -3\n",
    "v1 = np.array([4, 5, 1])\n",
    "v2 = np.array([-4, 0, -4])\n",
    "v3 = np.array([1, 3, 2])\n",
    "\n",
    "# Linear weighted combination\n",
    "l1*v1 + l2*v2 + l3*v3"
   ]
  },
  {
   "cell_type": "markdown",
   "id": "fa591915-3544-4e5e-9e63-4fae0826ca63",
   "metadata": {
    "tags": []
   },
   "source": [
    "## Outer product\n",
    "Combining two vectors to produce a matrix. The two vectors don't need to have the same size. The result is a $M\\times N$ matrix.\n",
    "\n",
    "**Dot product:**\n",
    "\n",
    "$\\large v^{T}w = 1\\times 1$\n",
    "\n",
    "\n",
    "**Outer product:**\n",
    "\n",
    "$\\large vw^{T} = M\\times N$\n",
    "\n",
    "This notation indicates that the dot product $(v^{T}w)$ is a $1\\times 1$ array (just a single number; a scalar) whereas the outer product $(vw^{T})$ is a matrix whose sizes are defined by the number of elements in the vectors.\n",
    "\n",
    "### The outer product formula\n",
    "$$\\large\n",
    "(vw^T)_{ij} = v_i w_j\n",
    "$$\n",
    "\n",
    "Example:\n",
    "\n",
    "$$\\large\n",
    "\\begin{bmatrix}\n",
    "a\\\\\n",
    "b\\\\\n",
    "c\n",
    "\\end{bmatrix}\\begin{bmatrix}\n",
    "d & e & f\n",
    "\\end{bmatrix} =\\begin{bmatrix}\n",
    "ad & ae & af\\\\\n",
    "bd & be & bf\\\\\n",
    "cd & ce & cf\n",
    "\\end{bmatrix}\n",
    "$$"
   ]
  },
  {
   "cell_type": "code",
   "execution_count": 7,
   "id": "fdf15b89-8e34-419f-8aca-58abc1a39434",
   "metadata": {},
   "outputs": [
    {
     "name": "stdout",
     "output_type": "stream",
     "text": [
      "Dot product: 27\n",
      "\n",
      "Outer product: \n",
      "[[ 8  2  0  4]\n",
      " [20  5  0 10]\n",
      " [16  4  0  8]\n",
      " [28  7  0 14]]\n"
     ]
    }
   ],
   "source": [
    "# Define vectors\n",
    "v = np.array([2, 5, 4, 7])\n",
    "w = np.array([4, 1, 0, 2])\n",
    "\n",
    "# Dot vs Outer product\n",
    "dot = np.dot(v, w)\n",
    "out = np.outer(v, w)\n",
    "\n",
    "print(f\"Dot product: {dot}\\n\")\n",
    "print(f\"Outer product: \\n{out}\")"
   ]
  },
  {
   "cell_type": "code",
   "execution_count": 8,
   "id": "ad005b89-e273-4eee-ad70-a7cf114933b5",
   "metadata": {},
   "outputs": [
    {
     "data": {
      "text/plain": [
       "array([[ 4,  1, -1],\n",
       "       [ 8,  2, -2],\n",
       "       [12,  3, -3],\n",
       "       [16,  4, -4]])"
      ]
     },
     "execution_count": 8,
     "metadata": {},
     "output_type": "execute_result"
    }
   ],
   "source": [
    "# Vectors with different dimensions M*N\n",
    "v = np.array([1, 2, 3, 4])\n",
    "w = np.array([4, 1, -1])\n",
    "\n",
    "# Outer product\n",
    "np.outer(v, w)"
   ]
  },
  {
   "cell_type": "code",
   "execution_count": 9,
   "id": "48a374d9-d926-4bd9-9a7d-40ad207b4b2d",
   "metadata": {},
   "outputs": [
    {
     "data": {
      "text/plain": [
       "array([[  30,    6,   90,   12],\n",
       "       [ 400,   80, 1200,  160]])"
      ]
     },
     "execution_count": 9,
     "metadata": {},
     "output_type": "execute_result"
    }
   ],
   "source": [
    "a = np.array([3, 40])\n",
    "b = np.array([10, 2, 30, 4])\n",
    "c = np.outer(a, b)\n",
    "c"
   ]
  },
  {
   "cell_type": "markdown",
   "id": "5957bc1f-eaca-4732-b02a-b5a1240179ab",
   "metadata": {},
   "source": [
    "## Element-wise product\n",
    "Multiplying each corresponding element in two vectors. Both vectors must have the same size. This operation results in another vector of the same size $M\\times N$\n",
    "\n",
    "$$\\large\n",
    "c=a\\odot b=[ a_{1} b_{1} \\ \\ \\ a_{2} b_{2} \\ \\ \\ ...\\ \\ \\ a_{n} b_{n}]\n",
    "$$\n",
    "\n"
   ]
  },
  {
   "cell_type": "code",
   "execution_count": 10,
   "id": "514b0be9-9914-4412-b20c-300b61c17a50",
   "metadata": {},
   "outputs": [
    {
     "data": {
      "text/plain": [
       "array([ 8,  5,  0, 14])"
      ]
     },
     "execution_count": 10,
     "metadata": {},
     "output_type": "execute_result"
    }
   ],
   "source": [
    "# Two vectors with the same size\n",
    "a = np.array([2, 5, 4, 7])\n",
    "b = np.array([4, 1, 0, 2])\n",
    "\n",
    "# Element-wise product\n",
    "c = a * b\n",
    "c"
   ]
  },
  {
   "cell_type": "markdown",
   "id": "52f8b737-730b-418d-87be-e885bdf0bcc2",
   "metadata": {},
   "source": [
    "## Cross product\n",
    "Defined only for 3-element vectors. Result is another 3-element vector.\n",
    "\n",
    "$$\\large\n",
    "a\\times b=\\begin{bmatrix}\n",
    "a_{2} b_{3}{} & a_{3} b_{2}\\\\\n",
    "a_{3} b_{1} & a_{1} b_{3}\\\\\n",
    "a_{1} b_{2} & a_{2} b_{1}\n",
    "\\end{bmatrix}\n",
    "$$"
   ]
  },
  {
   "cell_type": "code",
   "execution_count": 11,
   "id": "2a72843f-7af7-4b36-b65c-1083e888cf43",
   "metadata": {},
   "outputs": [
    {
     "data": {
      "text/plain": [
       "array([-7, -3, 11])"
      ]
     },
     "execution_count": 11,
     "metadata": {},
     "output_type": "execute_result"
    }
   ],
   "source": [
    "# Two vectors with same size\n",
    "a = np.array([5, 3, 4])\n",
    "b = np.array([-2, 1, -1])\n",
    "\n",
    "# Cross product\n",
    "c = np.cross(a, b)\n",
    "c"
   ]
  },
  {
   "cell_type": "markdown",
   "id": "6b9c69b4-3e92-45c4-9c34-6ee411139974",
   "metadata": {},
   "source": [
    "## Unit vectors\n",
    "Have magnitude of one: $\\| v\\| =1$\n",
    "\n",
    "Unit vectors allow the creation of orthogonal matrix.\n",
    "\n",
    "$\\large\n",
    "\\mu v\\ \\ \\operatorname{s.t.} \\ \\ \\| \\mu v\\| =1\\ \\ \\ \\operatorname{( s.t.\\ means\\ \"such\\ that\"\\ or\\ \"subject\\ to\")}\n",
    "$\n",
    "\n",
    "$\\mu$ is a scalar used to compute a unit vector in the same direction as vector $v$.\n",
    "\n",
    "### Creating a unit-lenght vector\n",
    "Set $\\mu$ to be the reciprocal (inverse) of the magnitude of the vector. In notation, a unit vector is given a hat to indicate it has a magnitude of one ($v\\rightarrow \\hat{v}$)\n",
    "\n",
    "$$\\large\n",
    "\\hat{v} =\\frac{1}{\\| v\\| } v=\\frac{1}{\\sqrt{\\sum _{i=1}^{n} v_{i}^{2}}} v\n",
    "$$\n",
    "\n",
    "The norm of the vector, $\\| v\\|$, is a scalar, which means:\n",
    "1. Division is allowed (division by a full vector is not defined)\n",
    "2. ___Direction of the vector does not change___\n",
    "\n",
    "Example:\n",
    "\n",
    "$$\\large\n",
    "v=\\begin{bmatrix}\n",
    "0\\\\\n",
    "2\n",
    "\\end{bmatrix} ,\\ \\ \\ \\ \\ \\ \\ \\hat{v} =\\frac{1}{\\sqrt{0^{2} +2^{2}}}\\begin{bmatrix}\n",
    "0\\\\\n",
    "2\n",
    "\\end{bmatrix} =\\begin{bmatrix}\n",
    "0\\\\\n",
    "1\n",
    "\\end{bmatrix}\n",
    "$$\n",
    "\n",
    "Taking $\\mu = \\frac{1}{\\| v\\|}\\| v\\| = 1$ allows for a quick proof tha the unit vector really does have unit lenght:\n",
    "\n",
    "$$\\large\n",
    "\\| \\mu v\\| = \\frac{1}{\\| v\\|}\\| v\\| = 1\n",
    "$$"
   ]
  },
  {
   "cell_type": "code",
   "execution_count": 12,
   "id": "0f4c3beb-564e-41b7-aff3-5e8c43a38bf2",
   "metadata": {},
   "outputs": [
    {
     "data": {
      "text/plain": [
       "array([0., 1.])"
      ]
     },
     "execution_count": 12,
     "metadata": {},
     "output_type": "execute_result"
    }
   ],
   "source": [
    "# Vector\n",
    "v = np.array([0, 2])\n",
    "\n",
    "# Magnitude\n",
    "vMag = np.linalg.norm(v)\n",
    "\n",
    "# Unit vector\n",
    "v_unit = v/vMag\n",
    "v_unit"
   ]
  },
  {
   "cell_type": "code",
   "execution_count": 13,
   "id": "69c476e1-5a03-472d-9b5c-86e053220a73",
   "metadata": {},
   "outputs": [
    {
     "data": {
      "text/plain": [
       "array([0.20628425, 0.51571062, 0.4125685 , 0.72199487])"
      ]
     },
     "execution_count": 13,
     "metadata": {},
     "output_type": "execute_result"
    }
   ],
   "source": [
    "# Unit vector computation\n",
    "v = np.array([2, 5, 4, 7])\n",
    "vMag = np.linalg.norm(v)\n",
    "v_unit = v/vMag\n",
    "v_unit"
   ]
  },
  {
   "cell_type": "code",
   "execution_count": 14,
   "id": "3f68e59f-dade-4352-97d4-91d127ad1ac6",
   "metadata": {},
   "outputs": [
    {
     "data": {
      "text/plain": [
       "array([0.6, 0.8])"
      ]
     },
     "execution_count": 14,
     "metadata": {},
     "output_type": "execute_result"
    }
   ],
   "source": [
    "# Unit vector computation\n",
    "v = np.array([3, 4])\n",
    "vMag = np.linalg.norm(v)\n",
    "v_unit = v/vMag\n",
    "v_unit"
   ]
  },
  {
   "cell_type": "code",
   "execution_count": null,
   "id": "5a52d8fc-52b7-474a-a7b3-d4b7c407c317",
   "metadata": {},
   "outputs": [],
   "source": []
  }
 ],
 "metadata": {
  "kernelspec": {
   "display_name": "Python 3 (ipykernel)",
   "language": "python",
   "name": "python3"
  },
  "language_info": {
   "codemirror_mode": {
    "name": "ipython",
    "version": 3
   },
   "file_extension": ".py",
   "mimetype": "text/x-python",
   "name": "python",
   "nbconvert_exporter": "python",
   "pygments_lexer": "ipython3",
   "version": "3.8.13"
  }
 },
 "nbformat": 4,
 "nbformat_minor": 5
}
