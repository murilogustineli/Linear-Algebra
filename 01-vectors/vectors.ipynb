{
 "cells": [
  {
   "cell_type": "markdown",
   "id": "676f5a08-81c8-4574-93d8-88f14985ab09",
   "metadata": {},
   "source": [
    "# Linear Algebra\n",
    "## Vectors"
   ]
  },
  {
   "cell_type": "code",
   "execution_count": 1,
   "id": "9612d2e5-c6d6-480a-bf48-d6f3b9cfe2a6",
   "metadata": {},
   "outputs": [],
   "source": [
    "import numpy as np\n",
    "import matplotlib.pyplot as plt\n",
    "from mpl_toolkits.mplot3d import Axes3D"
   ]
  },
  {
   "cell_type": "code",
   "execution_count": 48,
   "id": "af6c1e1b-5ad9-4a05-8ca8-ee82291ef49b",
   "metadata": {},
   "outputs": [
    {
     "data": {
      "image/png": "[encoded data removed]",
      "text/plain": [
       "<Figure size 432x288 with 1 Axes>"
      ]
     },
     "metadata": {
      "needs_background": "light"
     },
     "output_type": "display_data"
    }
   ],
   "source": [
    "# Visualize vectors\n",
    "# Same vectors, different coordinates\n",
    "v = np.array([1, -2])\n",
    "\n",
    "# Plot vector\n",
    "plt.plot([0,v[0]], [0, v[1]])\n",
    "plt.plot([-2,-1], [1,-1])\n",
    "plt.plot([1,2], [2,0])\n",
    "\n",
    "# Plot axis\n",
    "plt.plot([-4, 4],[0, 0],'k--')\n",
    "plt.plot([0, 0],[-4, 4],'k--')\n",
    "plt.grid()\n",
    "plt.axis([-3,3,-3,3]);"
   ]
  },
  {
   "cell_type": "code",
   "execution_count": 61,
   "id": "3f672d47-e332-445b-aec6-0f46596d87bf",
   "metadata": {},
   "outputs": [
    {
     "name": "stdout",
     "output_type": "stream",
     "text": [
      "[2, 5, 4, 7] \n",
      "\n",
      "[2 5 4 7] \n",
      "\n",
      "[[2]\n",
      " [5]\n",
      " [4]\n",
      " [7]] \n",
      "\n",
      "[[2 5 4 7]]\n"
     ]
    }
   ],
   "source": [
    "# Different vector orientations\n",
    "v1 = [2, 5, 4, 7] # list\n",
    "v2 = np.array([2, 5, 4, 7]) # array, no orientation\n",
    "v3 = np.array([[2], [5], [4], [7]]) # column vector\n",
    "v4 = np.array([[2, 5, 4, 7]]) # row vector\n",
    "\n",
    "print(v1, '\\n')\n",
    "print(v2, '\\n')\n",
    "print(v3, '\\n')\n",
    "print(v4)"
   ]
  },
  {
   "cell_type": "code",
   "execution_count": 62,
   "id": "417e21b3-f3c9-4609-ad2c-30fef468b484",
   "metadata": {},
   "outputs": [
    {
     "name": "stdout",
     "output_type": "stream",
     "text": [
      "[[2]\n",
      " [5]\n",
      " [4]\n",
      " [7]]\n"
     ]
    }
   ],
   "source": [
    "# Transposing vectors\n",
    "v1 = np.array([[2,5,4,7]]) # row vector\n",
    "v2 = v1.T\n",
    "print(v2)"
   ]
  },
  {
   "cell_type": "code",
   "execution_count": null,
   "id": "bfa76cdb-cbdd-4049-9b10-4dec6404fad0",
   "metadata": {},
   "outputs": [],
   "source": []
  }
 ],
 "metadata": {
  "kernelspec": {
   "display_name": "Python 3 (ipykernel)",
   "language": "python",
   "name": "python3"
  },
  "language_info": {
   "codemirror_mode": {
    "name": "ipython",
    "version": 3
   },
   "file_extension": ".py",
   "mimetype": "text/x-python",
   "name": "python",
   "nbconvert_exporter": "python",
   "pygments_lexer": "ipython3",
   "version": "3.8.13"
  }
 },
 "nbformat": 4,
 "nbformat_minor": 5
}
