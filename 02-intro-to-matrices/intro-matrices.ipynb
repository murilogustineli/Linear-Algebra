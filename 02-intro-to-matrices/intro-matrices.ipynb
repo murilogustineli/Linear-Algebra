{
 "cells": [
  {
   "cell_type": "markdown",
   "id": "cd9a9b80",
   "metadata": {},
   "source": [
    "# Linear Algebra\n",
    "## Ch05 - Intro to Matrices"
   ]
  },
  {
   "cell_type": "markdown",
   "id": "d0f303ad",
   "metadata": {},
   "source": [
    "## Matrix terminology and dimensionality\n",
    "\n",
    "Notation:\n",
    "\n",
    "$$\\large\n",
    "A=\\begin{bmatrix}\n",
    "1 & 6 & 0\\\\\n",
    "7 & 2 & 4\\\\\n",
    "4 & 1 & 1\n",
    "\\end{bmatrix} \\ \\ \\ \\ \\ \\ \\ \\ \\ \\ a_{1,2} =6\n",
    "$$\n",
    "\n",
    "This is a $3\\times 3$ Matrix. Where:\n",
    "- $\\mathbb{R}^{M\\times N}$\n",
    "- M = Rows\n",
    "- N = Columns\n",
    "\n",
    "Note: $\\mathbb{R}^{M\\times N}$ is **different** than $\\mathbb{R}^{MN}$.\n",
    "\n",
    "Dimensionality refers to the **number of elements** in the matrix."
   ]
  },
  {
   "cell_type": "code",
   "execution_count": 1,
   "id": "e8b40f9d",
   "metadata": {},
   "outputs": [],
   "source": [
    "import numpy as np"
   ]
  },
  {
   "cell_type": "code",
   "execution_count": 2,
   "id": "e1d95a17",
   "metadata": {},
   "outputs": [
    {
     "name": "stdout",
     "output_type": "stream",
     "text": [
      "Square:\n",
      "[[-0.6  0.6  2.3 -1.6 -1.2]\n",
      " [ 0.6 -0.4  0.3 -1.  -0.5]\n",
      " [-1.3  0.7 -2.5 -0.4  1.5]\n",
      " [-0.2 -2.3 -0.2 -0.4 -0.1]\n",
      " [ 2.1  0.5 -2.   0.2 -0.2]]\n",
      "\n",
      "Rectangular:\n",
      "[[-0.  -1.2]\n",
      " [ 0.2 -0.2]\n",
      " [-0.3 -0.3]\n",
      " [ 0.8 -0. ]\n",
      " [-0.3 -0.5]]\n",
      "\n",
      "Identity:\n",
      "[[1. 0. 0.]\n",
      " [0. 1. 0.]\n",
      " [0. 0. 1.]]\n",
      "\n",
      "Zeros:\n",
      "[[0. 0. 0. 0.]\n",
      " [0. 0. 0. 0.]\n",
      " [0. 0. 0. 0.]\n",
      " [0. 0. 0. 0.]]\n",
      "\n",
      "Diagonal:\n",
      "[[1 0 0 0 0]\n",
      " [0 2 0 0 0]\n",
      " [0 0 3 0 0]\n",
      " [0 0 0 5 0]\n",
      " [0 0 0 0 2]]\n",
      "\n",
      "Lower Triangular:\n",
      "[[-1.9  0.   0.   0.   0. ]\n",
      " [-0.5  0.3  0.   0.   0. ]\n",
      " [ 0.1  0.4  1.5  0.   0. ]\n",
      " [ 0.5  0.1  0.7 -1.2  0. ]\n",
      " [-1.2  0.1 -1.2 -0.1  1.1]]\n",
      "\n",
      "Concatenate A & B:\n",
      "[[-0.  1. -0.  1. -2. -3.]\n",
      " [-0.  1.  0.  1. -1.  0.]\n",
      " [-0. -2. -0. -0.  1.  1.]]\n"
     ]
    }
   ],
   "source": [
    "# Square vs. Rectangular\n",
    "S = np.round(np.random.randn(5, 5), 1)\n",
    "R = np.round(np.random.randn(5, 2), 1) # 5 rows, 2 columns\n",
    "print(f\"Square:\\n{S}\"), print('')\n",
    "print(f\"Rectangular:\\n{R}\"), print('')\n",
    "\n",
    "# Identity\n",
    "I = np.eye(3)\n",
    "print(f\"Identity:\\n{I}\"), print('')\n",
    "\n",
    "# Zeros\n",
    "Z = np.zeros((4, 4))\n",
    "print(f\"Zeros:\\n{Z}\"), print('')\n",
    "\n",
    "# Diagonal\n",
    "D = np.diag([1, 2, 3, 5, 2])\n",
    "print(f\"Diagonal:\\n{D}\"), print('')\n",
    "\n",
    "# Create triangular matrix from full matrices\n",
    "S = np.random.randn(5, 5)\n",
    "U = np.triu(S)\n",
    "L = np.tril(S)\n",
    "print(f\"Lower Triangular:\\n{np.round(L,1)}\"), print('')\n",
    "\n",
    "# Concatenate matrices (sizes must match!)\n",
    "A = np.random.randn(3, 2)\n",
    "B = np.random.randn(3, 4)\n",
    "C = np.concatenate((A, B), axis=1)\n",
    "print(f\"Concatenate A & B:\\n{np.round(C)}\")"
   ]
  },
  {
   "cell_type": "markdown",
   "id": "dbf259b3",
   "metadata": {},
   "source": [
    "## Matrix addition and subtraction\n",
    "Matrix addition is cummutative and associative\n",
    "\n",
    "$$\\large\n",
    " \\begin{array}{l}\n",
    "A+B\\ =\\ B+A\\\\\n",
    "\\\\\n",
    "A+( B+C) =( A+B) +C\n",
    "\\end{array}\n",
    "$$\n"
   ]
  },
  {
   "cell_type": "code",
   "execution_count": 3,
   "id": "a71a84f3",
   "metadata": {},
   "outputs": [
    {
     "data": {
      "text/plain": [
       "array([[1, 6],\n",
       "       [7, 2]])"
      ]
     },
     "execution_count": 3,
     "metadata": {},
     "output_type": "execute_result"
    }
   ],
   "source": [
    "A = np.array([[1,2], [3,0]])\n",
    "B = np.array([[0,4], [4,2]])\n",
    "\n",
    "# Addition\n",
    "A+B"
   ]
  },
  {
   "cell_type": "code",
   "execution_count": 4,
   "id": "cfd23e67",
   "metadata": {},
   "outputs": [
    {
     "data": {
      "text/plain": [
       "array([[ 1, -2,  0],\n",
       "       [-1, -2, -4]])"
      ]
     },
     "execution_count": 4,
     "metadata": {},
     "output_type": "execute_result"
    }
   ],
   "source": [
    "A = np.array([[1,2,-3], [3,0,-2]])\n",
    "B = np.array([[0,4,-3], [4,2,2]])\n",
    "\n",
    "# Subtraction\n",
    "A-B"
   ]
  },
  {
   "cell_type": "code",
   "execution_count": null,
   "id": "1fa4f4fe",
   "metadata": {},
   "outputs": [],
   "source": []
  }
 ],
 "metadata": {
  "kernelspec": {
   "display_name": "Python 3",
   "language": "python",
   "name": "python3"
  },
  "language_info": {
   "codemirror_mode": {
    "name": "ipython",
    "version": 3
   },
   "file_extension": ".py",
   "mimetype": "text/x-python",
   "name": "python",
   "nbconvert_exporter": "python",
   "pygments_lexer": "ipython3",
   "version": "3.7.10"
  }
 },
 "nbformat": 4,
 "nbformat_minor": 5
}
