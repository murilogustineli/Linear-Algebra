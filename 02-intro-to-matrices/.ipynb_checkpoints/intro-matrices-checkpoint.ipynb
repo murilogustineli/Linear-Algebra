{
 "cells": [
  {
   "cell_type": "markdown",
   "id": "d5a1d279",
   "metadata": {},
   "source": [
    "# Linear Algebra\n",
    "## Ch05 - Intro to Matrices"
   ]
  },
  {
   "cell_type": "markdown",
   "id": "a248017e",
   "metadata": {},
   "source": [
    "## Matrix terminology and dimensionality\n",
    "\n",
    "Notation:\n",
    "\n",
    "$$\\large\n",
    "A=\\begin{bmatrix}\n",
    "1 & 6 & 0\\\\\n",
    "7 & 2 & 4\\\\\n",
    "4 & 1 & 1\n",
    "\\end{bmatrix} \\ \\ \\ \\ \\ \\ \\ \\ \\ \\ a_{1,2} =6\n",
    "$$\n",
    "\n",
    "This is a $3\\times 3$ Matrix. Where:\n",
    "- $\\mathbb{R}^{M\\times N}$\n",
    "- M = Rows\n",
    "- N = Columns\n",
    "\n",
    "Note: $\\mathbb{R}^{M\\times N}$ is **different** than $\\mathbb{R}^{MN}$.\n",
    "\n",
    "Dimensionality refers to the **number of elements** in the matrix."
   ]
  },
  {
   "cell_type": "code",
   "execution_count": 1,
   "id": "f380e616",
   "metadata": {},
   "outputs": [],
   "source": [
    "import numpy as np"
   ]
  },
  {
   "cell_type": "code",
   "execution_count": 2,
   "id": "32751b84",
   "metadata": {},
   "outputs": [
    {
     "name": "stdout",
     "output_type": "stream",
     "text": [
      "Square:\n",
      "[[-0.9  0.3 -0.6  2.5  0.1]\n",
      " [-1.5  1.8  1.4 -0.   2.2]\n",
      " [ 0.3 -2.4 -0.2  0.6  0.8]\n",
      " [ 0.5 -0.3 -1.8 -0.8 -0.1]\n",
      " [-0.5 -0.1  0.6 -1.1 -1.6]]\n",
      "\n",
      "Rectangular:\n",
      "[[ 0.3  1.4]\n",
      " [-0.2 -0.8]\n",
      " [ 0.3 -0.9]\n",
      " [ 0.4  0.1]\n",
      " [-2.3  1.5]]\n",
      "\n",
      "Identity:\n",
      "[[1. 0. 0.]\n",
      " [0. 1. 0.]\n",
      " [0. 0. 1.]]\n",
      "\n",
      "Zeros:\n",
      "[[0. 0. 0. 0.]\n",
      " [0. 0. 0. 0.]\n",
      " [0. 0. 0. 0.]\n",
      " [0. 0. 0. 0.]]\n",
      "\n",
      "Diagonal:\n",
      "[[1 0 0 0 0]\n",
      " [0 2 0 0 0]\n",
      " [0 0 3 0 0]\n",
      " [0 0 0 5 0]\n",
      " [0 0 0 0 2]]\n",
      "\n",
      "Lower Triangular:\n",
      "[[-0.8  0.   0.   0.   0. ]\n",
      " [-1.6 -0.1  0.   0.   0. ]\n",
      " [ 0.9  0.8  1.8  0.   0. ]\n",
      " [-0.6 -0.5  0.2 -0.9  0. ]\n",
      " [-0.1 -0.2  0.4 -1.9 -0.4]]\n",
      "\n",
      "Concatenate A & B:\n",
      "[[-0. -0.  1.  1.  1. -0.]\n",
      " [-1.  1.  1. -2.  1.  2.]\n",
      " [-1. -0. -1.  0.  1. -2.]]\n"
     ]
    }
   ],
   "source": [
    "# Square vs. Rectangular\n",
    "S = np.round(np.random.randn(5, 5), 1)\n",
    "R = np.round(np.random.randn(5, 2), 1) # 5 rows, 2 columns\n",
    "print(f\"Square:\\n{S}\"), print('')\n",
    "print(f\"Rectangular:\\n{R}\"), print('')\n",
    "\n",
    "# Identity\n",
    "I = np.eye(3)\n",
    "print(f\"Identity:\\n{I}\"), print('')\n",
    "\n",
    "# Zeros\n",
    "Z = np.zeros((4, 4))\n",
    "print(f\"Zeros:\\n{Z}\"), print('')\n",
    "\n",
    "# Diagonal\n",
    "D = np.diag([1, 2, 3, 5, 2])\n",
    "print(f\"Diagonal:\\n{D}\"), print('')\n",
    "\n",
    "# Create triangular matrix from full matrices\n",
    "S = np.random.randn(5, 5)\n",
    "U = np.triu(S)\n",
    "L = np.tril(S)\n",
    "print(f\"Lower Triangular:\\n{np.round(L,1)}\"), print('')\n",
    "\n",
    "# Concatenate matrices (sizes must match!)\n",
    "A = np.random.randn(3, 2)\n",
    "B = np.random.randn(3, 4)\n",
    "C = np.concatenate((A, B), axis=1)\n",
    "print(f\"Concatenate A & B:\\n{np.round(C)}\")"
   ]
  },
  {
   "cell_type": "markdown",
   "id": "0336f7bb",
   "metadata": {},
   "source": [
    "## Matrix addition and subtraction\n",
    "Matrix addition is cummutative and associative.\n",
    "\n",
    "$$\\large\n",
    " \\begin{array}{l}\n",
    "A+B\\ =\\ B+A\\\\\n",
    "\\\\\n",
    "A+( B+C) =( A+B) +C\n",
    "\\end{array}\n",
    "$$\n"
   ]
  },
  {
   "cell_type": "code",
   "execution_count": 3,
   "id": "6cdce60a",
   "metadata": {},
   "outputs": [
    {
     "data": {
      "text/plain": [
       "array([[1, 6],\n",
       "       [7, 2]])"
      ]
     },
     "execution_count": 3,
     "metadata": {},
     "output_type": "execute_result"
    }
   ],
   "source": [
    "A = np.array([[1,2], [3,0]])\n",
    "B = np.array([[0,4], [4,2]])\n",
    "\n",
    "# Addition\n",
    "A+B"
   ]
  },
  {
   "cell_type": "code",
   "execution_count": 4,
   "id": "dd0f06c8",
   "metadata": {},
   "outputs": [
    {
     "data": {
      "text/plain": [
       "array([[ 1, -2,  0],\n",
       "       [-1, -2, -4]])"
      ]
     },
     "execution_count": 4,
     "metadata": {},
     "output_type": "execute_result"
    }
   ],
   "source": [
    "A = np.array([[1,2,-3], [3,0,-2]])\n",
    "B = np.array([[0,4,-3], [4,2,2]])\n",
    "\n",
    "# Subtraction\n",
    "A-B"
   ]
  },
  {
   "cell_type": "markdown",
   "id": "855740e3",
   "metadata": {},
   "source": [
    "## Matrix-scalar multiplication\n",
    "\n",
    "Matrix multiplication works element-wise.\n",
    "\n",
    "$$\\large\n",
    " \\begin{array}{l}\n",
    "\\delta \\begin{bmatrix}\n",
    "a & b\\\\\n",
    "c & d\n",
    "\\end{bmatrix} =\\begin{bmatrix}\n",
    "\\delta a & \\delta b\\\\\n",
    "\\delta c & \\delta d\n",
    "\\end{bmatrix} =\\begin{bmatrix}\n",
    "a\\delta  & b\\delta \\\\\n",
    "c\\delta  & d\\delta \n",
    "\\end{bmatrix} =\\begin{bmatrix}\n",
    "a & b\\\\\n",
    "c & d\n",
    "\\end{bmatrix} \\delta \\\\\n",
    "\\\\\n",
    "\\delta MA=M\\delta A=MA\\delta \n",
    "\\end{array}\n",
    "$$"
   ]
  },
  {
   "cell_type": "code",
   "execution_count": 5,
   "id": "f7e9d7d1",
   "metadata": {},
   "outputs": [
    {
     "name": "stdout",
     "output_type": "stream",
     "text": [
      "[[ 2  4]\n",
      " [ 4 10]] \n",
      "\n",
      "[[ 2  4]\n",
      " [ 4 10]]\n"
     ]
    }
   ],
   "source": [
    "# Define matrix and scalar\n",
    "M = np.array([[1, 2], [2, 5]])\n",
    "s = 2\n",
    "\n",
    "# Pre and post-multiplication is the same:\n",
    "print(M*s, '\\n')\n",
    "print(s*M)"
   ]
  },
  {
   "cell_type": "markdown",
   "id": "93802f0e",
   "metadata": {},
   "source": [
    "## Code challenge: is matrix multiplication a linear operation?\n",
    "Test for some random $M\\times N$ matrices whether s(A+B) = sA + sB "
   ]
  },
  {
   "cell_type": "code",
   "execution_count": 6,
   "id": "b967da0c",
   "metadata": {},
   "outputs": [
    {
     "name": "stdout",
     "output_type": "stream",
     "text": [
      "[[ 0.24  0.08  0.36]\n",
      " [ 0.12 -0.12 -1.24]\n",
      " [ 0.6   0.32 -0.12]\n",
      " [ 0.32 -0.16  0.6 ]]\n",
      "\n",
      "[[ 0.24  0.08  0.36]\n",
      " [ 0.12 -0.12 -1.24]\n",
      " [ 0.6   0.32 -0.12]\n",
      " [ 0.32 -0.16  0.6 ]]\n"
     ]
    }
   ],
   "source": [
    "M = 4\n",
    "N = 3\n",
    "A = np.round(np.random.randn(M, N), 1)\n",
    "B = np.round(np.random.randn(M, N), 1)\n",
    "s = np.round(np.random.randn(1), 1)\n",
    "\n",
    "# Check s(A+B) & sA + sB\n",
    "resL = s*(A+B)\n",
    "resR = s*A + s*B\n",
    "\n",
    "print(resL), print()\n",
    "print(resR)"
   ]
  },
  {
   "cell_type": "markdown",
   "id": "18242a46",
   "metadata": {},
   "source": [
    "## Transpose\n",
    "The transpose operation is a way of flipping a matrix by converting rows into columns and columns into rows.\n",
    "\n",
    "$$\\large\n",
    " \\begin{array}{l}\n",
    "\\begin{bmatrix}\n",
    "1 & 5\\\\\n",
    "0 & 6\\\\\n",
    "2 & 8\\\\\n",
    "5 & 3\\\\\n",
    "-2 & 0\n",
    "\\end{bmatrix}^{T} =\\begin{bmatrix}\n",
    "1 & 0 & 2 & 5 & -2\\\\\n",
    "5 & 6 & 8 & 3 & 0\n",
    "\\end{bmatrix}^{T} =\\begin{bmatrix}\n",
    "1 & 5\\\\\n",
    "0 & 6\\\\\n",
    "2 & 8\\\\\n",
    "5 & 3\\\\\n",
    "-2 & 0\n",
    "\\end{bmatrix}\\\\\n",
    "\\\\\n",
    "A^{TT} =A\n",
    "\\end{array}\n",
    "$$"
   ]
  },
  {
   "cell_type": "code",
   "execution_count": 7,
   "id": "41cfda83",
   "metadata": {},
   "outputs": [
    {
     "name": "stdout",
     "output_type": "stream",
     "text": [
      "[[1 2 3]\n",
      " [2 3 4]]\n",
      "\n",
      "[[1 2]\n",
      " [2 3]\n",
      " [3 4]]\n",
      "\n",
      "[[1 2 3]\n",
      " [2 3 4]]\n",
      "\n",
      "[[1 2]\n",
      " [2 3]\n",
      " [3 4]]\n"
     ]
    }
   ],
   "source": [
    "# Define matrix\n",
    "M = np.array([ [1,2,3],\n",
    "               [2,3,4] ])\n",
    "\n",
    "print(M), print('')\n",
    "print(M.T), print('') # one transpose\n",
    "print(M.T.T), print('') # double-transpose returns the original matrix\n",
    "\n",
    "# Can also use the function transpose\n",
    "print(np.transpose(M))"
   ]
  },
  {
   "cell_type": "code",
   "execution_count": 8,
   "id": "a75e9ecf",
   "metadata": {},
   "outputs": [
    {
     "name": "stdout",
     "output_type": "stream",
     "text": [
      "[[4.+1.j 3.+0.j 2.-4.j]]\n",
      "\n",
      "[[4.+1.j]\n",
      " [3.+0.j]\n",
      " [2.-4.j]]\n",
      "\n",
      "[[4.+1.j]\n",
      " [3.+0.j]\n",
      " [2.-4.j]]\n",
      "\n",
      "[[4.-1.j]\n",
      " [3.-0.j]\n",
      " [2.+4.j]]\n"
     ]
    }
   ],
   "source": [
    "# Warning! be careful when using complex matrices\n",
    "C = np.array([[4+1j , 3 , 2-4j]])\n",
    "\n",
    "print(C), print('')\n",
    "print(C.T), print('')\n",
    "print(np.transpose(C)), print('')\n",
    "\n",
    "# Note: In MATLAB, the transpose is the Hermitian transpose; \n",
    "#       in Python, you need to call the Hermitian explicitly by first converting from an array into a matrix\n",
    "print(np.matrix(C).H) # note the sign flips!"
   ]
  },
  {
   "cell_type": "markdown",
   "id": "fa16c648",
   "metadata": {},
   "source": [
    "## Symmetric matrices"
   ]
  },
  {
   "cell_type": "code",
   "execution_count": 9,
   "id": "fd4c8de6",
   "metadata": {},
   "outputs": [
    {
     "name": "stdout",
     "output_type": "stream",
     "text": [
      "[[2 3 6]\n",
      " [3 4 5]\n",
      " [6 5 9]]\n",
      "\n",
      "[[2 3 6]\n",
      " [3 4 5]\n",
      " [6 5 9]]\n",
      "\n",
      "[[ True  True  True]\n",
      " [ True  True  True]\n",
      " [ True  True  True]]\n"
     ]
    }
   ],
   "source": [
    "B = np.array([[2,3,6],[3,4,5],[6,5,9]])\n",
    "A = B.T\n",
    "\n",
    "print(B), print()\n",
    "print(A), print()\n",
    "print(A == B)"
   ]
  },
  {
   "cell_type": "markdown",
   "id": "35d57190",
   "metadata": {},
   "source": [
    "### Quiz\n",
    "If $A=B^T$ and B is symmetric, then $A^T+B = 2\\times A$"
   ]
  },
  {
   "cell_type": "code",
   "execution_count": 10,
   "id": "cecc8bec",
   "metadata": {},
   "outputs": [
    {
     "name": "stdout",
     "output_type": "stream",
     "text": [
      "[[ 4  6 12]\n",
      " [ 6  8 10]\n",
      " [12 10 18]]\n",
      "\n",
      "[[ 4  6 12]\n",
      " [ 6  8 10]\n",
      " [12 10 18]]\n"
     ]
    }
   ],
   "source": [
    "print(A.T+B), print()\n",
    "print(2*A)"
   ]
  },
  {
   "cell_type": "markdown",
   "id": "98a4a600",
   "metadata": {},
   "source": [
    "## Diagonal\n",
    "The diagonal elements of a matrix can be extracted into a vector. As a function, diagonalization takes a matrix as input and returns a vector as output.\n",
    "\n",
    "$$\\large\n",
    " \\begin{array}{l}\n",
    "\\text{diag}\\begin{pmatrix}\n",
    "\\begin{bmatrix}\n",
    "1 & -1 & 8\\\\\n",
    "-1 & -2 & 4\\\\\n",
    "0 & 3 & 5\n",
    "\\end{bmatrix}\n",
    "\\end{pmatrix} =\\begin{bmatrix}\n",
    "1\\\\\n",
    "-2\\\\\n",
    "5\n",
    "\\end{bmatrix}\\\\\n",
    "\\\\\n",
    "\\text{diag}\\begin{pmatrix}\n",
    "\\begin{bmatrix}\n",
    "1 & -1\\\\\n",
    "-1 & -2\\\\\n",
    "0 & 3\n",
    "\\end{bmatrix}\n",
    "\\end{pmatrix} =\\begin{bmatrix}\n",
    "1\\\\\n",
    "-2\n",
    "\\end{bmatrix}\n",
    "\\end{array}\n",
    "$$\n",
    "\n",
    "## Trace\n",
    "The trace is the sum of all the diagonal elements of a matrix. Note, the trace is only defined for square matrices ($M=N$).\n",
    "\n",
    "$$\\large\n",
    "\\text{trace}\\begin{pmatrix}\n",
    "\\begin{bmatrix}\n",
    "1 & -1 & 8\\\\\n",
    "-1 & -2 & 4\\\\\n",
    "0 & 3 & 5\n",
    "\\end{bmatrix}\n",
    "\\end{pmatrix} =1+( -2) +5=4\n",
    "$$\n",
    "\n",
    "### Diagonal and trace: formal definitions\n",
    "**Diagonal:**\n",
    "\n",
    "$$\\large\n",
    "v_{i} =A_{i,i} ,\\ \\ \\ \\ \\ \\ \\ i=\\{1,2,...,min( M,N)\\}\n",
    "$$\n",
    "\n",
    "**Trace:**\n",
    "\n",
    "$$\\large\n",
    "tr( A) =\\sum _{i=1}^{m} A_{i,i}\n",
    "$$"
   ]
  },
  {
   "cell_type": "code",
   "execution_count": 11,
   "id": "e49b7403",
   "metadata": {},
   "outputs": [
    {
     "name": "stdout",
     "output_type": "stream",
     "text": [
      "Matrix:\n",
      "[[10. 17.  2. -2.]\n",
      " [-0. -3. -4. -0.]\n",
      " [-1. -2. -3.  3.]\n",
      " [13. -0. -0.  4.]]\n",
      "\n",
      "Diagonal; input is matrix, output is vector:\n",
      "[10. -3. -3.  4.]\n",
      "\n",
      "Diagonal; input is vector, output is matrix:\n",
      "[[10.  0.  0.  0.]\n",
      " [ 0. -3.  0.  0.]\n",
      " [ 0.  0. -3.  0.]\n",
      " [ 0.  0.  0.  4.]]\n",
      "\n",
      "Trace:\n",
      "8.0 8.0\n"
     ]
    }
   ],
   "source": [
    "# Define matrix\n",
    "M = np.round(6*np.random.randn(4,4))\n",
    "print(\"Matrix:\")\n",
    "print(M), print()\n",
    "\n",
    "# Extract the diagonals\n",
    "d = np.diag(M)\n",
    "\n",
    "# Notice the two ways of using the diag function\n",
    "d = np.diag(M) # input is matrix, output is vector\n",
    "D = np.diag(d) # input is vector, output is matrix\n",
    "print('Diagonal; input is matrix, output is vector:')\n",
    "print(d), print()\n",
    "\n",
    "print('Diagonal; input is vector, output is matrix:')\n",
    "print(D), print()\n",
    "\n",
    "# Trace as sum of diagonal elements\n",
    "tr = np.trace(M)\n",
    "tr2 = sum(np.diag(M))\n",
    "print('Trace:')\n",
    "print(tr, tr2)"
   ]
  },
  {
   "cell_type": "markdown",
   "id": "552a90b8",
   "metadata": {},
   "source": [
    "## Code challenge: linearity of trace\n",
    "1. Determine the relationship between $\\text{trace}(A) + \\text{trace}(B)$ and $\\text{trace}(A+B)$\n",
    "2. Determine the relationship between $\\text{trace}(l\\times A)$ and $l\\times \\text{trace}(A)$"
   ]
  },
  {
   "cell_type": "code",
   "execution_count": 12,
   "id": "49445622",
   "metadata": {},
   "outputs": [
    {
     "name": "stdout",
     "output_type": "stream",
     "text": [
      "Matrix A:\n",
      "[[ 0.  -1.8 -0.2 -0.2]\n",
      " [-0.6 -0.5  0.6 -0.9]\n",
      " [ 0.   0.3 -0.1  0.7]\n",
      " [-1.1  1.9  0.1  1.6]]\n",
      "\n",
      "Matrix B:\n",
      "[[-0.9  1.4  1.1 -0.6]\n",
      " [ 0.2  1.5 -0.5 -1.7]\n",
      " [ 0.7 -1.8  0.9  0.2]\n",
      " [-0.2  1.1  0.1 -0.7]]\n",
      "\n",
      "scalar:\n",
      "[-0.6]\n",
      "\n",
      "tr(A) + tr(B): [0.1 2.5 1.9 0.3]\n",
      "tr(A+B): 1.8\n",
      "trace(l*A): -0.6\n",
      "l*trace(A): [-0.6]\n"
     ]
    }
   ],
   "source": [
    "# Sizes\n",
    "M = 4\n",
    "N = 4\n",
    "\n",
    "# Define matrices A & B\n",
    "A = np.round(np.random.randn(M,N),1)\n",
    "B = np.round(np.random.randn(M,N),1)\n",
    "l = np.round(np.random.randn(1),1)\n",
    "print('Matrix A:'), print(A), print()\n",
    "print('Matrix B:'), print(B), print()\n",
    "print('scalar:'), print(l), print()\n",
    "\n",
    "# 1. Determine the relationship between trace(𝐴) + trace(𝐵) and trace(𝐴+𝐵)\n",
    "tr1 = sum(np.diag(A), np.diag(B))\n",
    "tr2 = sum(np.diag(A+B))\n",
    "print('tr(A) + tr(B):', tr1)\n",
    "print('tr(A+B):', np.round(tr2, 1))\n",
    "\n",
    "# 2. Determine the relationship between trace(𝑙×𝐴) and 𝑙×trace(𝐴)\n",
    "tr3 = np.trace(l*A)\n",
    "tr4 = l*np.trace(A)\n",
    "print('trace(l*A):', np.round(tr3, 1))\n",
    "print('l*trace(A):', np.round(tr4, 1))"
   ]
  },
  {
   "cell_type": "code",
   "execution_count": null,
   "id": "9865d3f9",
   "metadata": {},
   "outputs": [],
   "source": []
  }
 ],
 "metadata": {
  "kernelspec": {
   "display_name": "Python 3",
   "language": "python",
   "name": "python3"
  },
  "language_info": {
   "codemirror_mode": {
    "name": "ipython",
    "version": 3
   },
   "file_extension": ".py",
   "mimetype": "text/x-python",
   "name": "python",
   "nbconvert_exporter": "python",
   "pygments_lexer": "ipython3",
   "version": "3.7.10"
  }
 },
 "nbformat": 4,
 "nbformat_minor": 5
}
