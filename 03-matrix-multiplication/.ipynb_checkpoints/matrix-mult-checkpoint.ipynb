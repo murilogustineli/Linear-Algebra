{
 "cells": [
  {
   "cell_type": "markdown",
   "id": "8e9cc64e-2c8e-4292-b771-da90764bce2d",
   "metadata": {},
   "source": [
    "# Linear Algebra\n",
    "## Matrix Multiplication"
   ]
  },
  {
   "cell_type": "code",
   "execution_count": 1,
   "id": "1d7b4aba-4adf-4ad3-905b-d46f5fbf4056",
   "metadata": {},
   "outputs": [],
   "source": [
    "import numpy as np\n",
    "import matplotlib.pyplot as plt\n",
    "import math"
   ]
  },
  {
   "cell_type": "markdown",
   "id": "ee6d82ca-2af5-47db-9e18-28c18d41ea54",
   "metadata": {},
   "source": [
    "## \"Standard\" matrix multiplication\n",
    "Matrix multiplication is NOT commutative, the order matters! $AB \\neq BA$\n",
    "\n",
    "Rules for matrix multiplication:\n",
    "- The number of columns in the left matrix must be the same as the number of rows in the right matrix.\n",
    "> Inner dimensions must match ($N, N$)\n",
    "- The result will be a matrix with the same number of rows in the left matrix and the same number of columns in the right matrix.\n",
    "> Outer dimensions is the size of resulting matrix ($M, K$)\n",
    "\n",
    "$$\\large\n",
    "\\begin{matrix}\n",
    "\\begin{bmatrix}\n",
    " &  &  &  &  & \\\\\n",
    " &  &  &  &  & \\\\\n",
    " &  &  &  &  & \\\\\n",
    " &  &  &  &  & \n",
    "\\end{bmatrix} & \\begin{bmatrix}\n",
    " & \\\\\n",
    " & \\\\\n",
    " & \\\\\n",
    " & \\\\\n",
    " & \\\\\n",
    " & \n",
    "\\end{bmatrix} & = & \\begin{bmatrix}\n",
    " & \\\\\n",
    " & \\\\\n",
    " & \\\\\n",
    " & \n",
    "\\end{bmatrix}\\\\\n",
    "M\\times N & N\\times K &  & M\\times K\n",
    "\\end{matrix}\n",
    "$$\n",
    "\n",
    "### Element perspective matrix multiplication\n",
    "Each element $c_{i,j}$ in $AB=C$ is the dot product between the $\\text i^{th}$ row in $A$ and the $\\text j^{th}$ column in $B$.\n",
    "\n",
    "$$\\large\n",
    "\\begin{bmatrix}\n",
    "1 & 2\\\\\n",
    "3 & 4\n",
    "\\end{bmatrix}\\begin{bmatrix}\n",
    "a & b\\\\\n",
    "c & d\n",
    "\\end{bmatrix} =\\begin{bmatrix}\n",
    "1a+2c & 1b+2d\\\\\n",
    "3a+4c & 3b+4d\n",
    "\\end{bmatrix}\n",
    "$$"
   ]
  },
  {
   "cell_type": "code",
   "execution_count": 2,
   "id": "a06bf378-04ca-482f-a94a-a429423bd3a1",
   "metadata": {},
   "outputs": [
    {
     "name": "stdout",
     "output_type": "stream",
     "text": [
      "A * B:\n",
      "[[ 0.  2.  0. -2. -2.  0.]\n",
      " [ 2. -2.  2.  2.  3. -2.]\n",
      " [ 0. -3.  0.  3.  1. -4.]\n",
      " [-1.  1. -1. -1. -2.  0.]]\n",
      "\n",
      "A.T * C:\n",
      "[[ 0. -2. -4. -1.  1. -2.]\n",
      " [ 1.  0. -2.  0.  0.  3.]\n",
      " [-1. -1.  0. -2. -2. -1.]]\n",
      "\n",
      "B * B.T:\n",
      "[[ 3. -1.  2.]\n",
      " [-1.  3.  0.]\n",
      " [ 2.  0.  6.]]\n",
      "\n",
      "B.T * B:\n",
      "[[ 1.  0.  1.  0.  1.  0.]\n",
      " [ 0.  2.  0. -2. -1.  2.]\n",
      " [ 1.  0.  1.  0.  1.  0.]\n",
      " [ 0. -2.  0.  2.  1. -2.]\n",
      " [ 1. -1.  1.  1.  2.  0.]\n",
      " [ 0.  2.  0. -2.  0.  4.]]\n",
      "\n",
      "C * B.T:\n",
      "[[-1. -2.  0.]\n",
      " [-1.  1.  1.]\n",
      " [-1.  1.  0.]\n",
      " [-2.  3. -4.]]\n"
     ]
    }
   ],
   "source": [
    "# Rules for multiplication validity\n",
    "m = 4\n",
    "n = 3\n",
    "k = 6\n",
    "\n",
    "# Make some matrices\n",
    "A = np.round(np.random.randn(m,n)) # 4x3\n",
    "B = np.round(np.random.randn(n,k)) # 3x6\n",
    "C = np.round(np.random.randn(m,k)) # 4x6\n",
    "\n",
    "# Test which multiplications are valid\n",
    "# Think of your answer first, then test\n",
    "print('A * B:')\n",
    "print(np.matmul(A,B)), print() # yes\n",
    "\n",
    "# np.matmul(A,A) # no\n",
    "\n",
    "print('A.T * C:')\n",
    "print(np.matmul(A.T,C)), print() # yes\n",
    "\n",
    "print('B * B.T:')\n",
    "print(np.matmul(B,B.T)), print() # yes\n",
    "\n",
    "print('B.T * B:')\n",
    "print(np.matmul(np.matrix.transpose(B),B)), print() # yes\n",
    "\n",
    "# np.matmul(B,C) # no\n",
    "# np.matmul(C,B) # no\n",
    "# np.matmul(C.T,B) # no\n",
    "\n",
    "print('C * B.T:')\n",
    "print(np.matmul(C,B.T)) # yes"
   ]
  },
  {
   "cell_type": "markdown",
   "id": "1f0b43f3-0c75-4b46-ad39-960956bcbb97",
   "metadata": {},
   "source": [
    "## Code challenge: matrix multiplication by layering\n",
    "Implement matrix multiplication via layers.\n",
    "\n",
    "1. Generate two matrices (A, B)\n",
    "2. Build the product matrix layer-wise (for loops)\n",
    "3. Implement the matrix multiplication directly (multiplying two matrices without a loop)\n",
    "4. Compare results"
   ]
  },
  {
   "cell_type": "code",
   "execution_count": 3,
   "id": "d1b51018-ba0a-4ae7-a812-1e9c2a32d813",
   "metadata": {},
   "outputs": [
    {
     "name": "stdout",
     "output_type": "stream",
     "text": [
      "Matrix A:\n",
      "[[-0.24 -0.44  1.23]\n",
      " [ 1.42  0.93  0.11]\n",
      " [-0.45 -1.42 -0.19]\n",
      " [-0.52  1.09  1.13]]\n",
      "\n",
      "Matrix B:\n",
      "[[ 1.52  1.26 -0.94  1.53]\n",
      " [-0.36 -0.91  2.67  1.13]\n",
      " [ 0.66  0.52  0.44 -3.1 ]]\n",
      "\n",
      "Layer-wise matrix: \n",
      "[[ 0.61  0.74 -0.41 -4.68]\n",
      " [ 1.9   1.    1.2   2.88]\n",
      " [-0.3   0.63 -3.45 -1.7 ]\n",
      " [-0.44 -1.06  3.9  -3.07]]\n",
      "\n",
      "NumPy direct multiplication: \n",
      "[[ 0.61  0.74 -0.41 -4.68]\n",
      " [ 1.9   1.    1.2   2.88]\n",
      " [-0.3   0.63 -3.45 -1.7 ]\n",
      " [-0.44 -1.06  3.9  -3.07]]\n"
     ]
    }
   ],
   "source": [
    "# 1. Define matrices A & B\n",
    "m = 4\n",
    "n = 3\n",
    "A = np.round(np.random.randn(m, n), 2)\n",
    "B = np.round(np.random.randn(n, m), 2)\n",
    "print(f\"Matrix A:\\n{A}\"), print()\n",
    "print(f\"Matrix B:\\n{B}\"), print()\n",
    "\n",
    "\n",
    "# 2. Build the product matrix layer-wise (for loops)\n",
    "matrix = np.zeros((m, m))\n",
    "for i in range(m):\n",
    "    for j in range(m):\n",
    "        # matrix[i][j] = np.dot(A[i], B[:,j])\n",
    "        matrix[i][j] = np.sum(A[i] * B[:,j])\n",
    "        \n",
    "# 3. Implement the matrix multiplication directly (multiplying two matrices without a loop)\n",
    "# np_mult = A@B\n",
    "np_mult = np.matmul(A, B)\n",
    "\n",
    "# Compare results\n",
    "print(f\"Layer-wise matrix: \\n{np.round(matrix, 2)}\\n\")\n",
    "print(f\"NumPy direct multiplication: \\n{np.round(np_mult, 2)}\")"
   ]
  },
  {
   "cell_type": "markdown",
   "id": "5dc28011-738a-4ef4-9d9c-b84ae78e55df",
   "metadata": {},
   "source": [
    "## Matrix-vector multiplication\n",
    "When multiplying a matrix with a vector the result will always be a vector.\n",
    "\n",
    "$$\\large\n",
    " \\begin{array}{l}\n",
    "\\begin{matrix}\n",
    "A & \\cdot  & w & = & v\\\\\n",
    "m\\times n &  & n\\times 1 &  & m\\times 1\n",
    "\\end{matrix} \\ \\ \\ \\ \\ \\ \\ \\ \\ \\ \\begin{matrix}\n",
    "\\begin{bmatrix}\n",
    "a & b\\\\\n",
    "c & d\n",
    "\\end{bmatrix} & \\begin{bmatrix}\n",
    "2\\\\\n",
    "3\n",
    "\\end{bmatrix} & = & \\begin{bmatrix}\n",
    "a2+b3\\\\\n",
    "c2+d3\n",
    "\\end{bmatrix}\\\\\n",
    "2\\times 2 & 2\\times 1 &  & 2\\times 1\n",
    "\\end{matrix}\\\\\n",
    "\\\\\n",
    "\\begin{matrix}\n",
    "w^{T} & \\cdot  & A & = & v\\\\\n",
    "1\\times m &  & m\\times n &  & 1\\times n\n",
    "\\end{matrix} \\ \\ \\ \\ \\ \\ \\ \\ \\ \\ \\begin{matrix}\n",
    "\\begin{bmatrix}\n",
    "2 & 3\n",
    "\\end{bmatrix} & \\begin{bmatrix}\n",
    "a & b\\\\\n",
    "c & d\n",
    "\\end{bmatrix} & = & \\begin{bmatrix}\n",
    "a2+c3 & b2+d3\n",
    "\\end{bmatrix}\\\\\n",
    "1\\times 2 & 2\\times 2 &  & 1\\times 2\n",
    "\\end{matrix}\n",
    "\\end{array}\n",
    "$$\n",
    "\n",
    "Concept:\n",
    "- $Aw$ &rightarrow; weighted combinations of the ***columns*** of A\n",
    "- $w^{T}A$ &rightarrow; weighted combinations of the ***rows*** of A"
   ]
  },
  {
   "cell_type": "code",
   "execution_count": 4,
   "id": "e6ba748a-2f6f-45ac-b2b4-f0bcbc62cea3",
   "metadata": {},
   "outputs": [
    {
     "name": "stdout",
     "output_type": "stream",
     "text": [
      "Matrix-vector:\n",
      "[ 8 17 26]\n",
      "\n",
      "vector-Matrix:\n",
      "[18 21 24]\n"
     ]
    }
   ],
   "source": [
    "A = np.array([[1,2,3],[4,5,6],[7,8,9]])\n",
    "w = np.array([0,1,2])\n",
    "\n",
    "# Matrix-vector multiplication\n",
    "print(f\"Matrix-vector:\\n{A@w}\\n\")\n",
    "print(f\"vector-Matrix:\\n{w.T@A}\")"
   ]
  },
  {
   "cell_type": "markdown",
   "id": "900af04c-018b-42b9-ae44-295222d8daf7",
   "metadata": {},
   "source": [
    "## 2D transformation matrices"
   ]
  },
  {
   "cell_type": "code",
   "execution_count": 5,
   "id": "b0f91d52-5ec3-4ac0-965a-44cbf4983c9e",
   "metadata": {},
   "outputs": [],
   "source": [
    "# Plot axis\n",
    "def plot_axis(ax=3):\n",
    "    plt.plot([-ax, ax],[0, 0],'k--')\n",
    "    plt.plot([0, 0],[-ax, ax],'k--')\n",
    "    plt.grid(color='blue', linestyle='--', linewidth=1, alpha=0.2)\n",
    "    plt.legend(loc='upper left')\n",
    "    plt.axis([-ax,ax,-ax,ax]);"
   ]
  },
  {
   "cell_type": "markdown",
   "id": "4e77f4d7-442a-48a1-a079-0adcc1c2204f",
   "metadata": {},
   "source": [
    "#### Rotation + stretching"
   ]
  },
  {
   "cell_type": "code",
   "execution_count": 6,
   "id": "39603ef0-6b57-4a04-9bb3-7ecf7837372f",
   "metadata": {},
   "outputs": [
    {
     "data": {
      "image/png": "[encoded data removed]",
      "text/plain": [
       "<Figure size 500x500 with 1 Axes>"
      ]
     },
     "metadata": {
      "needs_background": "light"
     },
     "output_type": "display_data"
    }
   ],
   "source": [
    "# 2D input vector\n",
    "v = np.array([3, -2])\n",
    "\n",
    "# 2x2 transformation matrix\n",
    "A = np.array([[1,-1], [2,1]])\n",
    "\n",
    "# Output vector is Av (convert v to column)\n",
    "w = A@np.matrix.transpose(v)\n",
    "\n",
    "# Plot them\n",
    "plt.figure(figsize=(5,5), dpi=100)\n",
    "plt.plot([0,v[0]],[0,v[1]],label='v')\n",
    "plt.plot([0,w[0]],[0,w[1]],label='Av')\n",
    "plt.title('Rotation + stretching')\n",
    "\n",
    "# Plot axis\n",
    "plot_axis(ax=6)\n",
    "plt.show()"
   ]
  },
  {
   "cell_type": "markdown",
   "id": "1fddefab-a0bf-4b3c-b66d-cbc7591d308e",
   "metadata": {},
   "source": [
    "#### Pure rotation"
   ]
  },
  {
   "cell_type": "code",
   "execution_count": 7,
   "id": "d4cc87d0-74c2-4b82-944b-25d9f260b855",
   "metadata": {},
   "outputs": [
    {
     "data": {
      "image/png": "[encoded data removed]",
      "text/plain": [
       "<Figure size 500x500 with 1 Axes>"
      ]
     },
     "metadata": {
      "needs_background": "light"
     },
     "output_type": "display_data"
    }
   ],
   "source": [
    "# 2D input vector\n",
    "v = np.array([3, -2])\n",
    "\n",
    "# 2x2 rotation matrix\n",
    "th = 9*np.pi/24\n",
    "A = np.array([[math.cos(th),-math.sin(th)], [math.sin(th),math.cos(th)]])\n",
    "\n",
    "# Output vector is Av (convert v to column)\n",
    "w = A@np.matrix.transpose(v)\n",
    "\n",
    "# Plot them\n",
    "plt.figure(figsize=(5,5), dpi=100)\n",
    "plt.plot([0,v[0]],[0,v[1]],label='v')\n",
    "plt.plot([0,w[0]],[0,w[1]],label='Av')\n",
    "plt.title('Pure rotation')\n",
    "\n",
    "# Plot axis\n",
    "plot_axis(ax=4)\n",
    "plt.show()"
   ]
  },
  {
   "cell_type": "markdown",
   "id": "6b30ef76-5309-435b-b195-7c548c427609",
   "metadata": {},
   "source": [
    "## Code challenge: Pure and impure rotation matrices\n",
    "Investigate the relationship between the magnitude of the matrix-vector product and the theta (rotation angle) using the following rotation matrix."
   ]
  },
  {
   "cell_type": "code",
   "execution_count": 8,
   "id": "d7f58f59-f024-4e72-993e-f5108aef87c7",
   "metadata": {},
   "outputs": [],
   "source": [
    "# Plot graph\n",
    "def plot_figure(theta, vecmag):\n",
    "    plt.figure(figsize=(5,5), dpi=100)\n",
    "    plt.plot(theta, vecmag, 'o-')\n",
    "    plt.xlabel(\"Rotation angle (rad.)\")\n",
    "    plt.ylabel(\"Av magnitude\")\n",
    "    plt.legend([\"Pure rotation\", \"Impure rotation\"])\n",
    "    plt.title(\"Pure vs Impure rotation\")\n",
    "    plt.show()\n",
    "\n",
    "# Compute different rotation matrices\n",
    "def rotation_matrix(size=100):\n",
    "    # 2D input vector\n",
    "    v = np.array([3, -2])\n",
    "    \n",
    "    # Init theta and matrices\n",
    "    thetas = np.linspace(0, 2*np.pi, size)\n",
    "    vecmags = np.zeros((len(thetas), 2))\n",
    "    \n",
    "    # For loop to plot different\n",
    "    for i in range(len(thetas)):\n",
    "        th = thetas[i]\n",
    "        pure = np.array([[math.cos(th), -math.sin(th)], [math.sin(th), math.cos(th)]])\n",
    "        impure = np.array([[2*math.cos(th), -math.sin(th)], [math.sin(th), math.cos(th)]])\n",
    "        \n",
    "        # Output vector is Av (convert v to column)\n",
    "        vecmags[i,0] = np.linalg.norm(pure @ v.T)\n",
    "        vecmags[i,1] = np.linalg.norm(impure @ v.T)\n",
    "\n",
    "    # Plot them\n",
    "    plot_figure(theta=thetas, vecmag=vecmags)"
   ]
  },
  {
   "cell_type": "code",
   "execution_count": 9,
   "id": "496e2c70-38ae-4c7a-9ae1-0939337502db",
   "metadata": {},
   "outputs": [
    {
     "data": {
      "image/png": "[encoded data removed]",
      "text/plain": [
       "<Figure size 500x500 with 1 Axes>"
      ]
     },
     "metadata": {
      "needs_background": "light"
     },
     "output_type": "display_data"
    }
   ],
   "source": [
    "rotation_matrix(size=100)"
   ]
  },
  {
   "cell_type": "markdown",
   "id": "e17d18a2-40ce-4cc3-b076-685d96fe2dc8",
   "metadata": {},
   "source": [
    "## Code challenge: Geometric transformations via matrix multiplications\n",
    "1. Generate X,Y coordinates for a circle\n",
    "2. Plot circle\n",
    "3. Create a 2x2 matrix (starting with Identity matrix)\n",
    "4. Multiply matrix by coordinates\n",
    "5. Plot new coordinates\n",
    "6. Try with various matrices and singular matrix (columns form a linear dependent set)"
   ]
  },
  {
   "cell_type": "code",
   "execution_count": 10,
   "id": "f223e0ae-2603-492b-9ae9-643abdcfccc2",
   "metadata": {},
   "outputs": [],
   "source": [
    "def plot_circle(cir, newCir):\n",
    "    plt.figure(figsize=(5,5), dpi=100)\n",
    "    plt.plot(cir[:,0], cir[:,1], 'o')\n",
    "    plt.plot(newCir[:,0], newCir[:,1], 'o')\n",
    "    plt.axis('square')\n",
    "    plt.show();"
   ]
  },
  {
   "cell_type": "code",
   "execution_count": 11,
   "id": "4b4a2cf9-41a1-4b3a-832b-2e1613315a77",
   "metadata": {},
   "outputs": [
    {
     "data": {
      "image/png": "[encoded data removed]",
      "text/plain": [
       "<Figure size 500x500 with 1 Axes>"
      ]
     },
     "metadata": {
      "needs_background": "light"
     },
     "output_type": "display_data"
    },
    {
     "data": {
      "image/png": "[encoded data removed]",
      "text/plain": [
       "<Figure size 500x500 with 1 Axes>"
      ]
     },
     "metadata": {
      "needs_background": "light"
     },
     "output_type": "display_data"
    }
   ],
   "source": [
    "# 1. Generate X,Y coordinates for a circle\n",
    "# 2. Plot circle\n",
    "x = np.linspace(-np.pi, np.pi, 100)\n",
    "xy = np.vstack((np.cos(x), np.sin(x))).T\n",
    "\n",
    "# plot_circle(coord=xy)\n",
    "\n",
    "# 3. Create a 2x2 matrix (starting with Identity matrix)\n",
    "T = np.array([[1, 2], [2, 1]])\n",
    "\n",
    "# 4. Multiply matrix by coordinates\n",
    "newXY = xy@T\n",
    "\n",
    "# 5. Plot new coordinates\n",
    "plot_circle(cir=xy, newCir=newXY)\n",
    "\n",
    "# 6. Try with various matrices and singular matrix (columns form a linear dependent set)\n",
    "singular = np.array([[1, 2], [2, 4]])\n",
    "sing = xy@singular\n",
    "plot_circle(xy, sing)"
   ]
  },
  {
   "cell_type": "markdown",
   "id": "1d9c5f28-3cdc-4f8d-a832-516641228bf0",
   "metadata": {},
   "source": [
    "## Additive and multiplicative matrix identities\n",
    "Multiplicative Identity:\n",
    "\n",
    "$\\large\n",
    " \\begin{array}{l}\n",
    "AI=IA=A\\\\\n",
    "A+I\\neq A\n",
    "\\end{array}\n",
    "$\n",
    "\n",
    "\n",
    "Additive Identity:\n",
    "\n",
    "$\\large\n",
    " \\begin{array}{l}\n",
    "A0=0A\\neq A\\\\\n",
    "A+0=A\n",
    "\\end{array}\n",
    "$"
   ]
  },
  {
   "cell_type": "code",
   "execution_count": 12,
   "id": "3f787b75-2948-4319-9e8b-36af1478d9a7",
   "metadata": {},
   "outputs": [
    {
     "name": "stdout",
     "output_type": "stream",
     "text": [
      "A@I == A:   True\n",
      "A == A@I:   True\n",
      "A == A+I:   False\n",
      "A == A+Z:   True\n",
      "A+Z == A@I: True\n"
     ]
    }
   ],
   "source": [
    "# Matrix size\n",
    "n = 4\n",
    "\n",
    "A = np.round(np.random.randn(n))\n",
    "I = np.eye(n)\n",
    "Z = np.zeros(n)\n",
    "\n",
    "# Test both identities\n",
    "print(\"A@I == A:  \", np.array_equal(A@I, A))\n",
    "print(\"A == A@I:  \", np.array_equal(A, A@I))\n",
    "print(\"A == A+I:  \", np.array_equal(A, A+I))\n",
    "print(\"A == A+Z:  \", np.array_equal(A, A+Z))\n",
    "print(\"A+Z == A@I:\", np.array_equal(A+Z, A@I))"
   ]
  },
  {
   "cell_type": "markdown",
   "id": "21539631-2627-48aa-a5dd-5e5af304fb47",
   "metadata": {},
   "source": [
    "## Additive and multiplicative symmetric matrices\n",
    "Symmetric matrix via the **additive** method:\n",
    "$$\\large\n",
    " \\begin{array}{l}\n",
    "S=\\left( A+A^{T}\\right) /2\\\\\n",
    "S=S^{T}\\\\\n",
    "\\text{iff} \\ A\\ \\text{is} \\ n\\times n\\ \\ \\ \\ \\ \\ \\ \\text{(if A is a square matrix)}\\\\\n",
    "\\\\\n",
    "\\text{Example:}\\\\\n",
    "\\begin{bmatrix}\n",
    "a & b & c\\\\\n",
    "d & e & f\\\\\n",
    "g & h & i\n",
    "\\end{bmatrix} +\\begin{bmatrix}\n",
    "a & d & g\\\\\n",
    "b & e & h\\\\\n",
    "c & f & i\n",
    "\\end{bmatrix} =\\begin{bmatrix}\n",
    "a+a & b+d & c+g\\\\\n",
    "b+d & e+e & h+f\\\\\n",
    "c+g & h+f & i+i\n",
    "\\end{bmatrix}\n",
    "\\end{array}\n",
    "$$\n",
    "\n",
    "<br>\n",
    "\n",
    "Multiplicative symmetric matrices ($A^{T}A$ and $AA^T$):\n",
    "$$\\large\n",
    " \\begin{array}{l}\n",
    "\\underset{n\\times m}{A^{T}} \\ \\underset{m\\times n}{A} =\\underset{n\\times n}{S}\\\\\n",
    "\\\\\n",
    "\\underset{m\\times n}{A} \\ \\underset{n\\times m}{A^{T}} =\\underset{m\\times m}{S}\\\\\n",
    "\\\\\n",
    "\\text{Example:}\\\\\n",
    "\\begin{bmatrix}\n",
    "a & b & c\\\\\n",
    "d & e & f\n",
    "\\end{bmatrix}\\begin{bmatrix}\n",
    "a & d\\\\\n",
    "b & e\\\\\n",
    "c & f\n",
    "\\end{bmatrix} =\\begin{bmatrix}\n",
    "a^{2} +b^{2} +c^{2} & ad+be+cf\\\\\n",
    "ad+be+cf & d^{2} +e^{2} +f^{2}\n",
    "\\end{bmatrix}\n",
    "\\end{array}\n",
    "$$"
   ]
  },
  {
   "cell_type": "code",
   "execution_count": 13,
   "id": "97bbbc07-6be7-49ff-a875-169343cfb107",
   "metadata": {},
   "outputs": [
    {
     "name": "stdout",
     "output_type": "stream",
     "text": [
      "[[0. 0. 0. 0. 0.]\n",
      " [0. 0. 0. 0. 0.]\n",
      " [0. 0. 0. 0. 0.]\n",
      " [0. 0. 0. 0. 0.]\n",
      " [0. 0. 0. 0. 0.]]\n"
     ]
    }
   ],
   "source": [
    "# The additive method\n",
    "# Specify sizes\n",
    "m = 5\n",
    "n = 5\n",
    "\n",
    "# Create matrices\n",
    "A = np.random.randn(m,n)\n",
    "S = (A + A.T)/2\n",
    "\n",
    "# A symmetric matrix minus its transpose should be all zeros\n",
    "print(S-S.T)"
   ]
  },
  {
   "cell_type": "code",
   "execution_count": 14,
   "id": "bd1dfc01-effa-4170-91e2-a5c20a2ed4b5",
   "metadata": {},
   "outputs": [
    {
     "name": "stdout",
     "output_type": "stream",
     "text": [
      "(3, 3)\n",
      "(5, 5)\n",
      "\n",
      "[[0. 0. 0.]\n",
      " [0. 0. 0.]\n",
      " [0. 0. 0.]]\n",
      "[[0. 0. 0. 0. 0.]\n",
      " [0. 0. 0. 0. 0.]\n",
      " [0. 0. 0. 0. 0.]\n",
      " [0. 0. 0. 0. 0.]\n",
      " [0. 0. 0. 0. 0.]]\n"
     ]
    }
   ],
   "source": [
    "# The multiplicative method\n",
    "# Specify sizes\n",
    "m = 5\n",
    "n = 3\n",
    "\n",
    "# Create matrices\n",
    "A   = np.random.randn(m,n)\n",
    "AtA = A.T@A\n",
    "AAt = A@A.T\n",
    "\n",
    "# First, show that they are square\n",
    "print(AtA.shape)\n",
    "print(AAt.shape), print()\n",
    "\n",
    "# Next, show that they are symmetric\n",
    "print(AtA - AtA.T)\n",
    "print(AAt - AAt.T)"
   ]
  },
  {
   "cell_type": "markdown",
   "id": "c15d89c0-22c1-405f-8120-2a20d6754741",
   "metadata": {},
   "source": [
    "## Element-wise (Hadamard) multiplication\n",
    "Multiplying each corresponding element of each matrix.\n",
    "\n",
    "$$\\large\n",
    "\\begin{bmatrix}\n",
    "0 & 1 & 2\\\\\n",
    "-1 & 6 & 3\n",
    "\\end{bmatrix} \\odot \\begin{bmatrix}\n",
    "3 & 8 & 5\\\\\n",
    "4 & 1 & -5\n",
    "\\end{bmatrix} =\\begin{bmatrix}\n",
    "0 & 8 & 10\\\\\n",
    "-4 & 6 & -15\n",
    "\\end{bmatrix}\n",
    "$$"
   ]
  },
  {
   "cell_type": "code",
   "execution_count": null,
   "id": "5f1a44e1-0702-4557-a717-b4d663b3fe59",
   "metadata": {},
   "outputs": [],
   "source": []
  }
 ],
 "metadata": {
  "kernelspec": {
   "display_name": "Python 3 (ipykernel)",
   "language": "python",
   "name": "python3"
  },
  "language_info": {
   "codemirror_mode": {
    "name": "ipython",
    "version": 3
   },
   "file_extension": ".py",
   "mimetype": "text/x-python",
   "name": "python",
   "nbconvert_exporter": "python",
   "pygments_lexer": "ipython3",
   "version": "3.9.12"
  }
 },
 "nbformat": 4,
 "nbformat_minor": 5
}
